{
 "cells": [
  {
   "cell_type": "markdown",
   "metadata": {
    "id": "m0LYs30Poh0-"
   },
   "source": [
    "# Using Quantum Kernels for classifcation of Images\n",
    "\n"
   ]
  },
  {
   "cell_type": "markdown",
   "metadata": {
    "id": "pJBcjfXxozJU"
   },
   "source": [
    "Installing required packages Add "
   ]
  },
  {
   "cell_type": "code",
   "execution_count": 13,
   "metadata": {},
   "outputs": [],
   "source": [
    "#pip install tensorflow"
   ]
  },
  {
   "cell_type": "code",
   "execution_count": 14,
   "metadata": {
    "id": "QY8Ur-A2OzQt"
   },
   "outputs": [],
   "source": [
    "#pip install pylatexenc"
   ]
  },
  {
   "cell_type": "code",
   "execution_count": 15,
   "metadata": {
    "colab": {
     "base_uri": "https://localhost:8080/"
    },
    "id": "r6G7JC2ATGw6",
    "outputId": "2f7774b3-e93e-4b78-d36c-435dca7fdf12"
   },
   "outputs": [],
   "source": [
    "#pip install qiskit"
   ]
  },
  {
   "cell_type": "code",
   "execution_count": 16,
   "metadata": {
    "colab": {
     "base_uri": "https://localhost:8080/"
    },
    "id": "oz1Fj33eTIBZ",
    "outputId": "88ece1e3-1ae0-461b-ea37-b022cb1185dc"
   },
   "outputs": [],
   "source": [
    "#pip install qiskit_machine_learning"
   ]
  },
  {
   "cell_type": "code",
   "execution_count": 1,
   "metadata": {
    "colab": {
     "base_uri": "https://localhost:8080/"
    },
    "id": "ke0Rt1jIG73-",
    "outputId": "4696eb72-6aa6-4fd5-a10d-6aa013379616"
   },
   "outputs": [
    {
     "name": "stderr",
     "output_type": "stream",
     "text": [
      "C:\\Users\\AVisha\\AppData\\Local\\Temp\\ipykernel_3172\\3682672223.py:7: DeprecationWarning: ``qiskit.algorithms`` has been migrated to an independent package: https://github.com/qiskit-community/qiskit-algorithms. The ``qiskit.algorithms`` import path is deprecated as of qiskit-terra 0.25.0 and will be removed no earlier than 3 months after the release date. Please run ``pip install qiskit_algorithms`` and use ``import qiskit_algorithms`` instead.\n",
      "  from qiskit.algorithms.state_fidelities import ComputeUncompute\n"
     ]
    },
    {
     "name": "stdout",
     "output_type": "stream",
     "text": [
      "WARNING:tensorflow:From C:\\Users\\AVisha\\anaconda3\\Lib\\site-packages\\keras\\src\\losses.py:2976: The name tf.losses.sparse_softmax_cross_entropy is deprecated. Please use tf.compat.v1.losses.sparse_softmax_cross_entropy instead.\n",
      "\n"
     ]
    }
   ],
   "source": [
    "import numpy as np\n",
    "import matplotlib.pyplot as plt\n",
    "from qiskit import QuantumCircuit\n",
    "from qiskit.circuit import ParameterVector\n",
    "from qiskit.circuit.library import ZZFeatureMap\n",
    "from qiskit.primitives import Sampler\n",
    "from qiskit.algorithms.state_fidelities import ComputeUncompute\n",
    "from qiskit_machine_learning.kernels import FidelityQuantumKernel\n",
    "from sklearn.svm import SVC\n",
    "import time\n",
    "from pylatexenc import *\n",
    "\n",
    "time1 = time.time()\n",
    "# Set a random seed for reproducibility\n",
    "np.random.seed(1001)\n",
    "###############################################################################\n",
    "#Data we Will be using\n",
    "###############################################################################\n",
    "import tarfile\n",
    "import pickle\n",
    "import numpy as np\n",
    "import tensorflow as tf\n",
    "from sklearn.decomposition import PCA\n",
    "\n",
    "import matplotlib.ticker as ticker"
   ]
  },
  {
   "cell_type": "markdown",
   "metadata": {
    "id": "Z0MICRagsI3c"
   },
   "source": [
    "# Classical Definitions - Preprocessing the Data"
   ]
  },
  {
   "cell_type": "code",
   "execution_count": 2,
   "metadata": {
    "id": "-6RIGjosGWsE"
   },
   "outputs": [],
   "source": [
    "def load_cifar10_data(file_path):\n",
    "    with tarfile.open(file_path, \"r:gz\") as tar:\n",
    "        train_data = []\n",
    "        Y_train = []\n",
    "        for member in tar.getmembers():\n",
    "            if \"data_batch\" in member.name:\n",
    "                with tar.extractfile(member) as f:\n",
    "                    data_dict = pickle.load(f, encoding=\"bytes\")\n",
    "                    train_data.append(data_dict[b\"data\"])\n",
    "                    Y_train.extend(data_dict[b\"labels\"])\n",
    "\n",
    "        train_data = np.vstack(train_data).reshape(-1, 3, 32, 32).transpose(0, 2, 3, 1)\n",
    "        Y_train = np.array(Y_train)\n",
    "\n",
    "        with tar.extractfile(\"cifar-10-batches-py/test_batch\") as f:\n",
    "            data_dict = pickle.load(f, encoding=\"bytes\")\n",
    "            X_test = data_dict[b\"data\"].reshape(-1, 3, 32, 32).transpose(0, 2, 3, 1)\n",
    "            Y_test = np.array(data_dict[b\"labels\"])\n",
    "\n",
    "    return (train_data, Y_train), (X_test, Y_test)\n",
    "\n",
    "def preprocess_images(images, size=32):\n",
    "    #images_resized = tf.image.resize(images, [size, size])\n",
    "    images_normalized = images / 255.0\n",
    "    #images_gray = tf.image.rgb_to_grayscale(images_normalized)\n",
    "    return images_normalized\n",
    "\n",
    "def filter_and_preprocess_data(train_images, Y_train, test_images, Y_test, num_training_points, num_testing_points, num_PCA_componants, Disp= True):\n",
    "    cat_dog_filter_train = (Y_train == 3).flatten() | (Y_train == 5).flatten()\n",
    "    cat_dog_filter_test = (Y_test == 3).flatten() | (Y_test == 5).flatten()\n",
    "\n",
    "    X_train = train_images[cat_dog_filter_train]\n",
    "    Y_train = Y_train[cat_dog_filter_train]\n",
    "    X_test = test_images[cat_dog_filter_test]\n",
    "    Y_test = Y_test[cat_dog_filter_test]\n",
    "\n",
    "    # Convert labels: cat (3) -> -1, dog (5) -> 1\n",
    "    Y_train = (Y_train / 5).astype(int)\n",
    "    Y_train = np.where(Y_train == 0, -1, 1)\n",
    "    Y_test = (Y_test / 5).astype(int)\n",
    "    Y_test = np.where(Y_test == 0, -1, 1)\n",
    "\n",
    "    # Preprocess the images\n",
    "    X_train = preprocess_images(X_train)\n",
    "    X_test = preprocess_images(X_test)\n",
    "\n",
    "    # Separate cats and dogs indices\n",
    "    cat_indices_train = np.where(Y_train == -1)[0]\n",
    "    dog_indices_train = np.where(Y_train == 1)[0]\n",
    "    cat_indices_test = np.where(Y_test == -1)[0]\n",
    "    dog_indices_test = np.where(Y_test == 1)[0]\n",
    "\n",
    "    # Randomly select equal number of cats and dogs for training and testing\n",
    "    half_training = num_training_points // 2\n",
    "    half_testing = num_testing_points // 2\n",
    "\n",
    "    random_cat_train_indices = np.random.choice(cat_indices_train, half_training, replace=False)\n",
    "    random_dog_train_indices = np.random.choice(dog_indices_train, half_training, replace=False)\n",
    "    random_cat_test_indices = np.random.choice(cat_indices_test, half_testing, replace=False)\n",
    "    random_dog_test_indices = np.random.choice(dog_indices_test, half_testing, replace=False)\n",
    "\n",
    "    selected_train_indices = np.concatenate([random_cat_train_indices, random_dog_train_indices])\n",
    "    selected_test_indices = np.concatenate([random_cat_test_indices, random_dog_test_indices])\n",
    "\n",
    "    X_train = X_train[selected_train_indices]\n",
    "    Y_train = Y_train[selected_train_indices]\n",
    "    X_test = X_test[selected_test_indices]\n",
    "    Y_test = Y_test[selected_test_indices]\n",
    "\n",
    "    # Flatten and PCA\n",
    "    X_train_flattened = X_train.reshape(X_train.shape[0], -1)\n",
    "    X_test_flattened = X_test.reshape(X_test.shape[0], -1)\n",
    "    print(\"Number of components before PCA:\", X_train_flattened.shape[1])\n",
    "    pca = PCA(n_components=num_PCA_componants)\n",
    "    X_train_reduced = pca.fit_transform(X_train_flattened)\n",
    "    X_test_reduced = pca.transform(X_test_flattened)\n",
    "\n",
    "    # Fit the PCA model\n",
    "    pca = PCA(n_components=num_PCA_componants)\n",
    "    pca.fit(X_train_flattened)\n",
    "    if Disp == True:   \n",
    "        # Calculate cumulative explained variance\n",
    "        cumulative_variance = np.cumsum(pca.explained_variance_ratio_)\n",
    "        \n",
    "        # Find the component for each threshold\n",
    "        thresholds = np.arange(0.1, 1.1, 0.1)\n",
    "        components_for_thresholds = [np.argmax(cumulative_variance > threshold) for threshold in thresholds]\n",
    "        \n",
    "        # Plot the explained variance\n",
    "        plt.plot(cumulative_variance)\n",
    "        plt.gca().set_xscale('symlog')  # Set x-axis to symmetrical log scale\n",
    "        plt.gca().xaxis.set_major_locator(ticker.FixedLocator([0, 1, 2, 5, 10, 50, 100, 500, 1000, 2000, 3072]))  # Set fixed locations for x-axis ticks\n",
    "        plt.xlabel('Number of Components')\n",
    "        plt.ylabel('Cumulative Explained Variance')\n",
    "        plt.title('Explained Variance by Components')\n",
    "        \n",
    "        # Set the x-ticks to be the component numbers\n",
    "        plt.xticks(components_for_thresholds, components_for_thresholds)\n",
    "        \n",
    "        plt.grid(True)\n",
    "        plt.show()\n",
    "    return X_train_reduced, Y_train, X_test_reduced, Y_test\n",
    "\n",
    "# Compute classical SVM score using reduced data\n",
    "def classical_kernel(X_train_reduced, Y_train, X_test_reduced, Y_test):\n",
    "    svc = SVC()\n",
    "    svc.fit(X_train_reduced, Y_train)\n",
    "    classical_svm_score = svc.score(X_test_reduced, Y_test)\n",
    "    return classical_svm_score"
   ]
  },
  {
   "cell_type": "markdown",
   "metadata": {
    "id": "hZQgNjWyrzso"
   },
   "source": [
    "# Quantum Circuit definitions"
   ]
  },
  {
   "cell_type": "code",
   "execution_count": 3,
   "metadata": {
    "id": "lJRnsXCQr4U-"
   },
   "outputs": [],
   "source": [
    "# Define Quantum Embedding Kernel\n",
    "def  paramater_vector(num_features): \n",
    "    '''Embed classical states onto the quantum computer'''\n",
    "    # Define training parameter vector\n",
    "    training_params = ParameterVector(\"θ\", num_features)\n",
    "\n",
    "    # Create the QuantumCircuit fm0\n",
    "    fm0 = QuantumCircuit(num_features)\n",
    "    for i in range(num_features):\n",
    "        fm0.ry(training_params[i], i)\n",
    "\n",
    "    return fm0\n",
    "def ZZ_feature_embedding(num_features):\n",
    "    '''Embed classical states onto the quantum computer'''\n",
    "    # Define training parameter vector\n",
    "    training_params = ParameterVector(\"θ\", num_features)\n",
    "\n",
    "    # Create the QuantumCircuit fm0\n",
    "    fm0 = QuantumCircuit(num_features)\n",
    "    for i in range(num_features):\n",
    "        fm0.ry(training_params[i], i)\n",
    "\n",
    "\n",
    "    # Define ZZFeatureMap\n",
    "    fm1 = ZZFeatureMap(feature_dimension=num_features, reps=1, entanglement='linear')\n",
    "\n",
    "    # Compose the feature map\n",
    "    feature_map = fm0.compose(fm1)\n",
    "    plt.show()\n",
    "    return feature_map, training_params\n",
    "\n",
    "# Define kernel function using FidelityQuantumKernel\n",
    "def kernel(feature_map):\n",
    "    sampler = Sampler()\n",
    "    fidelity = ComputeUncompute(sampler=sampler)\n",
    "    quant_kernel = FidelityQuantumKernel(fidelity=fidelity, feature_map=feature_map, evaluate_duplicates='off_diagonal')\n",
    "    return quant_kernel\n",
    "\n",
    "# Perform quantum SVM classification using precomputed kernel\n",
    "def quantum_svm(kernel_matrix_train, kernel_matrix_test, Y_train, Y_test):\n",
    "    svc = SVC(kernel=\"precomputed\")\n",
    "    svc.fit(kernel_matrix_train, Y_train)\n",
    "    score_precomputed_kernel = svc.score(kernel_matrix_test, Y_test)\n",
    "    print(f\"Precomputed kernel classification test score: {score_precomputed_kernel}\")\n",
    "\n",
    "# Compute Kernel-Target Alignment (KTA)\n",
    "def KTA(K, y, y_outer):\n",
    "    \"\"\"Compute the kernel-target alignment.\"\"\"\n",
    "    denominator = np.sqrt(np.trace(K @ K) * np.trace(y_outer @ y_outer)) + 1e-10\n",
    "    return (y.T @ K @ y) / denominator\n",
    "\n",
    "# Compute gradient of KTA for optimization\n",
    "kta_values = []\n",
    "def KTA_gradient(thetas, X, Y, y_outer,delta_theta=1e-6):\n",
    "    gradients = []\n",
    "    for i, theta in enumerate(thetas):\n",
    "        theta_shifted = np.copy(thetas)\n",
    "        theta_shifted[i] += delta_theta\n",
    "\n",
    "        bound_map_original = feature_map.assign_parameters({training_params[j]: thetas[j] for j in range(len(thetas))})\n",
    "        kernel_matrix_train_original = kernel(bound_map_original).evaluate(x_vec=X)\n",
    "        kta_original = KTA(kernel_matrix_train_original, Y, y_outer)\n",
    "\n",
    "        bound_map_shifted = feature_map.assign_parameters({training_params[j]: theta_shifted[j] for j in range(len(thetas))})\n",
    "        kernel_matrix_train_shifted = kernel(bound_map_shifted).evaluate(x_vec=X)\n",
    "        kta_shifted = KTA(kernel_matrix_train_shifted, Y, y_outer)\n",
    "\n",
    "        gradient = (kta_shifted - kta_original) / delta_theta\n",
    "        gradients.append(gradient)\n",
    "    print(kta_original)\n",
    "    kta_values.append(kta_original)\n",
    "    #print(gradients)\n",
    "    return np.array(gradients)\n",
    "\n",
    "\n",
    "# Plot kernel matrices for visualization\n",
    "def plot_matrix(matrix_train, matrix_test, matrix_train_optimal, matrix_test_optimal):\n",
    "    fig, axs = plt.subplots(2, 2, figsize=(10, 5))\n",
    "    axs[0, 0].imshow(\n",
    "        np.asmatrix(matrix_train), interpolation=\"nearest\", origin=\"upper\", cmap=\"Blues\"\n",
    "    )\n",
    "    axs[0, 0].set_title(\"Training kernel matrix\")\n",
    "\n",
    "    axs[0, 1].imshow(\n",
    "        np.asmatrix(matrix_test), interpolation=\"nearest\", origin=\"upper\", cmap=\"Reds\"\n",
    "    )\n",
    "    axs[0, 1].set_title(\"Testing kernel matrix\")\n",
    "\n",
    "    axs[1, 0].imshow(\n",
    "        np.asmatrix(matrix_train_optimal), interpolation=\"nearest\", origin=\"upper\", cmap=\"Blues\"\n",
    "    )\n",
    "    axs[1, 0].set_title(\"Optimal Training kernel matrix\")\n",
    "\n",
    "    axs[1, 1].imshow(\n",
    "        np.asmatrix(matrix_test_optimal), interpolation=\"nearest\", origin=\"upper\", cmap=\"Reds\"\n",
    "    )\n",
    "    axs[1, 1].set_title(\"Optimal Testing kernel matrix\")\n",
    "\n",
    "    plt.tight_layout()\n",
    "    plt.show()"
   ]
  },
  {
   "cell_type": "markdown",
   "metadata": {},
   "source": [
    "## Testing Functions"
   ]
  },
  {
   "cell_type": "markdown",
   "metadata": {},
   "source": [
    "## Harsh Kenrel"
   ]
  },
  {
   "cell_type": "code",
   "execution_count": 4,
   "metadata": {},
   "outputs": [
    {
     "data": {
      "image/png": "[encoded data removed]",
      "text/plain": [
       "<Figure size 371.107x367.889 with 1 Axes>"
      ]
     },
     "execution_count": 4,
     "metadata": {},
     "output_type": "execute_result"
    }
   ],
   "source": [
    "test_num_qubits = 4\n",
    "\n",
    "test_circuit = QuantumCircuit(test_num_qubits)\n",
    "\n",
    "# The data is a list of random 0's and 1's \n",
    "data_point_1 = [np.random.randint(0, 2) for _ in range(test_num_qubits)]\n",
    "data_point_2 = [np.random.randint(0, 2) for _ in range(test_num_qubits)]\n",
    "\n",
    "\n",
    "# Need to scale bwtweem 0 and Pi to make the 0 orthogonal to 1 \n",
    "data_point_1 = [x * np.pi for x in data_point_1]\n",
    "data_point_2 = [x * np.pi for x in data_point_2]\n",
    "\n",
    "\n",
    "test_circuit = paramater_vector(test_num_qubits)\n",
    "\n",
    "# Creating the circuit drawing\n",
    "test_circuit_draw = test_circuit.compose(test_circuit.inverse())\n",
    "test_circuit_draw.decompose().draw('mpl', style='iqx')\n"
   ]
  },
  {
   "cell_type": "code",
   "execution_count": 5,
   "metadata": {},
   "outputs": [
    {
     "name": "stdout",
     "output_type": "stream",
     "text": [
      "Data point 1: [3.141592653589793, 3.141592653589793, 3.141592653589793, 0.0]\n",
      "Data point 2 [0.0, 3.141592653589793, 0.0, 0.0]\n",
      "Kernel socore between the two data points: [[0.]]\n"
     ]
    }
   ],
   "source": [
    "kernel_matrix = kernel(test_circuit).evaluate(data_point_1,data_point_2)\n",
    "print(f\"Data point 1: {data_point_1}\\nData point 2 {data_point_2}\")\n",
    "print(f\"Kernel socore between the two data points: {kernel_matrix}\")"
   ]
  },
  {
   "cell_type": "markdown",
   "metadata": {},
   "source": [
    "## Paramater Vector and ZZfeaureMap Kernel"
   ]
  },
  {
   "cell_type": "code",
   "execution_count": 10,
   "metadata": {},
   "outputs": [
    {
     "data": {
      "image/png": "[encoded data removed]",
      "text/plain": [
       "<Figure size 872.774x367.889 with 1 Axes>"
      ]
     },
     "execution_count": 10,
     "metadata": {},
     "output_type": "execute_result"
    }
   ],
   "source": [
    "test_num_qubits = 4\n",
    "\n",
    "# The data is a list of random 0's and 1's \n",
    "data_point_1 = [np.random.randint(0, 2) for _ in range(test_num_qubits*2)]\n",
    "data_point_2 = [np.random.randint(0, 2) for _ in range(test_num_qubits*2)]\n",
    "\n",
    "\n",
    "# Need to scale bwtweem 0 and Pi to make the 0 orthogonal to 1 \n",
    "data_point_1 = [x * np.pi for x in data_point_1]\n",
    "data_point_2 = [x * np.pi for x in data_point_2]\n",
    "\n",
    "feature_map, training_params = ZZ_feature_embedding(test_num_qubits)\n",
    "\n",
    "test_circuit_draw = QuantumCircuit(test_num_qubits)\n",
    "test_circuit_draw = test_circuit_draw.compose(feature_map)\n",
    "test_circuit_draw = test_circuit_draw.compose(feature_map.inverse())\n",
    "test_circuit_draw.draw('mpl', style='iqp')"
   ]
  },
  {
   "cell_type": "code",
   "execution_count": 11,
   "metadata": {},
   "outputs": [
    {
     "name": "stdout",
     "output_type": "stream",
     "text": [
      "Data point 1: [0.0, 0.0, 3.141592653589793, 0.0, 3.141592653589793, 0.0, 0.0, 3.141592653589793]\n",
      "Data point 2 [0.0, 0.0, 3.141592653589793, 3.141592653589793, 3.141592653589793, 0.0, 0.0, 0.0]\n",
      "Kernel socore between the two data points: [[0.]]\n"
     ]
    }
   ],
   "source": [
    "# This is an exaple of hoe the ZZFeatureMap Kernel works with trainable variable paramaters at the beginning and end of the circuit\n",
    "kernel_matrix = kernel(feature_map).evaluate(data_point_1,data_point_2)\n",
    "print(f\"Data point 1: {data_point_1}\\nData point 2 {data_point_2}\")\n",
    "print(f\"Kernel socore between the two data points: {kernel_matrix}\")"
   ]
  },
  {
   "cell_type": "markdown",
   "metadata": {
    "id": "bLVYsAgWzCfQ"
   },
   "source": [
    "# Loading in the Data set"
   ]
  },
  {
   "cell_type": "code",
   "execution_count": 12,
   "metadata": {},
   "outputs": [],
   "source": [
    "# Load CIFAR-10 dataset and preprocess data\n",
    "file_path = r\"cifar-10-python.tar.gz\" # You should adjust this to the path of your CIFAR-10 dataset tarball\n",
    "(train_images, Y_train_original), (test_images, Y_test_original) = load_cifar10_data(file_path)"
   ]
  },
  {
   "cell_type": "code",
   "execution_count": 13,
   "metadata": {
    "colab": {
     "base_uri": "https://localhost:8080/",
     "height": 507
    },
    "id": "vZe3YtbeHg70",
    "outputId": "86d3b97e-39ba-495b-96dc-4448cc4ef3e5"
   },
   "outputs": [
    {
     "name": "stdout",
     "output_type": "stream",
     "text": [
      "Number of components before PCA: 3072\n"
     ]
    },
    {
     "data": {
      "image/png": "[encoded data removed]",
      "text/plain": [
       "<Figure size 640x480 with 1 Axes>"
      ]
     },
     "metadata": {},
     "output_type": "display_data"
    }
   ],
   "source": [
    "# Define the number of training/testing points, PCA components, and quantum circuit layers\n",
    "# To find how many features represent 80% of the varience in the data\n",
    "num_training_points = 4000\n",
    "num_testing_points = 100\n",
    "num_features = 3072\n",
    "\n",
    "# Filter and preprocess data\n",
    "X_train, Y_train, X_test, Y_test = filter_and_preprocess_data(train_images, Y_train_original, test_images, Y_test_original, num_training_points, num_testing_points, num_features)"
   ]
  },
  {
   "cell_type": "markdown",
   "metadata": {},
   "source": [
    "### We can see that 14 features can represent 70% of the data, 31 features represent 80% of the data and 84 features represent 90% of the data. We ue x features do to the limitaions of the simulator available."
   ]
  },
  {
   "cell_type": "code",
   "execution_count": null,
   "metadata": {},
   "outputs": [],
   "source": []
  },
  {
   "cell_type": "code",
   "execution_count": 46,
   "metadata": {},
   "outputs": [
    {
     "name": "stdout",
     "output_type": "stream",
     "text": [
      "Number of components before PCA: 3072\n"
     ]
    }
   ],
   "source": [
    "num_training_points = 100\n",
    "num_testing_points = 50\n",
    "num_features = 4\n",
    "\n",
    "# Filter and preprocess data\n",
    "X_train, Y_train, X_test, Y_test = filter_and_preprocess_data(train_images, Y_train_original, test_images, Y_test_original, num_training_points, num_testing_points, num_features, Disp = False)"
   ]
  },
  {
   "cell_type": "markdown",
   "metadata": {},
   "source": [
    "## Testing the Data with a classical RBF kernel"
   ]
  },
  {
   "cell_type": "code",
   "execution_count": 47,
   "metadata": {},
   "outputs": [
    {
     "name": "stdout",
     "output_type": "stream",
     "text": [
      "Classical rbf kernel classification test score: 0.46\n"
     ]
    }
   ],
   "source": [
    "# Test using classical RBF SVM\n",
    "classical_svm_score = classical_kernel(X_train, Y_train, X_test, Y_test)\n",
    "print(f\"Classical rbf kernel classification test score: {classical_svm_score}\")"
   ]
  },
  {
   "cell_type": "code",
   "execution_count": 48,
   "metadata": {
    "colab": {
     "background_save": true,
     "base_uri": "https://localhost:8080/"
    },
    "id": "yttq-r1yikVJ",
    "outputId": "a23940e4-fb39-47fb-988d-2d0afc82f543"
   },
   "outputs": [],
   "source": [
    " # Test with random (untrained) parameters\n",
    "feature_map, training_params = ZZ_feature_embedding(num_features)\n",
    "#theta = [1.2566370614359172, 3.141592653589793, 2.5132741228718345, 0.0] #some trained params\n",
    "theta = np.random.uniform(0,2*np.pi,num_features)\n",
    "# Optimal theta: [5.201432097848048, 0.16795640707114898, 2.340889651896597, -0.06494248625237167]\n",
    "bound_map = feature_map.assign_parameters({training_params[i]: theta[i] for i in range(num_features)})"
   ]
  },
  {
   "cell_type": "code",
   "execution_count": 49,
   "metadata": {},
   "outputs": [],
   "source": [
    "kernel_matrix_train = kernel(bound_map).evaluate(x_vec=X_train)"
   ]
  },
  {
   "cell_type": "code",
   "execution_count": 50,
   "metadata": {},
   "outputs": [],
   "source": [
    "kernel_matrix_test = kernel(bound_map).evaluate(x_vec=X_test, y_vec=X_train)"
   ]
  },
  {
   "cell_type": "code",
   "execution_count": 51,
   "metadata": {},
   "outputs": [
    {
     "name": "stdout",
     "output_type": "stream",
     "text": [
      "Train SVM Score: 0.76, Test SVM Score: 0.56\n"
     ]
    }
   ],
   "source": [
    "quantum_svm(kernel_matrix_train, kernel_matrix_test, Y_train, Y_test)"
   ]
  },
  {
   "cell_type": "code",
   "execution_count": 52,
   "metadata": {
    "colab": {
     "base_uri": "https://localhost:8080/"
    },
    "id": "zIXSNFmvQE8u",
    "outputId": "ece19447-208f-4d5d-d3a0-4a597a3e98c9"
   },
   "outputs": [
    {
     "name": "stdout",
     "output_type": "stream",
     "text": [
      "Initial KTA: 0.037530821138969196\n"
     ]
    }
   ],
   "source": [
    "# Calculate and display the initial KTA\n",
    "y_outer = np.outer(Y_train, Y_train) #can optimise becuase you only need this once\n",
    "kta = KTA(kernel_matrix_train, Y_train, y_outer)\n",
    "print(\"Initial KTA:\", kta)\n"
   ]
  },
  {
   "cell_type": "markdown",
   "metadata": {},
   "source": [
    "## Gradient Free Optimisation"
   ]
  },
  {
   "cell_type": "code",
   "execution_count": 53,
   "metadata": {
    "scrolled": true
   },
   "outputs": [
    {
     "name": "stdout",
     "output_type": "stream",
     "text": [
      "N Features - 4 N Qubits - 2\n"
     ]
    },
    {
     "name": "stderr",
     "output_type": "stream",
     "text": [
      "C:\\Users\\AVisha\\AppData\\Local\\Temp\\ipykernel_3172\\2581699462.py:6: DeprecationWarning: The method ``qiskit.circuit.quantumcircuit.QuantumCircuit.bind_parameters()`` is deprecated as of qiskit 0.45.0. It will be removed no earlier than 3 months after the release date. Use assign_parameters() instead\n",
      "  bound_map = feature_map.bind_parameters({training_params[j]: thetas[j] for j in range(len(thetas))})\n"
     ]
    },
    {
     "name": "stdout",
     "output_type": "stream",
     "text": [
      "Iteration 1 - KTA: 0.04069175511633449 - Time: 357.02906036376953\n",
      "Iteration 2 - KTA: 0.041673776272846526 - Time: 136.254638671875\n",
      "Iteration 3 - KTA: 0.04483583263014001 - Time: 136.32313179969788\n",
      "Iteration 4 - KTA: 0.04483583263014001 - Time: 137.03296446800232\n",
      "Iteration 5 - KTA: 0.04483583263014001 - Time: 133.71810460090637\n",
      "Iteration 6 - KTA: 0.0487802565694739 - Time: 136.9567220211029\n",
      "Iteration 7 - KTA: 0.0487802565694739 - Time: 94.25331020355225\n",
      "Iteration 8 - KTA: 0.05650191811568149 - Time: 138.93618988990784\n",
      "Iteration 9 - KTA: 0.05650191811568149 - Time: 91.98808646202087\n",
      "Iteration 10 - KTA: 0.05650191811568149 - Time: 87.28265047073364\n",
      "Iteration 10 - Train SVM Score: 0.87, Test SVM Score: 0.58\n"
     ]
    },
    {
     "name": "stderr",
     "output_type": "stream",
     "text": [
      "C:\\Users\\AVisha\\AppData\\Local\\Temp\\ipykernel_3172\\2581699462.py:6: DeprecationWarning: The method ``qiskit.circuit.quantumcircuit.QuantumCircuit.bind_parameters()`` is deprecated as of qiskit 0.45.0. It will be removed no earlier than 3 months after the release date. Use assign_parameters() instead\n",
      "  bound_map = feature_map.bind_parameters({training_params[j]: thetas[j] for j in range(len(thetas))})\n"
     ]
    },
    {
     "name": "stdout",
     "output_type": "stream",
     "text": [
      "Iteration 11 - KTA: 0.05650191811568149 - Time: 230.52662539482117\n",
      "Iteration 12 - KTA: 0.05863645528852244 - Time: 142.91130781173706\n",
      "Iteration 13 - KTA: 0.05863645528852244 - Time: 90.01893711090088\n",
      "Iteration 14 - KTA: 0.06387591987649936 - Time: 146.1187722682953\n",
      "Iteration 15 - KTA: 0.06387591987649936 - Time: 100.6063506603241\n",
      "Iteration 16 - KTA: 0.06764369108319451 - Time: 157.3821415901184\n",
      "Iteration 17 - KTA: 0.06764369108319451 - Time: 149.38186740875244\n",
      "Iteration 18 - KTA: 0.07511055998330625 - Time: 153.27382159233093\n",
      "Iteration 19 - KTA: 0.07511055998330625 - Time: 96.8030219078064\n",
      "Iteration 20 - KTA: 0.07511055998330625 - Time: 105.67521595954895\n",
      "Iteration 20 - Train SVM Score: 0.9, Test SVM Score: 0.58\n"
     ]
    },
    {
     "name": "stderr",
     "output_type": "stream",
     "text": [
      "C:\\Users\\AVisha\\AppData\\Local\\Temp\\ipykernel_3172\\2581699462.py:6: DeprecationWarning: The method ``qiskit.circuit.quantumcircuit.QuantumCircuit.bind_parameters()`` is deprecated as of qiskit 0.45.0. It will be removed no earlier than 3 months after the release date. Use assign_parameters() instead\n",
      "  bound_map = feature_map.bind_parameters({training_params[j]: thetas[j] for j in range(len(thetas))})\n"
     ]
    },
    {
     "name": "stdout",
     "output_type": "stream",
     "text": [
      "Iteration 21 - KTA: 0.07511055998330625 - Time: 212.1355857849121\n",
      "Iteration 22 - KTA: 0.07511055998330625 - Time: 99.24842190742493\n",
      "Iteration 23 - KTA: 0.07511055998330625 - Time: 151.68511748313904\n",
      "Iteration 24 - KTA: 0.07511055998330625 - Time: 102.70465469360352\n",
      "Iteration 25 - KTA: 0.07511055998330625 - Time: 150.65967893600464\n",
      "Iteration 26 - KTA: 0.07511055998330625 - Time: 145.66568875312805\n",
      "Iteration 27 - KTA: 0.07759792045229194 - Time: 155.65637493133545\n",
      "Iteration 28 - KTA: 0.07759792045229194 - Time: 99.68536305427551\n",
      "Iteration 29 - KTA: 0.07759792045229194 - Time: 99.5987000465393\n",
      "Iteration 30 - KTA: 0.07759792045229194 - Time: 106.1529426574707\n",
      "Iteration 30 - Train SVM Score: 0.91, Test SVM Score: 0.58\n"
     ]
    },
    {
     "name": "stderr",
     "output_type": "stream",
     "text": [
      "C:\\Users\\AVisha\\AppData\\Local\\Temp\\ipykernel_3172\\2581699462.py:6: DeprecationWarning: The method ``qiskit.circuit.quantumcircuit.QuantumCircuit.bind_parameters()`` is deprecated as of qiskit 0.45.0. It will be removed no earlier than 3 months after the release date. Use assign_parameters() instead\n",
      "  bound_map = feature_map.bind_parameters({training_params[j]: thetas[j] for j in range(len(thetas))})\n"
     ]
    },
    {
     "name": "stdout",
     "output_type": "stream",
     "text": [
      "Iteration 31 - KTA: 0.07940473021930002 - Time: 255.19906663894653\n",
      "Iteration 32 - KTA: 0.07940473021930002 - Time: 103.17064332962036\n",
      "Iteration 33 - KTA: 0.07940473021930002 - Time: 154.416601896286\n",
      "Iteration 34 - KTA: 0.07940473021930002 - Time: 156.99292016029358\n",
      "Iteration 35 - KTA: 0.07940473021930002 - Time: 99.99230551719666\n",
      "Iteration 36 - KTA: 0.0794740918570026 - Time: 152.7057523727417\n",
      "Iteration 37 - KTA: 0.07951720118333494 - Time: 150.6968846321106\n",
      "Iteration 38 - KTA: 0.07951720118333494 - Time: 103.33335304260254\n",
      "Iteration 39 - KTA: 0.07951720118333494 - Time: 102.21922206878662\n",
      "Iteration 40 - KTA: 0.07958374448484244 - Time: 152.23688507080078\n",
      "Iteration 40 - Train SVM Score: 0.94, Test SVM Score: 0.52\n"
     ]
    },
    {
     "name": "stderr",
     "output_type": "stream",
     "text": [
      "C:\\Users\\AVisha\\AppData\\Local\\Temp\\ipykernel_3172\\2581699462.py:6: DeprecationWarning: The method ``qiskit.circuit.quantumcircuit.QuantumCircuit.bind_parameters()`` is deprecated as of qiskit 0.45.0. It will be removed no earlier than 3 months after the release date. Use assign_parameters() instead\n",
      "  bound_map = feature_map.bind_parameters({training_params[j]: thetas[j] for j in range(len(thetas))})\n"
     ]
    },
    {
     "name": "stdout",
     "output_type": "stream",
     "text": [
      "Iteration 41 - KTA: 0.07958374448484244 - Time: 252.7619469165802\n",
      "Iteration 42 - KTA: 0.07960694673090662 - Time: 153.59109807014465\n",
      "Iteration 43 - KTA: 0.07961497323997559 - Time: 154.58505725860596\n",
      "Iteration 44 - KTA: 0.07961567768277777 - Time: 150.41829681396484\n",
      "Iteration 45 - KTA: 0.07964504146555726 - Time: 146.83645939826965\n",
      "Iteration 46 - KTA: 0.07964504146555726 - Time: 158.0921483039856\n",
      "Iteration 47 - KTA: 0.07964504146555726 - Time: 98.91792058944702\n",
      "Iteration 48 - KTA: 0.07965265528807661 - Time: 157.04387068748474\n",
      "Iteration 49 - KTA: 0.07965871873726244 - Time: 152.68027877807617\n",
      "Iteration 50 - KTA: 0.079663312672 - Time: 149.5026843547821\n",
      "Iteration 50 - Train SVM Score: 0.94, Test SVM Score: 0.52\n"
     ]
    },
    {
     "name": "stderr",
     "output_type": "stream",
     "text": [
      "C:\\Users\\AVisha\\AppData\\Local\\Temp\\ipykernel_3172\\2581699462.py:6: DeprecationWarning: The method ``qiskit.circuit.quantumcircuit.QuantumCircuit.bind_parameters()`` is deprecated as of qiskit 0.45.0. It will be removed no earlier than 3 months after the release date. Use assign_parameters() instead\n",
      "  bound_map = feature_map.bind_parameters({training_params[j]: thetas[j] for j in range(len(thetas))})\n"
     ]
    },
    {
     "name": "stdout",
     "output_type": "stream",
     "text": [
      "Iteration 51 - KTA: 0.07966397444423626 - Time: 256.9752902984619\n",
      "Iteration 52 - KTA: 0.07966565948668479 - Time: 157.62601590156555\n",
      "Iteration 53 - KTA: 0.07966836350809126 - Time: 155.83176016807556\n",
      "Iteration 54 - KTA: 0.07968441661249898 - Time: 148.1449670791626\n",
      "Iteration 55 - KTA: 0.07968441661249898 - Time: 153.44742393493652\n",
      "Iteration 56 - KTA: 0.07968441661249898 - Time: 100.20324850082397\n",
      "Iteration 57 - KTA: 0.0797112906247033 - Time: 159.4832878112793\n",
      "Iteration 58 - KTA: 0.0797112906247033 - Time: 98.94310927391052\n",
      "Iteration 59 - KTA: 0.0797112906247033 - Time: 101.64914870262146\n",
      "Iteration 60 - KTA: 0.0797112906247033 - Time: 101.35063862800598\n",
      "Iteration 60 - Train SVM Score: 0.94, Test SVM Score: 0.52\n"
     ]
    },
    {
     "name": "stderr",
     "output_type": "stream",
     "text": [
      "C:\\Users\\AVisha\\AppData\\Local\\Temp\\ipykernel_3172\\2581699462.py:6: DeprecationWarning: The method ``qiskit.circuit.quantumcircuit.QuantumCircuit.bind_parameters()`` is deprecated as of qiskit 0.45.0. It will be removed no earlier than 3 months after the release date. Use assign_parameters() instead\n",
      "  bound_map = feature_map.bind_parameters({training_params[j]: thetas[j] for j in range(len(thetas))})\n"
     ]
    },
    {
     "name": "stdout",
     "output_type": "stream",
     "text": [
      "Iteration 61 - KTA: 0.0797112906247033 - Time: 211.29550051689148\n",
      "Iteration 62 - KTA: 0.07971445394836676 - Time: 150.14083671569824\n",
      "Iteration 63 - KTA: 0.07976188308775979 - Time: 151.36179208755493\n",
      "Iteration 64 - KTA: 0.07976188308775979 - Time: 100.11960673332214\n",
      "Iteration 65 - KTA: 0.07976188308775979 - Time: 105.66324400901794\n",
      "Iteration 66 - KTA: 0.07980529472682346 - Time: 150.5984754562378\n",
      "Iteration 67 - KTA: 0.07982428207090478 - Time: 154.36149644851685\n",
      "Iteration 68 - KTA: 0.07988809574471813 - Time: 153.5212516784668\n",
      "Iteration 69 - KTA: 0.07995720322648994 - Time: 147.56725931167603\n",
      "Iteration 70 - KTA: 0.08012525127284183 - Time: 153.15067291259766\n",
      "Iteration 70 - Train SVM Score: 0.94, Test SVM Score: 0.54\n"
     ]
    },
    {
     "name": "stderr",
     "output_type": "stream",
     "text": [
      "C:\\Users\\AVisha\\AppData\\Local\\Temp\\ipykernel_3172\\2581699462.py:6: DeprecationWarning: The method ``qiskit.circuit.quantumcircuit.QuantumCircuit.bind_parameters()`` is deprecated as of qiskit 0.45.0. It will be removed no earlier than 3 months after the release date. Use assign_parameters() instead\n",
      "  bound_map = feature_map.bind_parameters({training_params[j]: thetas[j] for j in range(len(thetas))})\n"
     ]
    },
    {
     "name": "stdout",
     "output_type": "stream",
     "text": [
      "Iteration 71 - KTA: 0.08012525127284183 - Time: 202.91711258888245\n",
      "Iteration 72 - KTA: 0.08038065726553167 - Time: 152.22519063949585\n",
      "Iteration 73 - KTA: 0.08038065726553167 - Time: 97.19934320449829\n",
      "Iteration 74 - KTA: 0.08070906103757133 - Time: 159.06867098808289\n",
      "Iteration 75 - KTA: 0.08070906103757133 - Time: 100.03465342521667\n",
      "Iteration 76 - KTA: 0.08116843430934764 - Time: 157.7480664253235\n",
      "Iteration 77 - KTA: 0.08116843430934764 - Time: 99.28949332237244\n",
      "Iteration 78 - KTA: 0.08136043235961854 - Time: 157.82897424697876\n",
      "Iteration 79 - KTA: 0.08136043235961854 - Time: 101.42147445678711\n",
      "Iteration 80 - KTA: 0.08136043235961854 - Time: 97.61281085014343\n",
      "Iteration 80 - Train SVM Score: 0.92, Test SVM Score: 0.56\n"
     ]
    },
    {
     "name": "stderr",
     "output_type": "stream",
     "text": [
      "C:\\Users\\AVisha\\AppData\\Local\\Temp\\ipykernel_3172\\2581699462.py:6: DeprecationWarning: The method ``qiskit.circuit.quantumcircuit.QuantumCircuit.bind_parameters()`` is deprecated as of qiskit 0.45.0. It will be removed no earlier than 3 months after the release date. Use assign_parameters() instead\n",
      "  bound_map = feature_map.bind_parameters({training_params[j]: thetas[j] for j in range(len(thetas))})\n"
     ]
    },
    {
     "name": "stdout",
     "output_type": "stream",
     "text": [
      "Iteration 81 - KTA: 0.08137171068985821 - Time: 258.0793538093567\n",
      "Iteration 82 - KTA: 0.08140620039868841 - Time: 158.59243869781494\n",
      "Iteration 83 - KTA: 0.08142130939525102 - Time: 149.36381649971008\n",
      "Iteration 84 - KTA: 0.08142978855736227 - Time: 157.2463161945343\n",
      "Iteration 85 - KTA: 0.08142978855736227 - Time: 99.43884491920471\n",
      "Iteration 86 - KTA: 0.08142978855736227 - Time: 103.55868101119995\n",
      "Iteration 87 - KTA: 0.08147194573217577 - Time: 152.9745705127716\n",
      "Iteration 88 - KTA: 0.08147194573217577 - Time: 156.1371614933014\n",
      "Iteration 89 - KTA: 0.08147194573217577 - Time: 151.61915230751038\n",
      "Iteration 90 - KTA: 0.08147194573217577 - Time: 150.85152292251587\n",
      "Iteration 90 - Train SVM Score: 0.93, Test SVM Score: 0.54\n"
     ]
    },
    {
     "name": "stderr",
     "output_type": "stream",
     "text": [
      "C:\\Users\\AVisha\\AppData\\Local\\Temp\\ipykernel_3172\\2581699462.py:6: DeprecationWarning: The method ``qiskit.circuit.quantumcircuit.QuantumCircuit.bind_parameters()`` is deprecated as of qiskit 0.45.0. It will be removed no earlier than 3 months after the release date. Use assign_parameters() instead\n",
      "  bound_map = feature_map.bind_parameters({training_params[j]: thetas[j] for j in range(len(thetas))})\n"
     ]
    },
    {
     "name": "stdout",
     "output_type": "stream",
     "text": [
      "Iteration 91 - KTA: 0.08148418435916732 - Time: 262.6388018131256\n",
      "Iteration 92 - KTA: 0.08148418435916732 - Time: 157.37560868263245\n",
      "Iteration 93 - KTA: 0.08148624631716388 - Time: 152.68190121650696\n",
      "Iteration 94 - KTA: 0.08148624631716388 - Time: 103.57859086990356\n",
      "Iteration 95 - KTA: 0.08148659879788708 - Time: 147.61944365501404\n",
      "Iteration 96 - KTA: 0.08148980628540074 - Time: 156.29601907730103\n",
      "Iteration 97 - KTA: 0.08148980628540074 - Time: 164.05882859230042\n",
      "Iteration 98 - KTA: 0.0814900063388024 - Time: 154.11754870414734\n",
      "Iteration 99 - KTA: 0.08149156264212393 - Time: 153.6151852607727\n",
      "Iteration 100 - KTA: 0.08149156264212393 - Time: 101.39056491851807\n",
      "Iteration 100 - Train SVM Score: 0.92, Test SVM Score: 0.54\n"
     ]
    },
    {
     "name": "stderr",
     "output_type": "stream",
     "text": [
      "C:\\Users\\AVisha\\AppData\\Local\\Temp\\ipykernel_3172\\2581699462.py:6: DeprecationWarning: The method ``qiskit.circuit.quantumcircuit.QuantumCircuit.bind_parameters()`` is deprecated as of qiskit 0.45.0. It will be removed no earlier than 3 months after the release date. Use assign_parameters() instead\n",
      "  bound_map = feature_map.bind_parameters({training_params[j]: thetas[j] for j in range(len(thetas))})\n"
     ]
    },
    {
     "name": "stdout",
     "output_type": "stream",
     "text": [
      "Iteration 101 - KTA: 0.08149156264212393 - Time: 262.52015447616577\n",
      "Iteration 102 - KTA: 0.0814917632157939 - Time: 160.66430377960205\n",
      "Iteration 103 - KTA: 0.0814917632157939 - Time: 154.35660409927368\n",
      "Iteration 104 - KTA: 0.08149207717811688 - Time: 152.85131764411926\n",
      "Iteration 105 - KTA: 0.08149207717811688 - Time: 159.47086834907532\n",
      "Iteration 106 - KTA: 0.08149207717811688 - Time: 156.98356294631958\n",
      "Iteration 107 - KTA: 0.08149212502944508 - Time: 151.49159955978394\n",
      "Iteration 108 - KTA: 0.08149212502944508 - Time: 104.63946986198425\n",
      "Iteration 109 - KTA: 0.08149212502944508 - Time: 104.86846232414246\n",
      "Iteration 110 - KTA: 0.08149216342611916 - Time: 147.20773220062256\n",
      "Iteration 110 - Train SVM Score: 0.92, Test SVM Score: 0.54\n"
     ]
    },
    {
     "name": "stderr",
     "output_type": "stream",
     "text": [
      "C:\\Users\\AVisha\\AppData\\Local\\Temp\\ipykernel_3172\\2581699462.py:6: DeprecationWarning: The method ``qiskit.circuit.quantumcircuit.QuantumCircuit.bind_parameters()`` is deprecated as of qiskit 0.45.0. It will be removed no earlier than 3 months after the release date. Use assign_parameters() instead\n",
      "  bound_map = feature_map.bind_parameters({training_params[j]: thetas[j] for j in range(len(thetas))})\n"
     ]
    },
    {
     "name": "stdout",
     "output_type": "stream",
     "text": [
      "Iteration 111 - KTA: 0.08149216524815092 - Time: 258.86128067970276\n",
      "Iteration 112 - KTA: 0.08149218853416941 - Time: 158.01296043395996\n",
      "Iteration 113 - KTA: 0.08149220233468184 - Time: 157.12630081176758\n",
      "Iteration 114 - KTA: 0.08149220665049223 - Time: 149.47985577583313\n",
      "Iteration 115 - KTA: 0.08149220665049223 - Time: 104.23231410980225\n",
      "Iteration 116 - KTA: 0.08149221108578397 - Time: 152.13626766204834\n",
      "Iteration 117 - KTA: 0.08149221430211397 - Time: 156.26323580741882\n",
      "Iteration 118 - KTA: 0.08149221536906855 - Time: 157.01456952095032\n",
      "Iteration 119 - KTA: 0.08149221536906855 - Time: 46.77872610092163\n",
      "Optimization terminated successfully.\n",
      "         Current function value: -0.081492\n",
      "         Iterations: 119\n",
      "         Function evaluations: 202\n",
      "Optimal theta: [ 6.70195334  6.2295602  -0.03590189  3.3650391 ]\n",
      "17374.03459763527 seconds\n",
      "Train SVM Score: 0.92, Test SVM Score: 0.54\n"
     ]
    }
   ],
   "source": [
    "import numpy as np\n",
    "from scipy.optimize import minimize\n",
    "import matplotlib.pyplot as plt\n",
    "import time\n",
    "import pandas as pd\n",
    "print(f'N Features - {num_features} N Qubits - {num_qubits}')\n",
    "\n",
    "# Define a list to store KTA values at each iteration\n",
    "kta_history = []\n",
    "train_validation = []\n",
    "test_validation = []\n",
    "\n",
    "# Modify the callback function to calculate and save the SVM scores\n",
    "def save_kta_per_iteration(thetas):\n",
    "    global time4\n",
    "    current_kta = -objective_function(thetas, X_train, Y_train, y_outer, feature_map, training_params)\n",
    "    kta_history.append(current_kta)\n",
    "    time3 = time.time()\n",
    "    print(f\"Iteration {len(kta_history)} - KTA: {current_kta} - Time: {time3-time4}\")\n",
    "    time4 = time3\n",
    "    # Every 10 iterations, calculate the SVM score for both the training and testing sets\n",
    "    if len(kta_history) % 10 == 0:\n",
    "        # Update the feature map with the current thetas\n",
    "        bound_map_current = feature_map.assign_parameters({training_params[j]: thetas[j] for j in range(len(thetas))})\n",
    "        \n",
    "        # Calculate the current kernel matrices\n",
    "        kernel_matrix_train_current = kernel(bound_map_current).evaluate(x_vec=X_train)\n",
    "        kernel_matrix_test_current = kernel(bound_map_current).evaluate(x_vec=X_test, y_vec=X_train)\n",
    "        \n",
    "        # Calculate the SVM scores\n",
    "        current_train_score, current_test_score = quantum_svm(kernel_matrix_train_current, kernel_matrix_test_current, Y_train, Y_test, return_scores=True)\n",
    "        \n",
    "        # Save the scores\n",
    "        train_validation.append(current_train_score)\n",
    "        test_validation.append(current_test_score)\n",
    "\n",
    "        print(f\"Iteration {len(kta_history)} - Train SVM Score: {current_train_score}, Test SVM Score: {current_test_score}\")\n",
    "\n",
    "def quantum_svm(kernel_matrix_train, kernel_matrix_test, Y_train, Y_test, return_scores=False):\n",
    "    svc = SVC(kernel=\"precomputed\")\n",
    "    svc.fit(kernel_matrix_train, Y_train)\n",
    "    train_score = svc.score(kernel_matrix_train, Y_train)\n",
    "    test_score = svc.score(kernel_matrix_test, Y_test)\n",
    "    if return_scores:\n",
    "        return train_score, test_score\n",
    "    else:\n",
    "        print(f\"Train SVM Score: {train_score}, Test SVM Score: {test_score}\")\n",
    "        \n",
    "\n",
    "# Get the feature map and training parameters\n",
    "feature_map, training_params = ZZ_feature_embedding(num_features)\n",
    "\n",
    "# Define initial parameters for optimization\n",
    "initial_theta = np.random.uniform(0, 2*np.pi, num_features)\n",
    "\n",
    "# Record the start time\n",
    "t1 = time.time()\n",
    "global time4\n",
    "time4 = time.time()\n",
    "# Run the Nelder-Mead optimization\n",
    "result = minimize(\n",
    "    objective_function, \n",
    "    initial_theta, \n",
    "    args=(X_train, Y_train, y_outer, feature_map, training_params),\n",
    "    method='Nelder-Mead',\n",
    "    callback=save_kta_per_iteration,  # Pass the callback function\n",
    "    options={'maxiter': 120, 'xatol': 1e-3, 'fatol': 1e-3, 'disp': True}\n",
    ")\n",
    "\n",
    "# Extract the optimal parameters\n",
    "optimal_theta = result.x\n",
    "print(\"Optimal theta:\", optimal_theta)\n",
    "\n",
    "# Record the end time and calculate the elapsed time\n",
    "t2 = time.time()\n",
    "print(t2-t1, 'seconds')\n",
    "\n",
    "# Calculate the kernel matrix using the optimal parameters\n",
    "bound_map_optimal = feature_map.assign_parameters({training_params[i]: optimal_theta[i] for i in range(len(optimal_theta))})\n",
    "kernel_matrix_train_optimal = kernel(bound_map_optimal).evaluate(x_vec=X_train)\n",
    "kernel_matrix_test_optimal = kernel(bound_map_optimal).evaluate(x_vec=X_test, y_vec=X_train)\n",
    "\n",
    "# Perform quantum SVM classification using precomputed kernel with optimal parameters\n",
    "quantum_svm(kernel_matrix_train_optimal, kernel_matrix_test_optimal, Y_train, Y_test)"
   ]
  },
  {
   "cell_type": "code",
   "execution_count": 54,
   "metadata": {},
   "outputs": [
    {
     "name": "stdout",
     "output_type": "stream",
     "text": [
      "Optimization details saved to optimization_details.csv\n"
     ]
    },
    {
     "data": {
      "image/png": "[encoded data removed]",
      "text/plain": [
       "<Figure size 640x480 with 1 Axes>"
      ]
     },
     "metadata": {},
     "output_type": "display_data"
    }
   ],
   "source": [
    "import os\n",
    "# Perform quantum SVM classification using precomputed kernel with optimal parameters\n",
    "train_score, test_score = quantum_svm(kernel_matrix_train_optimal, kernel_matrix_test_optimal, Y_train, Y_test, return_scores=True)\n",
    "\n",
    "# Store the results in a DataFrame\n",
    "optimization_details = {\n",
    "    'Optimization Method': ['Nelder-Mead'],\n",
    "    'Num Qubits': [num_features],\n",
    "    'Num Iterations': [len(kta_history)],\n",
    "    'SVM Train Score': [train_score],\n",
    "    'SVM Test Score': [test_score],\n",
    "    'KTA List': [kta_history],\n",
    "    'Optimised Weights': [optimal_theta.tolist()]\n",
    "}\n",
    "\n",
    "# Define the CSV file path\n",
    "csv_file_path = 'optimization_details.csv'\n",
    "\n",
    "# Check if the file already exists\n",
    "if os.path.isfile(csv_file_path):\n",
    "    # Load the existing CSV file into a DataFrame\n",
    "    df_existing = pd.read_csv(csv_file_path)\n",
    "    \n",
    "    # Append the new data to the existing DataFrame\n",
    "    df_new = pd.DataFrame(optimization_details)\n",
    "    df_combined = pd.concat([df_existing, df_new], ignore_index=True)\n",
    "    \n",
    "    # Save the combined DataFrame to the CSV file\n",
    "    df_combined.to_csv(csv_file_path, index=False)\n",
    "else:\n",
    "    # If the file doesn't exist, save the new data as a new CSV file\n",
    "    df = pd.DataFrame(optimization_details)\n",
    "    df.to_csv(csv_file_path, index=False)\n",
    "\n",
    "print(f\"Optimization details saved to {csv_file_path}\")\n",
    "# Plot the KTA values over iterations\n",
    "plt.plot(kta_history, marker='x')\n",
    "plt.xlabel('Iteration')\n",
    "plt.ylabel('KTA Value')\n",
    "plt.title('KTA Value per Iteration')\n",
    "plt.grid(True)\n",
    "plt.show()\n",
    "\n"
   ]
  },
  {
   "cell_type": "code",
   "execution_count": 57,
   "metadata": {},
   "outputs": [],
   "source": [
    "train_vali1, test_vali1  = train_validation, test_validation"
   ]
  },
  {
   "cell_type": "markdown",
   "metadata": {},
   "source": [
    "## Gradient Based Optimisation with a decay"
   ]
  },
  {
   "cell_type": "markdown",
   "metadata": {},
   "source": [
    "### Batched Gradient Acent"
   ]
  },
  {
   "cell_type": "code",
   "execution_count": 75,
   "metadata": {
    "scrolled": true
   },
   "outputs": [
    {
     "name": "stderr",
     "output_type": "stream",
     "text": [
      "C:\\Users\\AVisha\\AppData\\Local\\Temp\\ipykernel_3172\\3809649190.py:60: DeprecationWarning: The method ``qiskit.circuit.quantumcircuit.QuantumCircuit.bind_parameters()`` is deprecated as of qiskit 0.45.0. It will be removed no earlier than 3 months after the release date. Use assign_parameters() instead\n",
      "  bound_map_original = feature_map.bind_parameters({training_params[j]: thetas[j] for j in range(len(thetas))})\n",
      "C:\\Users\\AVisha\\AppData\\Local\\Temp\\ipykernel_3172\\3809649190.py:64: DeprecationWarning: The method ``qiskit.circuit.quantumcircuit.QuantumCircuit.bind_parameters()`` is deprecated as of qiskit 0.45.0. It will be removed no earlier than 3 months after the release date. Use assign_parameters() instead\n",
      "  bound_map_shifted = feature_map.bind_parameters({training_params[j]: theta_shifted[j] for j in range(len(thetas))})\n"
     ]
    },
    {
     "name": "stdout",
     "output_type": "stream",
     "text": [
      "0.009332706967013897\n",
      "Iteration 1 - KTA: 0.009332706967013897\n",
      "0.013381580859680537\n",
      "Iteration 2 - KTA: 0.013381580859680537\n",
      "0.02647465479901471\n",
      "Iteration 3 - KTA: 0.02647465479901471\n",
      "0.04591199439800949\n",
      "Iteration 4 - KTA: 0.04591199439800949\n",
      "0.03126680276896168\n",
      "Iteration 5 - KTA: 0.03126680276896168\n",
      "0.019225096613168968\n",
      "Iteration 6 - KTA: 0.019225096613168968\n",
      "0.05046792390124953\n",
      "Iteration 7 - KTA: 0.05046792390124953\n",
      "0.03643956747973255\n",
      "Iteration 8 - KTA: 0.03643956747973255\n",
      "0.02215413271001234\n",
      "Iteration 9 - KTA: 0.02215413271001234\n",
      "0.019350572043179817\n",
      "Iteration 10 - KTA: 0.019350572043179817\n",
      "0.020202761194561256\n",
      "Iteration 11 - KTA: 0.020202761194561256\n",
      "0.021107321532050475\n",
      "Iteration 12 - KTA: 0.021107321532050475\n",
      "0.03474290197458187\n",
      "Iteration 13 - KTA: 0.03474290197458187\n",
      "0.03002294562729676\n",
      "Iteration 14 - KTA: 0.03002294562729676\n",
      "0.0319098708881548\n",
      "Iteration 15 - KTA: 0.0319098708881548\n",
      "0.014682612399879677\n",
      "Iteration 16 - KTA: 0.014682612399879677\n",
      "0.016801964693505193\n",
      "Iteration 17 - KTA: 0.016801964693505193\n",
      "0.038457957929682714\n",
      "Iteration 18 - KTA: 0.038457957929682714\n",
      "0.03126205952795997\n",
      "Iteration 19 - KTA: 0.03126205952795997\n",
      "0.019523076042858516\n",
      "Iteration 20 - KTA: 0.019523076042858516\n",
      "Iteration 20 - Train SVM Score: 0.77, Test SVM Score: 0.64\n"
     ]
    },
    {
     "name": "stderr",
     "output_type": "stream",
     "text": [
      "C:\\Users\\AVisha\\AppData\\Local\\Temp\\ipykernel_3172\\3809649190.py:60: DeprecationWarning: The method ``qiskit.circuit.quantumcircuit.QuantumCircuit.bind_parameters()`` is deprecated as of qiskit 0.45.0. It will be removed no earlier than 3 months after the release date. Use assign_parameters() instead\n",
      "  bound_map_original = feature_map.bind_parameters({training_params[j]: thetas[j] for j in range(len(thetas))})\n",
      "C:\\Users\\AVisha\\AppData\\Local\\Temp\\ipykernel_3172\\3809649190.py:64: DeprecationWarning: The method ``qiskit.circuit.quantumcircuit.QuantumCircuit.bind_parameters()`` is deprecated as of qiskit 0.45.0. It will be removed no earlier than 3 months after the release date. Use assign_parameters() instead\n",
      "  bound_map_shifted = feature_map.bind_parameters({training_params[j]: theta_shifted[j] for j in range(len(thetas))})\n"
     ]
    },
    {
     "name": "stdout",
     "output_type": "stream",
     "text": [
      "0.016624342703555627\n",
      "Iteration 21 - KTA: 0.016624342703555627\n",
      "0.020620657356679506\n",
      "Iteration 22 - KTA: 0.020620657356679506\n",
      "0.010540398403899998\n",
      "Iteration 23 - KTA: 0.010540398403899998\n",
      "0.03879721117870632\n",
      "Iteration 24 - KTA: 0.03879721117870632\n",
      "0.020702549533610386\n",
      "Iteration 25 - KTA: 0.020702549533610386\n",
      "0.019414106247589123\n",
      "Iteration 26 - KTA: 0.019414106247589123\n",
      "0.020355430792271718\n",
      "Iteration 27 - KTA: 0.020355430792271718\n",
      "0.023172171110316282\n",
      "Iteration 28 - KTA: 0.023172171110316282\n",
      "0.0212331413675971\n",
      "Iteration 29 - KTA: 0.0212331413675971\n",
      "0.017189764743791573\n",
      "Iteration 30 - KTA: 0.017189764743791573\n",
      "0.019558841909772317\n",
      "Iteration 31 - KTA: 0.019558841909772317\n",
      "0.02129235521766413\n",
      "Iteration 32 - KTA: 0.02129235521766413\n",
      "0.03794727310807946\n",
      "Iteration 33 - KTA: 0.03794727310807946\n",
      "0.014236084285639241\n",
      "Iteration 34 - KTA: 0.014236084285639241\n",
      "0.02249970884821551\n",
      "Iteration 35 - KTA: 0.02249970884821551\n",
      "0.015553280652511103\n",
      "Iteration 36 - KTA: 0.015553280652511103\n",
      "0.028964602796985837\n",
      "Iteration 37 - KTA: 0.028964602796985837\n",
      "0.02021802532612434\n",
      "Iteration 38 - KTA: 0.02021802532612434\n",
      "0.023738457762011264\n",
      "Iteration 39 - KTA: 0.023738457762011264\n",
      "0.03763084122605521\n",
      "Iteration 40 - KTA: 0.03763084122605521\n",
      "Iteration 40 - Train SVM Score: 0.77, Test SVM Score: 0.64\n"
     ]
    },
    {
     "name": "stderr",
     "output_type": "stream",
     "text": [
      "C:\\Users\\AVisha\\AppData\\Local\\Temp\\ipykernel_3172\\3809649190.py:60: DeprecationWarning: The method ``qiskit.circuit.quantumcircuit.QuantumCircuit.bind_parameters()`` is deprecated as of qiskit 0.45.0. It will be removed no earlier than 3 months after the release date. Use assign_parameters() instead\n",
      "  bound_map_original = feature_map.bind_parameters({training_params[j]: thetas[j] for j in range(len(thetas))})\n",
      "C:\\Users\\AVisha\\AppData\\Local\\Temp\\ipykernel_3172\\3809649190.py:64: DeprecationWarning: The method ``qiskit.circuit.quantumcircuit.QuantumCircuit.bind_parameters()`` is deprecated as of qiskit 0.45.0. It will be removed no earlier than 3 months after the release date. Use assign_parameters() instead\n",
      "  bound_map_shifted = feature_map.bind_parameters({training_params[j]: theta_shifted[j] for j in range(len(thetas))})\n"
     ]
    },
    {
     "name": "stdout",
     "output_type": "stream",
     "text": [
      "0.016503672295312737\n",
      "Iteration 41 - KTA: 0.016503672295312737\n",
      "0.035233051608925973\n",
      "Iteration 42 - KTA: 0.035233051608925973\n",
      "0.04377147219390282\n",
      "Iteration 43 - KTA: 0.04377147219390282\n",
      "0.030385448323627776\n",
      "Iteration 44 - KTA: 0.030385448323627776\n",
      "0.013532856677487621\n",
      "Iteration 45 - KTA: 0.013532856677487621\n",
      "0.021063399960190445\n",
      "Iteration 46 - KTA: 0.021063399960190445\n",
      "0.04740211591626422\n",
      "Iteration 47 - KTA: 0.04740211591626422\n",
      "0.01819042650126203\n",
      "Iteration 48 - KTA: 0.01819042650126203\n",
      "0.010529725682741301\n",
      "Iteration 49 - KTA: 0.010529725682741301\n",
      "0.04156517288280766\n",
      "Iteration 50 - KTA: 0.04156517288280766\n",
      "0.018537018419176782\n",
      "Iteration 51 - KTA: 0.018537018419176782\n",
      "0.0291018408438087\n",
      "Iteration 52 - KTA: 0.0291018408438087\n",
      "0.028265359897389607\n",
      "Iteration 53 - KTA: 0.028265359897389607\n",
      "0.017001151747364003\n",
      "Iteration 54 - KTA: 0.017001151747364003\n",
      "0.031028773564701014\n",
      "Iteration 55 - KTA: 0.031028773564701014\n",
      "0.0211914036671572\n",
      "Iteration 56 - KTA: 0.0211914036671572\n",
      "0.029201289707080084\n",
      "Iteration 57 - KTA: 0.029201289707080084\n",
      "0.03516385546322759\n",
      "Iteration 58 - KTA: 0.03516385546322759\n",
      "0.018331017839964773\n",
      "Iteration 59 - KTA: 0.018331017839964773\n",
      "0.05190134297887866\n",
      "Iteration 60 - KTA: 0.05190134297887866\n",
      "Iteration 60 - Train SVM Score: 0.78, Test SVM Score: 0.64\n"
     ]
    },
    {
     "name": "stderr",
     "output_type": "stream",
     "text": [
      "C:\\Users\\AVisha\\AppData\\Local\\Temp\\ipykernel_3172\\3809649190.py:60: DeprecationWarning: The method ``qiskit.circuit.quantumcircuit.QuantumCircuit.bind_parameters()`` is deprecated as of qiskit 0.45.0. It will be removed no earlier than 3 months after the release date. Use assign_parameters() instead\n",
      "  bound_map_original = feature_map.bind_parameters({training_params[j]: thetas[j] for j in range(len(thetas))})\n",
      "C:\\Users\\AVisha\\AppData\\Local\\Temp\\ipykernel_3172\\3809649190.py:64: DeprecationWarning: The method ``qiskit.circuit.quantumcircuit.QuantumCircuit.bind_parameters()`` is deprecated as of qiskit 0.45.0. It will be removed no earlier than 3 months after the release date. Use assign_parameters() instead\n",
      "  bound_map_shifted = feature_map.bind_parameters({training_params[j]: theta_shifted[j] for j in range(len(thetas))})\n"
     ]
    },
    {
     "name": "stdout",
     "output_type": "stream",
     "text": [
      "0.016633000506761482\n",
      "Iteration 61 - KTA: 0.016633000506761482\n",
      "0.016155663027636203\n",
      "Iteration 62 - KTA: 0.016155663027636203\n",
      "0.0309140234295155\n",
      "Iteration 63 - KTA: 0.0309140234295155\n",
      "0.0251917354193288\n",
      "Iteration 64 - KTA: 0.0251917354193288\n",
      "0.012771312266675282\n",
      "Iteration 65 - KTA: 0.012771312266675282\n",
      "0.06229267433462382\n",
      "Iteration 66 - KTA: 0.06229267433462382\n",
      "0.02067845223668095\n",
      "Iteration 67 - KTA: 0.02067845223668095\n",
      "0.02325465133797482\n",
      "Iteration 68 - KTA: 0.02325465133797482\n",
      "0.05237470382062746\n",
      "Iteration 69 - KTA: 0.05237470382062746\n",
      "0.018952595441096676\n",
      "Iteration 70 - KTA: 0.018952595441096676\n",
      "0.013022619794965698\n",
      "Iteration 71 - KTA: 0.013022619794965698\n",
      "0.02338700570136666\n",
      "Iteration 72 - KTA: 0.02338700570136666\n",
      "0.023391128825170405\n",
      "Iteration 73 - KTA: 0.023391128825170405\n",
      "0.03350379207243418\n",
      "Iteration 74 - KTA: 0.03350379207243418\n",
      "0.026171920015357914\n",
      "Iteration 75 - KTA: 0.026171920015357914\n",
      "0.02255961724305937\n",
      "Iteration 76 - KTA: 0.02255961724305937\n",
      "0.02532847524191448\n",
      "Iteration 77 - KTA: 0.02532847524191448\n",
      "0.04705282623208096\n",
      "Iteration 78 - KTA: 0.04705282623208096\n",
      "0.016499278455417203\n",
      "Iteration 79 - KTA: 0.016499278455417203\n",
      "0.026512301337556794\n",
      "Iteration 80 - KTA: 0.026512301337556794\n",
      "Iteration 80 - Train SVM Score: 0.79, Test SVM Score: 0.64\n"
     ]
    },
    {
     "name": "stderr",
     "output_type": "stream",
     "text": [
      "C:\\Users\\AVisha\\AppData\\Local\\Temp\\ipykernel_3172\\3809649190.py:60: DeprecationWarning: The method ``qiskit.circuit.quantumcircuit.QuantumCircuit.bind_parameters()`` is deprecated as of qiskit 0.45.0. It will be removed no earlier than 3 months after the release date. Use assign_parameters() instead\n",
      "  bound_map_original = feature_map.bind_parameters({training_params[j]: thetas[j] for j in range(len(thetas))})\n",
      "C:\\Users\\AVisha\\AppData\\Local\\Temp\\ipykernel_3172\\3809649190.py:64: DeprecationWarning: The method ``qiskit.circuit.quantumcircuit.QuantumCircuit.bind_parameters()`` is deprecated as of qiskit 0.45.0. It will be removed no earlier than 3 months after the release date. Use assign_parameters() instead\n",
      "  bound_map_shifted = feature_map.bind_parameters({training_params[j]: theta_shifted[j] for j in range(len(thetas))})\n"
     ]
    },
    {
     "name": "stdout",
     "output_type": "stream",
     "text": [
      "0.024103097099851294\n",
      "Iteration 81 - KTA: 0.024103097099851294\n",
      "0.021635615184410237\n",
      "Iteration 82 - KTA: 0.021635615184410237\n",
      "0.027275894699806482\n",
      "Iteration 83 - KTA: 0.027275894699806482\n",
      "0.04929289762954453\n",
      "Iteration 84 - KTA: 0.04929289762954453\n",
      "0.02776424854959248\n",
      "Iteration 85 - KTA: 0.02776424854959248\n",
      "0.012977966512537088\n",
      "Iteration 86 - KTA: 0.012977966512537088\n",
      "0.01821570121492276\n",
      "Iteration 87 - KTA: 0.01821570121492276\n",
      "0.015043241338193781\n",
      "Iteration 88 - KTA: 0.015043241338193781\n",
      "0.009156091152584853\n",
      "Iteration 89 - KTA: 0.009156091152584853\n",
      "0.018443873244216136\n",
      "Iteration 90 - KTA: 0.018443873244216136\n",
      "0.023434893974050488\n",
      "Iteration 91 - KTA: 0.023434893974050488\n",
      "0.01926750857678728\n",
      "Iteration 92 - KTA: 0.01926750857678728\n",
      "0.021244522255035335\n",
      "Iteration 93 - KTA: 0.021244522255035335\n",
      "0.041362096956807114\n",
      "Iteration 94 - KTA: 0.041362096956807114\n",
      "0.018147107708930424\n",
      "Iteration 95 - KTA: 0.018147107708930424\n",
      "0.03154790180670739\n",
      "Iteration 96 - KTA: 0.03154790180670739\n",
      "0.05127414812375901\n",
      "Iteration 97 - KTA: 0.05127414812375901\n",
      "0.025817882219921335\n",
      "Iteration 98 - KTA: 0.025817882219921335\n",
      "0.03973635532531902\n",
      "Iteration 99 - KTA: 0.03973635532531902\n",
      "0.02853164497477011\n",
      "Iteration 100 - KTA: 0.02853164497477011\n",
      "Iteration 100 - Train SVM Score: 0.79, Test SVM Score: 0.64\n"
     ]
    },
    {
     "name": "stderr",
     "output_type": "stream",
     "text": [
      "C:\\Users\\AVisha\\AppData\\Local\\Temp\\ipykernel_3172\\3809649190.py:60: DeprecationWarning: The method ``qiskit.circuit.quantumcircuit.QuantumCircuit.bind_parameters()`` is deprecated as of qiskit 0.45.0. It will be removed no earlier than 3 months after the release date. Use assign_parameters() instead\n",
      "  bound_map_original = feature_map.bind_parameters({training_params[j]: thetas[j] for j in range(len(thetas))})\n",
      "C:\\Users\\AVisha\\AppData\\Local\\Temp\\ipykernel_3172\\3809649190.py:64: DeprecationWarning: The method ``qiskit.circuit.quantumcircuit.QuantumCircuit.bind_parameters()`` is deprecated as of qiskit 0.45.0. It will be removed no earlier than 3 months after the release date. Use assign_parameters() instead\n",
      "  bound_map_shifted = feature_map.bind_parameters({training_params[j]: theta_shifted[j] for j in range(len(thetas))})\n"
     ]
    },
    {
     "name": "stdout",
     "output_type": "stream",
     "text": [
      "0.01786389239109967\n",
      "Iteration 101 - KTA: 0.01786389239109967\n",
      "0.03759886436116925\n",
      "Iteration 102 - KTA: 0.03759886436116925\n",
      "0.017536735643220034\n",
      "Iteration 103 - KTA: 0.017536735643220034\n",
      "0.03520015992572986\n",
      "Iteration 104 - KTA: 0.03520015992572986\n",
      "0.06022939838923467\n",
      "Iteration 105 - KTA: 0.06022939838923467\n",
      "0.025542538291260047\n",
      "Iteration 106 - KTA: 0.025542538291260047\n",
      "0.017283648132112226\n",
      "Iteration 107 - KTA: 0.017283648132112226\n",
      "0.014088233106267811\n",
      "Iteration 108 - KTA: 0.014088233106267811\n",
      "0.03386679602808345\n",
      "Iteration 109 - KTA: 0.03386679602808345\n",
      "0.0361093545949356\n",
      "Iteration 110 - KTA: 0.0361093545949356\n",
      "0.02102705240233594\n",
      "Iteration 111 - KTA: 0.02102705240233594\n",
      "0.031321379001052405\n",
      "Iteration 112 - KTA: 0.031321379001052405\n",
      "0.043558799959614085\n",
      "Iteration 113 - KTA: 0.043558799959614085\n",
      "0.03577720212775538\n",
      "Iteration 114 - KTA: 0.03577720212775538\n",
      "0.025764781904250682\n",
      "Iteration 115 - KTA: 0.025764781904250682\n",
      "0.039512743138602494\n",
      "Iteration 116 - KTA: 0.039512743138602494\n",
      "0.02897242579219265\n",
      "Iteration 117 - KTA: 0.02897242579219265\n",
      "0.030611355622303604\n",
      "Iteration 118 - KTA: 0.030611355622303604\n",
      "0.017254945362619543\n",
      "Iteration 119 - KTA: 0.017254945362619543\n",
      "0.03406452461889975\n",
      "Iteration 120 - KTA: 0.03406452461889975\n",
      "Iteration 120 - Train SVM Score: 0.79, Test SVM Score: 0.64\n",
      "Train SVM Score: 0.79, Test SVM Score: 0.64\n"
     ]
    }
   ],
   "source": [
    "train_validation = []\n",
    "test_validation = []\n",
    "\n",
    "# Modify the gradient_ascent function\n",
    "def gradient_ascent(theta, X_train, Y_train, y_outer, num_iterations, initial_learning_rate, decay_rate, batch_size):\n",
    "    kta_values = []\n",
    "    thetas = np.copy(theta)\n",
    "\n",
    "    for iteration in range(num_iterations):\n",
    "        current_learning_rate = initial_learning_rate / (1 + decay_rate * iteration)\n",
    "\n",
    "        # Randomly select a batch of data points\n",
    "        idx = np.random.choice(X_train.shape[0], batch_size, replace=False)\n",
    "        X_batch = X_train[idx]\n",
    "        Y_batch = Y_train[idx]\n",
    "\n",
    "        # Compute the gradient using this batch\n",
    "        gradient = KTA_gradient(thetas, X_batch, Y_batch, y_outer)\n",
    "        kta_current = KTA(kernel(feature_map.assign_parameters({training_params[i]: thetas[i] for i in range(len(thetas))})).evaluate(x_vec=X_batch), Y_batch, y_outer)\n",
    "        kta_values.append(kta_current)\n",
    "\n",
    "        # Update the parameter using the calculated gradient\n",
    "        thetas += current_learning_rate * gradient\n",
    "        print(f\"Iteration {len(kta_values)} - KTA: {kta_current}\")\n",
    "        \n",
    "        # Every 10 iterations, calculate the SVM score for both the training and testing sets\n",
    "        if (iteration + 1) % 20 == 0:\n",
    "            bound_map_current = feature_map.assign_parameters({training_params[j]: thetas[j] for j in range(len(thetas))})\n",
    "            kernel_matrix_train_current = kernel(bound_map_current).evaluate(x_vec=X_train)\n",
    "            kernel_matrix_test_current = kernel(bound_map_current).evaluate(x_vec=X_test, y_vec=X_train)\n",
    "            current_train_score, current_test_score = quantum_svm(kernel_matrix_train_current, kernel_matrix_test_current, Y_train, Y_test, return_scores=True)\n",
    "            train_validation.append(current_train_score)\n",
    "            test_validation.append(current_test_score)\n",
    "            print(f\"Iteration {len(kta_values)} - Train SVM Score: {current_train_score}, Test SVM Score: {current_test_score}\")\n",
    "\n",
    "    return thetas, kta_values\n",
    "\n",
    "# Set optimization parameters\n",
    "initial_theta = np.random.uniform(0, 2 * np.pi, num_features)\n",
    "num_iterations = 120\n",
    "initial_learning_rate = 0.9\n",
    "decay_rate = 1\n",
    "batch_size = 20\n",
    "\n",
    "# Perform gradient ascent\n",
    "t1 = time.time()\n",
    "optimal_theta, kta_values = gradient_ascent(initial_theta, X_train, Y_train, y_outer, num_iterations, initial_learning_rate, decay_rate, batch_size)\n",
    "t2 = time.time()\n",
    "\n",
    "# Calculate the kernel matrix using the optimal parameters\n",
    "bound_map_optimal = feature_map.assign_parameters({training_params[i]: optimal_theta[i] for i in range(len(optimal_theta))})\n",
    "kernel_matrix_train_optimal = kernel(bound_map_optimal).evaluate(x_vec=X_train)\n",
    "kernel_matrix_test_optimal = kernel(bound_map_optimal).evaluate(x_vec=X_test, y_vec=X_train)\n",
    "\n",
    "# Perform quantum SVM classification using precomputed kernel with optimal parameters\n",
    "svm_score = quantum_svm(kernel_matrix_train_optimal, kernel_matrix_test_optimal, Y_train, Y_test)"
   ]
  },
  {
   "cell_type": "code",
   "execution_count": 76,
   "metadata": {},
   "outputs": [
    {
     "name": "stdout",
     "output_type": "stream",
     "text": [
      "Train SVM Score: 0.79, Test SVM Score: 0.64\n"
     ]
    }
   ],
   "source": [
    "t2 = time.time()\n",
    "\n",
    "# Calculate the kernel matrix using the optimal parameters\n",
    "bound_map_optimal = feature_map.assign_parameters({training_params[i]: optimal_theta[i] for i in range(len(optimal_theta))})\n",
    "kernel_matrix_train_optimal = kernel(bound_map_optimal).evaluate(x_vec=X_train)\n",
    "kernel_matrix_test_optimal = kernel(bound_map_optimal).evaluate(x_vec=X_test, y_vec=X_train)\n",
    "\n",
    "# Perform quantum SVM classification using precomputed kernel with optimal parameters\n",
    "svm_score = quantum_svm(kernel_matrix_train_optimal, kernel_matrix_test_optimal, Y_train, Y_test)"
   ]
  },
  {
   "cell_type": "code",
   "execution_count": 77,
   "metadata": {},
   "outputs": [
    {
     "name": "stdout",
     "output_type": "stream",
     "text": [
      "Optimization details saved to gradient_ascent_optimization_details.csv\n"
     ]
    },
    {
     "data": {
      "image/png": "[encoded data removed]",
      "text/plain": [
       "<Figure size 640x480 with 1 Axes>"
      ]
     },
     "metadata": {},
     "output_type": "display_data"
    }
   ],
   "source": [
    "# Update optimization_details dictionary\n",
    "optimization_details = {\n",
    "    'Optimization Method': 'Gradient Ascent',\n",
    "    'Num Qubits': num_features,\n",
    "    'Num Iterations': num_iterations,\n",
    "    'SVM Train Score': train_validation,\n",
    "    'SVM Test Score': test_validation,\n",
    "    'KTA List': kta_values,\n",
    "    'Optimised Weights': optimal_theta.tolist()\n",
    "}\n",
    "\n",
    "# Check if CSV file already exists and append or save new data\n",
    "csv_file_path = 'gradient_ascent_optimization_details.csv'\n",
    "if os.path.isfile(csv_file_path):\n",
    "    df_existing = pd.read_csv(csv_file_path)\n",
    "    df_new = pd.DataFrame([optimization_details])\n",
    "    df_combined = pd.concat([df_existing, df_new], ignore_index=True)\n",
    "    df_combined.to_csv(csv_file_path, index=False)\n",
    "else:\n",
    "    df = pd.DataFrame([optimization_details])\n",
    "    df.to_csv(csv_file_path, index=False)\n",
    "\n",
    "print(f\"Optimization details saved to {csv_file_path}\")\n",
    "\n",
    "# Plot the KTA values over iterations (style modified to match second code)\n",
    "plt.plot(kta_values[-100:], marker='o')\n",
    "plt.xlabel('Iteration')\n",
    "plt.ylabel('KTA Value')\n",
    "plt.title('KTA Value per Iteration')\n",
    "plt.grid(True)\n",
    "plt.show()\n",
    "\n"
   ]
  },
  {
   "cell_type": "code",
   "execution_count": 67,
   "metadata": {},
   "outputs": [],
   "source": [
    "train_vali3, test_vali3 = train_validation, test_validation"
   ]
  },
  {
   "cell_type": "code",
   "execution_count": 62,
   "metadata": {},
   "outputs": [],
   "source": [
    "train_vali2, test_vali2 = train_validation, test_validation"
   ]
  },
  {
   "cell_type": "code",
   "execution_count": 77,
   "metadata": {
    "colab": {
     "base_uri": "https://localhost:8080/",
     "height": 1000
    },
    "id": "8FsFt1aFIxaX",
    "outputId": "64d2bd4c-527f-4266-d89f-49a1d0570c41"
   },
   "outputs": [
    {
     "name": "stderr",
     "output_type": "stream",
     "text": [
      "C:\\Users\\AVisha\\AppData\\Local\\Temp\\ipykernel_16904\\3809649190.py:60: DeprecationWarning: The method ``qiskit.circuit.quantumcircuit.QuantumCircuit.bind_parameters()`` is deprecated as of qiskit 0.45.0. It will be removed no earlier than 3 months after the release date. Use assign_parameters() instead\n",
      "  bound_map_original = feature_map.bind_parameters({training_params[j]: thetas[j] for j in range(len(thetas))})\n",
      "C:\\Users\\AVisha\\AppData\\Local\\Temp\\ipykernel_16904\\3809649190.py:64: DeprecationWarning: The method ``qiskit.circuit.quantumcircuit.QuantumCircuit.bind_parameters()`` is deprecated as of qiskit 0.45.0. It will be removed no earlier than 3 months after the release date. Use assign_parameters() instead\n",
      "  bound_map_shifted = feature_map.bind_parameters({training_params[j]: theta_shifted[j] for j in range(len(thetas))})\n"
     ]
    },
    {
     "name": "stdout",
     "output_type": "stream",
     "text": [
      "0.015106219743464296\n",
      "1.9459328372433564 1.587523816562905 2.34408574370245 0.5544329949770582\n",
      "0.026788840790510637\n",
      "2.0119272657070235 1.5911918631585336 2.502932342597707 0.4199491315566489\n",
      "0.03120054639288575\n",
      "2.060998970323456 1.5928779539047226 2.513035025038323 0.40728287955107134\n",
      "0.02910053740875844\n",
      "2.0953307383769086 1.5951957822298273 2.60709740063516 0.3273371733501701\n",
      "0.03117870366239201\n",
      "2.1020779504368075 1.5956974069091217 2.706666669506718 0.29528102103422993\n",
      "0.03100358225961325\n",
      "2.0851288382189175 1.5963212972235323 2.67384200100259 0.29331222621955255\n",
      "0.03185450914327482\n",
      "2.102031371758393 1.5960331377272678 2.651362703828896 0.31022230747148327\n",
      "0.029021877076449612\n",
      "2.162251113243461 1.5952183915400846 2.7583714602681044 0.21635591572879143\n",
      "0.028850176783012108\n",
      "2.213082398570197 1.5971036171615298 2.813817265194606 0.21302920359385913\n",
      "0.033178745012250314\n",
      "2.1989620147496596 1.5968949153556926 2.833925623506394 0.26370153513296246\n",
      "Optimal theta: [2.1989620147496596, 1.5968949153556926, 2.833925623506394, 0.26370153513296246, 5.914210735944986, 2.641229774723641, 3.2345322147745907, 6.246303081857117]\n",
      "680.278156042099 seconds\n"
     ]
    },
    {
     "name": "stderr",
     "output_type": "stream",
     "text": [
      "C:\\Users\\AVisha\\AppData\\Local\\Temp\\ipykernel_16904\\1154875625.py:39: DeprecationWarning: The method ``qiskit.circuit.quantumcircuit.QuantumCircuit.bind_parameters()`` is deprecated as of qiskit 0.45.0. It will be removed no earlier than 3 months after the release date. Use assign_parameters() instead\n",
      "  bound_map_optimal = feature_map.bind_parameters({training_params[i]: optimal_theta[i] for i in range(num_features)})\n"
     ]
    },
    {
     "name": "stdout",
     "output_type": "stream",
     "text": [
      "Precomputed kernel classification test score: 0.52\n"
     ]
    }
   ],
   "source": [
    "# Set optimization parameters\n",
    "initial_learning_rate = 30\n",
    "decay_rate = 1\n",
    "num_iterations = 10\n",
    "batch_size = 10\n",
    "#theta = [3.55102703827831, 3.9451707852926354, 1.5014911517997618, 0.8790446062723056]\n",
    "theta = np.random.uniform(0,2*np.pi,num_features)\n",
    "kta_values = []\n",
    "t1 = time.time()\n",
    "# Gradient ascent optimization loop with variable learning rate\n",
    "for iteration in range(num_iterations):\n",
    "    # Calculate the current learning rate based on the decay schedule\n",
    "    current_learning_rate = initial_learning_rate * (decay_rate ** iteration)\n",
    "\n",
    "    # Randomly select a batch of data points\n",
    "    idx = np.random.choice(X_train.shape[0], batch_size, replace=False)\n",
    "    X_batch = X_train[idx]\n",
    "    Y_batch = Y_train[idx]\n",
    "\n",
    "    # Compute the gradient using this batch\n",
    "    gradient = KTA_gradient(theta, X_batch, Y_batch, y_outer)\n",
    "    update = [current_learning_rate * gradient[i] for i in range(num_features)]\n",
    "    # Update the parameter using the variable learning rate\n",
    "    theta = [theta[i] + update[i] for i in range(num_features)]\n",
    "    print(theta[0],theta[1], theta[2],theta[3])\n",
    "    # Print the learning rate and iteration for monitoring\n",
    "    #print(f\"Iteration {iteration + 1} - Learning Rate: {current_learning_rate:.4f}\")\n",
    "    #print(\"Updated theta:\", theta)\n",
    "\n",
    "\n",
    "\n",
    "# Extract the optimal theta from the result\n",
    "optimal_theta = theta\n",
    "print(\"Optimal theta:\", optimal_theta)\n",
    "kta_values1 = []\n",
    "t2 = time.time()\n",
    "print(t2-t1, 'seconds')\n",
    "# Calculate and display the maximum KTA using optimal theta\n",
    "bound_map_optimal = feature_map.assign_parameters({training_params[i]: optimal_theta[i] for i in range(num_features)})\n",
    "kernel_matrix_train_optimal = kernel(bound_map_optimal).evaluate(x_vec=X_train)\n",
    "kernel_matrix_test_optimal = kernel(bound_map_optimal).evaluate(x_vec=X_test, y_vec=X_train)\n",
    "quantum_svm(kernel_matrix_train_optimal, kernel_matrix_test_optimal, Y_train, Y_test)\n"
   ]
  },
  {
   "cell_type": "code",
   "execution_count": null,
   "metadata": {},
   "outputs": [],
   "source": [
    "# Plot the kernel matrices\n",
    "#plot_matrix(kernel_matrix_train, kernel_matrix_test, kernel_matrix_train_optimal, kernel_matrix_test_optimal)\n",
    "\n",
    "def KTA_gradient(thetas, X, Y, y_outer, indices_to_optimize, delta_theta=1e-6):\n",
    "    gradients = np.zeros_like(thetas) # Initialize gradients array\n",
    "    for i in indices_to_optimize: # Loop only over the indices you want to optimize\n",
    "        theta_shifted = np.copy(thetas)\n",
    "        theta_shifted[i] += delta_theta\n",
    "\n",
    "        bound_map_original = feature_map.assign_parameters({training_params[j]: thetas[j] for j in range(len(thetas))})\n",
    "        kernel_matrix_train_original = kernel(bound_map_original).evaluate(x_vec=X)\n",
    "        kta_original = KTA(kernel_matrix_train_original, Y, y_outer)\n",
    "\n",
    "        bound_map_shifted = feature_map.assign_parameters({training_params[j]: theta_shifted[j] for j in range(len(thetas))})\n",
    "        kernel_matrix_train_shifted = kernel(bound_map_shifted).evaluate(x_vec=X)\n",
    "        kta_shifted = KTA(kernel_matrix_train_shifted, Y, y_outer)\n",
    "\n",
    "        gradient = (kta_shifted - kta_original) / delta_theta\n",
    "        gradients[i] = gradient # Store gradient for this index\n",
    "    kta_values1.append(kta_original)\n",
    "    print(kta_original)\n",
    "    return np.array(gradients)\n",
    "\n",
    "\n",
    "\n",
    "# Set optimization parameters\n",
    "initial_learning_rate = 30\n",
    "decay_rate = 1\n",
    "num_iterations = 100\n",
    "batch_size = 100\n",
    "theta = np.random.uniform(0,2*np.pi,num_features)\n",
    "#theta = [3.4867625820217967, 0.8316407873036624, 0.47750437975791016, 1.1851710629562362]\n",
    "#theta = [1.2566370614359172, 3.141592653589793, 2.5132741228718345, 0.0]\n",
    "#theta = [5.026548245743669, 0.0, 1.8849555921538759, 0.0]\n",
    "indices_to_optimize = random_indices = np.random.choice(range(len(theta)), 2, replace=False)\n",
    "t3 = time.time()\n",
    "# Gradient ascent optimization loop with variable learning rate\n",
    "for iteration in range(num_iterations):\n",
    "    # Calculate the current learning rate based on the decay schedule\n",
    "    current_learning_rate = initial_learning_rate * (decay_rate ** iteration)\n",
    "\n",
    "    # Randomly select a batch of data points\n",
    "    idx = np.random.choice(X_train.shape[0], batch_size, replace=False)\n",
    "    X_batch = X_train[idx]\n",
    "    Y_batch = Y_train[idx]\n",
    "\n",
    "    # Compute the gradient using this batch\n",
    "    gradient = KTA_gradient(theta, X_batch, Y_batch, y_outer, indices_to_optimize)\n",
    "\n",
    "    # Randomly select two indices for updating\n",
    "\n",
    "\n",
    "    # Update only the selected theta parameters\n",
    "    for i in random_indices:\n",
    "        theta[i] += current_learning_rate * gradient[i]\n",
    "\n",
    "    indices_to_optimize = random_indices = np.random.choice(range(len(theta)), 2, replace=False)\n",
    "    # You can continue with the rest of your code here, such as computing the kernel matrix, etc.\n",
    "\n",
    "    print(theta[0],theta[1], theta[2],theta[3])\n",
    "\n",
    "\n",
    "# Extract the optimal theta from the result\n",
    "optimal_theta = theta\n",
    "print(\"Optimal theta:\", optimal_theta)\n",
    "t4 = time.time()\n",
    "print(t4-t3, 'Seconds')\n",
    "\n",
    "# Calculate and display the maximum KTA using optimal theta\n",
    "bound_map_optimal = feature_map.assign_parameters({training_params[i]: optimal_theta[i] for i in range(num_features)})\n",
    "kernel_matrix_train_optimal = kernel(bound_map_optimal).evaluate(x_vec=X_train)\n",
    "kernel_matrix_test_optimal = kernel(bound_map_optimal).evaluate(x_vec=X_test, y_vec=X_train)\n",
    "quantum_svm(kernel_matrix_train_optimal, kernel_matrix_test_optimal, Y_train, Y_test)\n",
    "\n",
    "\n",
    "\n",
    "\n",
    "\n",
    "\n",
    "\n",
    "\n",
    "\n",
    "\n",
    "\n",
    "\n",
    "\n",
    "# Measure execution time\n",
    "time2 = time.time()\n",
    "print(\"Execution time:\", time2 - time1)\n",
    "\n",
    "\n",
    "'''\n",
    "import itertools\n",
    "import pickle\n",
    "\n",
    "num_theta_steps = 10\n",
    "best_kta = 0.0\n",
    "num_features = len(training_params)\n",
    "best_theta = [0.0] * num_features\n",
    "\n",
    "theta_values = []  # To store the theta values\n",
    "kta_values = []    # To store the KTA values\n",
    "\n",
    "import itertools\n",
    "for steps in itertools.product(range(num_theta_steps), repeat=num_features):\n",
    "    current_theta = [step * (2 * np.pi) / num_theta_steps for step in steps]\n",
    "    theta_values.append(current_theta)\n",
    "\n",
    "\n",
    "    # Create a binding dictionary for all the theta values\n",
    "    binding_dict = {training_params[i]: current_theta[i] for i in range(num_features)}\n",
    "\n",
    "    # Bind the current theta values to the feature map\n",
    "    bound_map = feature_map.bind_parameters(binding_dict)\n",
    "    kernel_matrix_train_current = kernel(bound_map).evaluate(x_vec=X_train)\n",
    "\n",
    "    # Calculate KTA for the current theta values\n",
    "    kta = KTA(kernel_matrix_train_current, Y_train, y_outer)\n",
    "    kta_values.append(kta)\n",
    "    # Update best theta and KTA if necessary\n",
    "    if kta > best_kta:\n",
    "        best_kta = kta\n",
    "        best_theta = current_theta\n",
    "\n",
    "    # Print current progress\n",
    "    progress = '/'.join(map(str, steps))\n",
    "    print(f\"Step {progress}/{num_theta_steps} - Current KTA: {kta:.4f}\")\n",
    "\n",
    "\n",
    "# Saving theta and KTA values\n",
    "with open('theta_values.pkl', 'wb') as f:\n",
    "    pickle.dump(theta_values, f)\n",
    "with open('kta_values.pkl', 'wb') as f:\n",
    "    pickle.dump(kta_values, f)\n",
    "\n",
    "# Print the best theta and corresponding KTA\n",
    "print(\"Best Theta:\", best_theta)\n",
    "print(\"Best KTA:\", best_kta)"
   ]
  },
  {
   "cell_type": "code",
   "execution_count": null,
   "metadata": {
    "colab": {
     "base_uri": "https://localhost:8080/"
    },
    "id": "5lFftZ5C-PMC",
    "outputId": "2fd598d6-94a6-4a76-d764-cf31a37ca183"
   },
   "outputs": [
    {
     "name": "stdout",
     "output_type": "stream",
     "text": [
      "\u001b[31mERROR: Could not find a version that satisfies the requirement itertools (from versions: none)\u001b[0m\u001b[31m\n",
      "\u001b[0m\u001b[31mERROR: No matching distribution found for itertools\u001b[0m\u001b[31m\n",
      "\u001b[0m"
     ]
    }
   ],
   "source": [
    "pip install itertools"
   ]
  },
  {
   "cell_type": "code",
   "execution_count": null,
   "metadata": {
    "colab": {
     "base_uri": "https://localhost:8080/"
    },
    "id": "z2Z5qele-S_J",
    "outputId": "dc9ff08a-8650-4bb1-fcc8-fbff5dd8c8e8"
   },
   "outputs": [
    {
     "name": "stdout",
     "output_type": "stream",
     "text": [
      "\u001b[31mERROR: Could not find a version that satisfies the requirement pickle (from versions: none)\u001b[0m\u001b[31m\n",
      "\u001b[0m\u001b[31mERROR: No matching distribution found for pickle\u001b[0m\u001b[31m\n",
      "\u001b[0m"
     ]
    }
   ],
   "source": [
    "pip install pickle"
   ]
  },
  {
   "cell_type": "code",
   "execution_count": null,
   "metadata": {
    "colab": {
     "base_uri": "https://localhost:8080/",
     "height": 366
    },
    "id": "uZbICB-d-K1F",
    "outputId": "67381193-c14b-46b7-95f5-f72d9ce10fb6"
   },
   "outputs": [
    {
     "ename": "NameError",
     "evalue": "ignored",
     "output_type": "error",
     "traceback": [
      "\u001b[0;31m---------------------------------------------------------------------------\u001b[0m",
      "\u001b[0;31mNameError\u001b[0m                                 Traceback (most recent call last)",
      "\u001b[0;32m<ipython-input-10-07fe0c7a2b99>\u001b[0m in \u001b[0;36m<cell line: 13>\u001b[0;34m()\u001b[0m\n\u001b[1;32m     17\u001b[0m \u001b[0;34m\u001b[0m\u001b[0m\n\u001b[1;32m     18\u001b[0m     \u001b[0;31m# Create a binding dictionary for all the theta values\u001b[0m\u001b[0;34m\u001b[0m\u001b[0;34m\u001b[0m\u001b[0m\n\u001b[0;32m---> 19\u001b[0;31m     \u001b[0mbinding_dict\u001b[0m \u001b[0;34m=\u001b[0m \u001b[0;34m{\u001b[0m\u001b[0mtraining_params\u001b[0m\u001b[0;34m[\u001b[0m\u001b[0mi\u001b[0m\u001b[0;34m]\u001b[0m\u001b[0;34m:\u001b[0m \u001b[0mcurrent_theta\u001b[0m\u001b[0;34m[\u001b[0m\u001b[0mi\u001b[0m\u001b[0;34m]\u001b[0m \u001b[0;32mfor\u001b[0m \u001b[0mi\u001b[0m \u001b[0;32min\u001b[0m \u001b[0mrange\u001b[0m\u001b[0;34m(\u001b[0m\u001b[0mnum_features\u001b[0m\u001b[0;34m)\u001b[0m\u001b[0;34m}\u001b[0m\u001b[0;34m\u001b[0m\u001b[0;34m\u001b[0m\u001b[0m\n\u001b[0m\u001b[1;32m     20\u001b[0m \u001b[0;34m\u001b[0m\u001b[0m\n\u001b[1;32m     21\u001b[0m     \u001b[0;31m# Bind the current theta values to the feature map\u001b[0m\u001b[0;34m\u001b[0m\u001b[0;34m\u001b[0m\u001b[0m\n",
      "\u001b[0;32m<ipython-input-10-07fe0c7a2b99>\u001b[0m in \u001b[0;36m<dictcomp>\u001b[0;34m(.0)\u001b[0m\n\u001b[1;32m     17\u001b[0m \u001b[0;34m\u001b[0m\u001b[0m\n\u001b[1;32m     18\u001b[0m     \u001b[0;31m# Create a binding dictionary for all the theta values\u001b[0m\u001b[0;34m\u001b[0m\u001b[0;34m\u001b[0m\u001b[0m\n\u001b[0;32m---> 19\u001b[0;31m     \u001b[0mbinding_dict\u001b[0m \u001b[0;34m=\u001b[0m \u001b[0;34m{\u001b[0m\u001b[0mtraining_params\u001b[0m\u001b[0;34m[\u001b[0m\u001b[0mi\u001b[0m\u001b[0;34m]\u001b[0m\u001b[0;34m:\u001b[0m \u001b[0mcurrent_theta\u001b[0m\u001b[0;34m[\u001b[0m\u001b[0mi\u001b[0m\u001b[0;34m]\u001b[0m \u001b[0;32mfor\u001b[0m \u001b[0mi\u001b[0m \u001b[0;32min\u001b[0m \u001b[0mrange\u001b[0m\u001b[0;34m(\u001b[0m\u001b[0mnum_features\u001b[0m\u001b[0;34m)\u001b[0m\u001b[0;34m}\u001b[0m\u001b[0;34m\u001b[0m\u001b[0;34m\u001b[0m\u001b[0m\n\u001b[0m\u001b[1;32m     20\u001b[0m \u001b[0;34m\u001b[0m\u001b[0m\n\u001b[1;32m     21\u001b[0m     \u001b[0;31m# Bind the current theta values to the feature map\u001b[0m\u001b[0;34m\u001b[0m\u001b[0;34m\u001b[0m\u001b[0m\n",
      "\u001b[0;31mNameError\u001b[0m: name 'training_params' is not defined"
     ]
    }
   ],
   "source": [
    "import itertools\n",
    "import pickle\n",
    "\n",
    "num_theta_steps = 10\n",
    "best_kta = 0.0\n",
    "num_features = 4\n",
    "best_theta = [0.0] * num_features\n",
    "\n",
    "theta_values = []  # To store the theta values\n",
    "kta_values = []    # To store the KTA values\n",
    "\n",
    "import itertools\n",
    "for steps in itertools.product(range(num_theta_steps), repeat=num_features):\n",
    "    current_theta = [step * (2 * np.pi) / num_theta_steps for step in steps]\n",
    "    theta_values.append(current_theta)\n",
    "\n",
    "\n",
    "    # Create a binding dictionary for all the theta values\n",
    "    binding_dict = {training_params[i]: current_theta[i] for i in range(num_features)}\n",
    "\n",
    "    # Bind the current theta values to the feature map\n",
    "    bound_map = feature_map.assign_parameters(binding_dict)\n",
    "    kernel_matrix_train_current = kernel(bound_map).evaluate(x_vec=X_train)\n",
    "\n",
    "    # Calculate KTA for the current theta values\n",
    "    kta = KTA(kernel_matrix_train_current, Y_train, y_outer)\n",
    "    kta_values.append(kta)\n",
    "    # Update best theta and KTA if necessary\n",
    "    if kta > best_kta:\n",
    "        best_kta = kta\n",
    "        best_theta = current_theta\n",
    "\n",
    "    # Print current progress\n",
    "    progress = '/'.join(map(str, steps))\n",
    "    print(f\"Step {progress}/{num_theta_steps} - Current KTA: {kta:.4f}\")\n",
    "\n",
    "\n",
    "# Saving theta and KTA values\n",
    "with open('theta_values.pkl', 'wb') as f:\n",
    "    pickle.dump(theta_values, f)\n",
    "with open('kta_values.pkl', 'wb') as f:\n",
    "    pickle.dump(kta_values, f)\n",
    "\n",
    "# Print the best theta and corresponding KTA\n",
    "print(\"Best Theta:\", best_theta)\n",
    "print(\"Best KTA:\", best_kta)\n"
   ]
  },
  {
   "cell_type": "code",
   "execution_count": 25,
   "metadata": {
    "id": "vAsaXNGB-NNG"
   },
   "outputs": [
    {
     "name": "stdout",
     "output_type": "stream",
     "text": [
      " Volume in drive C is OS\n",
      " Volume Serial Number is EC39-625B\n",
      "\n",
      " Directory of C:\\Users\\AVisha\\OneDrive - Secqai\\Old\\Quantum Kernel Methods\n",
      "\n",
      "25/01/2024  23:04    <DIR>          .\n",
      "25/01/2024  20:23    <DIR>          ..\n",
      "25/01/2024  20:27    <DIR>          .ipynb_checkpoints\n",
      "25/01/2024  23:00    <DIR>          cifar-10-python\n",
      "25/01/2024  20:30       170,498,071 cifar-10-python.tar.gz\n",
      "25/01/2024  20:23            91,303 RBF_kernel.ipynb\n",
      "25/01/2024  23:04            76,244 ZZ_feature_Map.ipynb\n",
      "               3 File(s)    170,665,618 bytes\n",
      "               4 Dir(s)  775,630,245,888 bytes free\n"
     ]
    }
   ],
   "source": []
  },
  {
   "cell_type": "markdown",
   "metadata": {
    "id": "BhkTscXbI_CW"
   },
   "source": []
  }
 ],
 "metadata": {
  "colab": {
   "provenance": []
  },
  "kernelspec": {
   "display_name": "Python 3 (ipykernel)",
   "language": "python",
   "name": "python3"
  },
  "language_info": {
   "codemirror_mode": {
    "name": "ipython",
    "version": 3
   },
   "file_extension": ".py",
   "mimetype": "text/x-python",
   "name": "python",
   "nbconvert_exporter": "python",
   "pygments_lexer": "ipython3",
   "version": "3.11.5"
  }
 },
 "nbformat": 4,
 "nbformat_minor": 4
}
