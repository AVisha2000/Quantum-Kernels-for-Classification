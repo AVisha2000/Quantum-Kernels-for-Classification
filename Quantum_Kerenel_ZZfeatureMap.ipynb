{
  "cells": [
    {
      "cell_type": "markdown",
      "metadata": {
        "id": "m0LYs30Poh0-"
      },
      "source": [
        "#Using Quantum Kernels for classifcation of cats and dogs\n",
        "\n"
      ]
    },
    {
      "cell_type": "markdown",
      "metadata": {
        "id": "pJBcjfXxozJU"
      },
      "source": [
        "Installing required packages"
      ]
    },
    {
      "cell_type": "code",
      "execution_count": null,
      "metadata": {
        "id": "QY8Ur-A2OzQt"
      },
      "outputs": [],
      "source": [
        "pip install pylatexenc"
      ]
    },
    {
      "cell_type": "code",
      "execution_count": null,
      "metadata": {
        "id": "b_yCGCJ8Yqv8"
      },
      "outputs": [],
      "source": [
        "from google.colab import drive\n",
        "drive.mount('/content/drive')"
      ]
    },
    {
      "cell_type": "code",
      "execution_count": 3,
      "metadata": {
        "colab": {
          "base_uri": "https://localhost:8080/"
        },
        "id": "r6G7JC2ATGw6",
        "outputId": "2f7774b3-e93e-4b78-d36c-435dca7fdf12"
      },
      "outputs": [
        {
          "output_type": "stream",
          "name": "stdout",
          "text": [
            "Collecting qiskit\n",
            "  Downloading qiskit-0.45.1-py3-none-any.whl (9.6 kB)\n",
            "Collecting qiskit-terra==0.45.1 (from qiskit)\n",
            "  Downloading qiskit_terra-0.45.1-cp38-abi3-manylinux_2_17_x86_64.manylinux2014_x86_64.whl (6.3 MB)\n",
            "\u001b[2K     \u001b[90m━━━━━━━━━━━━━━━━━━━━━━━━━━━━━━━━━━━━━━━━\u001b[0m \u001b[32m6.3/6.3 MB\u001b[0m \u001b[31m10.0 MB/s\u001b[0m eta \u001b[36m0:00:00\u001b[0m\n",
            "\u001b[?25hCollecting rustworkx>=0.13.0 (from qiskit-terra==0.45.1->qiskit)\n",
            "  Downloading rustworkx-0.13.2-cp310-cp310-manylinux_2_17_x86_64.manylinux2014_x86_64.whl (2.0 MB)\n",
            "\u001b[2K     \u001b[90m━━━━━━━━━━━━━━━━━━━━━━━━━━━━━━━━━━━━━━━━\u001b[0m \u001b[32m2.0/2.0 MB\u001b[0m \u001b[31m21.5 MB/s\u001b[0m eta \u001b[36m0:00:00\u001b[0m\n",
            "\u001b[?25hRequirement already satisfied: numpy<2,>=1.17 in /usr/local/lib/python3.10/dist-packages (from qiskit-terra==0.45.1->qiskit) (1.23.5)\n",
            "Collecting ply>=3.10 (from qiskit-terra==0.45.1->qiskit)\n",
            "  Downloading ply-3.11-py2.py3-none-any.whl (49 kB)\n",
            "\u001b[2K     \u001b[90m━━━━━━━━━━━━━━━━━━━━━━━━━━━━━━━━━━━━━━━━\u001b[0m \u001b[32m49.6/49.6 kB\u001b[0m \u001b[31m3.3 MB/s\u001b[0m eta \u001b[36m0:00:00\u001b[0m\n",
            "\u001b[?25hRequirement already satisfied: psutil>=5 in /usr/local/lib/python3.10/dist-packages (from qiskit-terra==0.45.1->qiskit) (5.9.5)\n",
            "Requirement already satisfied: scipy>=1.5 in /usr/local/lib/python3.10/dist-packages (from qiskit-terra==0.45.1->qiskit) (1.11.4)\n",
            "Requirement already satisfied: sympy>=1.3 in /usr/local/lib/python3.10/dist-packages (from qiskit-terra==0.45.1->qiskit) (1.12)\n",
            "Collecting dill>=0.3 (from qiskit-terra==0.45.1->qiskit)\n",
            "  Downloading dill-0.3.7-py3-none-any.whl (115 kB)\n",
            "\u001b[2K     \u001b[90m━━━━━━━━━━━━━━━━━━━━━━━━━━━━━━━━━━━━━━━━\u001b[0m \u001b[32m115.3/115.3 kB\u001b[0m \u001b[31m6.1 MB/s\u001b[0m eta \u001b[36m0:00:00\u001b[0m\n",
            "\u001b[?25hRequirement already satisfied: python-dateutil>=2.8.0 in /usr/local/lib/python3.10/dist-packages (from qiskit-terra==0.45.1->qiskit) (2.8.2)\n",
            "Collecting stevedore>=3.0.0 (from qiskit-terra==0.45.1->qiskit)\n",
            "  Downloading stevedore-5.1.0-py3-none-any.whl (49 kB)\n",
            "\u001b[2K     \u001b[90m━━━━━━━━━━━━━━━━━━━━━━━━━━━━━━━━━━━━━━━━\u001b[0m \u001b[32m49.6/49.6 kB\u001b[0m \u001b[31m4.9 MB/s\u001b[0m eta \u001b[36m0:00:00\u001b[0m\n",
            "\u001b[?25hCollecting symengine!=0.10.0,>=0.9 (from qiskit-terra==0.45.1->qiskit)\n",
            "  Downloading symengine-0.11.0-cp310-cp310-manylinux_2_12_x86_64.manylinux2010_x86_64.whl (39.4 MB)\n",
            "\u001b[2K     \u001b[90m━━━━━━━━━━━━━━━━━━━━━━━━━━━━━━━━━━━━━━━━\u001b[0m \u001b[32m39.4/39.4 MB\u001b[0m \u001b[31m8.9 MB/s\u001b[0m eta \u001b[36m0:00:00\u001b[0m\n",
            "\u001b[?25hRequirement already satisfied: typing-extensions in /usr/local/lib/python3.10/dist-packages (from qiskit-terra==0.45.1->qiskit) (4.5.0)\n",
            "Requirement already satisfied: six>=1.5 in /usr/local/lib/python3.10/dist-packages (from python-dateutil>=2.8.0->qiskit-terra==0.45.1->qiskit) (1.16.0)\n",
            "Collecting pbr!=2.1.0,>=2.0.0 (from stevedore>=3.0.0->qiskit-terra==0.45.1->qiskit)\n",
            "  Downloading pbr-6.0.0-py2.py3-none-any.whl (107 kB)\n",
            "\u001b[2K     \u001b[90m━━━━━━━━━━━━━━━━━━━━━━━━━━━━━━━━━━━━━━━━\u001b[0m \u001b[32m107.5/107.5 kB\u001b[0m \u001b[31m9.5 MB/s\u001b[0m eta \u001b[36m0:00:00\u001b[0m\n",
            "\u001b[?25hRequirement already satisfied: mpmath>=0.19 in /usr/local/lib/python3.10/dist-packages (from sympy>=1.3->qiskit-terra==0.45.1->qiskit) (1.3.0)\n",
            "Installing collected packages: ply, symengine, rustworkx, pbr, dill, stevedore, qiskit-terra, qiskit\n",
            "Successfully installed dill-0.3.7 pbr-6.0.0 ply-3.11 qiskit-0.45.1 qiskit-terra-0.45.1 rustworkx-0.13.2 stevedore-5.1.0 symengine-0.11.0\n"
          ]
        }
      ],
      "source": [
        "pip install qiskit"
      ]
    },
    {
      "cell_type": "code",
      "execution_count": 4,
      "metadata": {
        "colab": {
          "base_uri": "https://localhost:8080/"
        },
        "id": "oz1Fj33eTIBZ",
        "outputId": "88ece1e3-1ae0-461b-ea37-b022cb1185dc"
      },
      "outputs": [
        {
          "output_type": "stream",
          "name": "stdout",
          "text": [
            "Collecting qiskit_machine_learning\n",
            "  Downloading qiskit_machine_learning-0.7.1-py3-none-any.whl (96 kB)\n",
            "\u001b[2K     \u001b[90m━━━━━━━━━━━━━━━━━━━━━━━━━━━━━━━━━━━━━━━━\u001b[0m \u001b[32m96.8/96.8 kB\u001b[0m \u001b[31m1.8 MB/s\u001b[0m eta \u001b[36m0:00:00\u001b[0m\n",
            "\u001b[?25hRequirement already satisfied: qiskit>=0.44 in /usr/local/lib/python3.10/dist-packages (from qiskit_machine_learning) (0.45.1)\n",
            "Collecting qiskit-algorithms>=0.2.0 (from qiskit_machine_learning)\n",
            "  Downloading qiskit_algorithms-0.2.1-py3-none-any.whl (306 kB)\n",
            "\u001b[2K     \u001b[90m━━━━━━━━━━━━━━━━━━━━━━━━━━━━━━━━━━━━━━━━\u001b[0m \u001b[32m306.9/306.9 kB\u001b[0m \u001b[31m6.7 MB/s\u001b[0m eta \u001b[36m0:00:00\u001b[0m\n",
            "\u001b[?25hRequirement already satisfied: scipy>=1.4 in /usr/local/lib/python3.10/dist-packages (from qiskit_machine_learning) (1.11.4)\n",
            "Requirement already satisfied: numpy>=1.17 in /usr/local/lib/python3.10/dist-packages (from qiskit_machine_learning) (1.23.5)\n",
            "Requirement already satisfied: psutil>=5 in /usr/local/lib/python3.10/dist-packages (from qiskit_machine_learning) (5.9.5)\n",
            "Requirement already satisfied: scikit-learn>=1.2.0 in /usr/local/lib/python3.10/dist-packages (from qiskit_machine_learning) (1.2.2)\n",
            "Collecting fastdtw (from qiskit_machine_learning)\n",
            "  Downloading fastdtw-0.3.4.tar.gz (133 kB)\n",
            "\u001b[2K     \u001b[90m━━━━━━━━━━━━━━━━━━━━━━━━━━━━━━━━━━━━━━━━\u001b[0m \u001b[32m133.4/133.4 kB\u001b[0m \u001b[31m6.7 MB/s\u001b[0m eta \u001b[36m0:00:00\u001b[0m\n",
            "\u001b[?25h  Preparing metadata (setup.py) ... \u001b[?25l\u001b[?25hdone\n",
            "Requirement already satisfied: setuptools>=40.1.0 in /usr/local/lib/python3.10/dist-packages (from qiskit_machine_learning) (67.7.2)\n",
            "Requirement already satisfied: dill>=0.3.4 in /usr/local/lib/python3.10/dist-packages (from qiskit_machine_learning) (0.3.7)\n",
            "Requirement already satisfied: qiskit-terra==0.45.1 in /usr/local/lib/python3.10/dist-packages (from qiskit>=0.44->qiskit_machine_learning) (0.45.1)\n",
            "Requirement already satisfied: rustworkx>=0.13.0 in /usr/local/lib/python3.10/dist-packages (from qiskit-terra==0.45.1->qiskit>=0.44->qiskit_machine_learning) (0.13.2)\n",
            "Requirement already satisfied: ply>=3.10 in /usr/local/lib/python3.10/dist-packages (from qiskit-terra==0.45.1->qiskit>=0.44->qiskit_machine_learning) (3.11)\n",
            "Requirement already satisfied: sympy>=1.3 in /usr/local/lib/python3.10/dist-packages (from qiskit-terra==0.45.1->qiskit>=0.44->qiskit_machine_learning) (1.12)\n",
            "Requirement already satisfied: python-dateutil>=2.8.0 in /usr/local/lib/python3.10/dist-packages (from qiskit-terra==0.45.1->qiskit>=0.44->qiskit_machine_learning) (2.8.2)\n",
            "Requirement already satisfied: stevedore>=3.0.0 in /usr/local/lib/python3.10/dist-packages (from qiskit-terra==0.45.1->qiskit>=0.44->qiskit_machine_learning) (5.1.0)\n",
            "Requirement already satisfied: symengine!=0.10.0,>=0.9 in /usr/local/lib/python3.10/dist-packages (from qiskit-terra==0.45.1->qiskit>=0.44->qiskit_machine_learning) (0.11.0)\n",
            "Requirement already satisfied: typing-extensions in /usr/local/lib/python3.10/dist-packages (from qiskit-terra==0.45.1->qiskit>=0.44->qiskit_machine_learning) (4.5.0)\n",
            "Requirement already satisfied: joblib>=1.1.1 in /usr/local/lib/python3.10/dist-packages (from scikit-learn>=1.2.0->qiskit_machine_learning) (1.3.2)\n",
            "Requirement already satisfied: threadpoolctl>=2.0.0 in /usr/local/lib/python3.10/dist-packages (from scikit-learn>=1.2.0->qiskit_machine_learning) (3.2.0)\n",
            "Requirement already satisfied: six>=1.5 in /usr/local/lib/python3.10/dist-packages (from python-dateutil>=2.8.0->qiskit-terra==0.45.1->qiskit>=0.44->qiskit_machine_learning) (1.16.0)\n",
            "Requirement already satisfied: pbr!=2.1.0,>=2.0.0 in /usr/local/lib/python3.10/dist-packages (from stevedore>=3.0.0->qiskit-terra==0.45.1->qiskit>=0.44->qiskit_machine_learning) (6.0.0)\n",
            "Requirement already satisfied: mpmath>=0.19 in /usr/local/lib/python3.10/dist-packages (from sympy>=1.3->qiskit-terra==0.45.1->qiskit>=0.44->qiskit_machine_learning) (1.3.0)\n",
            "Building wheels for collected packages: fastdtw\n",
            "  Building wheel for fastdtw (setup.py) ... \u001b[?25l\u001b[?25hdone\n",
            "  Created wheel for fastdtw: filename=fastdtw-0.3.4-cp310-cp310-linux_x86_64.whl size=512581 sha256=ece3316661d1d7b30c6adce556abf2a16da8e00245014ffcfcc63d3d94dcf263\n",
            "  Stored in directory: /root/.cache/pip/wheels/73/c8/f7/c25448dab74c3acf4848bc25d513c736bb93910277e1528ef4\n",
            "Successfully built fastdtw\n",
            "Installing collected packages: fastdtw, qiskit-algorithms, qiskit_machine_learning\n",
            "Successfully installed fastdtw-0.3.4 qiskit-algorithms-0.2.1 qiskit_machine_learning-0.7.1\n"
          ]
        }
      ],
      "source": [
        "pip install qiskit_machine_learning"
      ]
    },
    {
      "cell_type": "code",
      "execution_count": 5,
      "metadata": {
        "colab": {
          "base_uri": "https://localhost:8080/"
        },
        "id": "ke0Rt1jIG73-",
        "outputId": "4696eb72-6aa6-4fd5-a10d-6aa013379616"
      },
      "outputs": [
        {
          "output_type": "stream",
          "name": "stderr",
          "text": [
            "<ipython-input-5-bd4148828969>:7: DeprecationWarning: ``qiskit.algorithms`` has been migrated to an independent package: https://github.com/qiskit-community/qiskit-algorithms. The ``qiskit.algorithms`` import path is deprecated as of qiskit-terra 0.25.0 and will be removed no earlier than 3 months after the release date. Please run ``pip install qiskit_algorithms`` and use ``import qiskit_algorithms`` instead.\n",
            "  from qiskit.algorithms.state_fidelities import ComputeUncompute\n"
          ]
        }
      ],
      "source": [
        "import numpy as np\n",
        "import matplotlib.pyplot as plt\n",
        "from qiskit import QuantumCircuit\n",
        "from qiskit.circuit import ParameterVector\n",
        "from qiskit.circuit.library import ZZFeatureMap\n",
        "from qiskit.primitives import Sampler\n",
        "from qiskit.algorithms.state_fidelities import ComputeUncompute\n",
        "from qiskit_machine_learning.kernels import FidelityQuantumKernel\n",
        "from sklearn.svm import SVC\n",
        "import time\n",
        "from pylatexenc import *\n",
        "\n",
        "time1 = time.time()\n",
        "# Set a random seed for reproducibility\n",
        "np.random.seed(1001)\n",
        "###############################################################################\n",
        "#Data we Will be using\n",
        "###############################################################################\n",
        "import tarfile\n",
        "import pickle\n",
        "import numpy as np\n",
        "import tensorflow as tf\n",
        "from sklearn.decomposition import PCA"
      ]
    },
    {
      "cell_type": "markdown",
      "metadata": {
        "id": "Z0MICRagsI3c"
      },
      "source": [
        "# Classical Definitions"
      ]
    },
    {
      "cell_type": "code",
      "execution_count": 6,
      "metadata": {
        "id": "-6RIGjosGWsE"
      },
      "outputs": [],
      "source": [
        "def load_cifar10_data(file_path):\n",
        "    with tarfile.open(file_path, \"r:gz\") as tar:\n",
        "        train_data = []\n",
        "        Y_train = []\n",
        "        for member in tar.getmembers():\n",
        "            if \"data_batch\" in member.name:\n",
        "                with tar.extractfile(member) as f:\n",
        "                    data_dict = pickle.load(f, encoding=\"bytes\")\n",
        "                    train_data.append(data_dict[b\"data\"])\n",
        "                    Y_train.extend(data_dict[b\"labels\"])\n",
        "\n",
        "        train_data = np.vstack(train_data).reshape(-1, 3, 32, 32).transpose(0, 2, 3, 1)\n",
        "        Y_train = np.array(Y_train)\n",
        "\n",
        "        with tar.extractfile(\"cifar-10-batches-py/test_batch\") as f:\n",
        "            data_dict = pickle.load(f, encoding=\"bytes\")\n",
        "            X_test = data_dict[b\"data\"].reshape(-1, 3, 32, 32).transpose(0, 2, 3, 1)\n",
        "            Y_test = np.array(data_dict[b\"labels\"])\n",
        "\n",
        "    return (train_data, Y_train), (X_test, Y_test)\n",
        "\n",
        "def preprocess_images(images, size=32):\n",
        "    #images_resized = tf.image.resize(images, [size, size])\n",
        "    images_normalized = images / 255.0\n",
        "    #images_gray = tf.image.rgb_to_grayscale(images_normalized)\n",
        "    return images_normalized\n",
        "\n",
        "def filter_and_preprocess_data(train_images, Y_train, test_images, Y_test, num_training_points, num_testing_points, num_PCA_componants):\n",
        "    cat_dog_filter_train = (Y_train == 3).flatten() | (Y_train == 5).flatten()\n",
        "    cat_dog_filter_test = (Y_test == 3).flatten() | (Y_test == 5).flatten()\n",
        "\n",
        "    X_train = train_images[cat_dog_filter_train]\n",
        "    Y_train = Y_train[cat_dog_filter_train]\n",
        "    X_test = test_images[cat_dog_filter_test]\n",
        "    Y_test = Y_test[cat_dog_filter_test]\n",
        "\n",
        "    # Convert labels: cat (3) -> -1, dog (5) -> 1\n",
        "    Y_train = (Y_train / 5).astype(int)\n",
        "    Y_train = np.where(Y_train == 0, -1, 1)\n",
        "    Y_test = (Y_test / 5).astype(int)\n",
        "    Y_test = np.where(Y_test == 0, -1, 1)\n",
        "\n",
        "    # Preprocess the images\n",
        "    X_train = preprocess_images(X_train)\n",
        "    X_test = preprocess_images(X_test)\n",
        "\n",
        "    # Separate cats and dogs indices\n",
        "    cat_indices_train = np.where(Y_train == -1)[0]\n",
        "    dog_indices_train = np.where(Y_train == 1)[0]\n",
        "    cat_indices_test = np.where(Y_test == -1)[0]\n",
        "    dog_indices_test = np.where(Y_test == 1)[0]\n",
        "\n",
        "    # Randomly select equal number of cats and dogs for training and testing\n",
        "    half_training = num_training_points // 2\n",
        "    half_testing = num_testing_points // 2\n",
        "\n",
        "    random_cat_train_indices = np.random.choice(cat_indices_train, half_training, replace=False)\n",
        "    random_dog_train_indices = np.random.choice(dog_indices_train, half_training, replace=False)\n",
        "    random_cat_test_indices = np.random.choice(cat_indices_test, half_testing, replace=False)\n",
        "    random_dog_test_indices = np.random.choice(dog_indices_test, half_testing, replace=False)\n",
        "\n",
        "    selected_train_indices = np.concatenate([random_cat_train_indices, random_dog_train_indices])\n",
        "    selected_test_indices = np.concatenate([random_cat_test_indices, random_dog_test_indices])\n",
        "\n",
        "    X_train = X_train[selected_train_indices]\n",
        "    Y_train = Y_train[selected_train_indices]\n",
        "    X_test = X_test[selected_test_indices]\n",
        "    Y_test = Y_test[selected_test_indices]\n",
        "\n",
        "    # Flatten and PCA\n",
        "    X_train_flattened = X_train.reshape(X_train.shape[0], -1)\n",
        "    X_test_flattened = X_test.reshape(X_test.shape[0], -1)\n",
        "    print(\"Number of components before PCA:\", X_train_flattened.shape[1])\n",
        "    pca = PCA(n_components=num_PCA_componants)\n",
        "    X_train_reduced = pca.fit_transform(X_train_flattened)\n",
        "    X_test_reduced = pca.transform(X_test_flattened)\n",
        "\n",
        "    # Fit the PCA model\n",
        "    pca = PCA(n_components=num_PCA_componants)\n",
        "    pca.fit(X_train_flattened)\n",
        "\n",
        "    # Calculate cumulative explained variance\n",
        "    cumulative_variance = np.cumsum(pca.explained_variance_ratio_)\n",
        "\n",
        "    # Find the component for each threshold\n",
        "    thresholds = np.arange(0.1, 1.1, 0.1)\n",
        "    components_for_thresholds = [np.argmax(cumulative_variance > threshold) for threshold in thresholds]\n",
        "\n",
        "    # Plot the explained variance\n",
        "    plt.plot(cumulative_variance)\n",
        "    plt.xlabel('Number of Components')\n",
        "    plt.ylabel('Cumulative Explained Variance')\n",
        "    plt.title('Explained Variance by Components')\n",
        "\n",
        "    # Set the x-ticks to be the component numbers\n",
        "    plt.xticks(components_for_thresholds, components_for_thresholds)\n",
        "\n",
        "    plt.grid(True)\n",
        "    plt.show()\n",
        "    return X_train_reduced, Y_train, X_test_reduced, Y_test\n",
        "\n",
        "# Compute classical SVM score using reduced data\n",
        "def classical_kernel(X_train_reduced, Y_train, X_test_reduced, Y_test):\n",
        "    svc = SVC()\n",
        "    svc.fit(X_train_reduced, Y_train)\n",
        "    classical_svm_score = svc.score(X_test_reduced, Y_test)\n",
        "    return classical_svm_score"
      ]
    },
    {
      "cell_type": "markdown",
      "metadata": {
        "id": "hZQgNjWyrzso"
      },
      "source": [
        "#Quantum Part"
      ]
    },
    {
      "cell_type": "code",
      "execution_count": 7,
      "metadata": {
        "id": "lJRnsXCQr4U-"
      },
      "outputs": [],
      "source": [
        "# Define Quantum Embedding Kernel\n",
        "def feature_embedding(num_features):\n",
        "    '''Embed classical states onto the quantum computer'''\n",
        "    # Define training parameter vector\n",
        "    training_params = ParameterVector(\"θ\", num_features)\n",
        "\n",
        "    # Create the QuantumCircuit fm0\n",
        "    fm0 = QuantumCircuit(num_features)\n",
        "    for i in range(num_features):\n",
        "        fm0.ry(training_params[i], i)\n",
        "\n",
        "\n",
        "    # Define ZZFeatureMap\n",
        "    fm1 = ZZFeatureMap(feature_dimension=num_features, reps=2, entanglement='circular')\n",
        "\n",
        "    # Compose the feature map\n",
        "    feature_map = fm0.compose(fm1)\n",
        "    feature_map.draw('mpl')  # Visualize the feature map\n",
        "    plt.show()\n",
        "    return feature_map, training_params\n",
        "\n",
        "# Define kernel function using FidelityQuantumKernel\n",
        "def kernel(feature_map):\n",
        "    sampler = Sampler()\n",
        "    fidelity = ComputeUncompute(sampler=sampler)\n",
        "    quant_kernel = FidelityQuantumKernel(fidelity=fidelity, feature_map=feature_map, evaluate_duplicates='off_diagonal')\n",
        "    return quant_kernel\n",
        "\n",
        "# Perform quantum SVM classification using precomputed kernel\n",
        "def quantum_svm(kernel_matrix_train, kernel_matrix_test, Y_train, Y_test):\n",
        "    svc = SVC(kernel=\"precomputed\")\n",
        "    svc.fit(kernel_matrix_train, Y_train)\n",
        "    score_precomputed_kernel = svc.score(kernel_matrix_test, Y_test)\n",
        "    print(f\"Precomputed kernel classification test score: {score_precomputed_kernel}\")\n",
        "\n",
        "# Compute Kernel-Target Alignment (KTA)\n",
        "def KTA(K, y, y_outer):\n",
        "    \"\"\"Compute the kernel-target alignment.\"\"\"\n",
        "    denominator = np.sqrt(np.trace(K @ K) * np.trace(y_outer @ y_outer)) + 1e-10\n",
        "    return (y.T @ K @ y) / denominator\n",
        "\n",
        "# Compute gradient of KTA for optimization\n",
        "kta_values = []\n",
        "def KTA_gradient(thetas, X, Y, y_outer,delta_theta=1e-6):\n",
        "    gradients = []\n",
        "    for i, theta in enumerate(thetas):\n",
        "        theta_shifted = np.copy(thetas)\n",
        "        theta_shifted[i] += delta_theta\n",
        "\n",
        "        bound_map_original = feature_map.bind_parameters({training_params[j]: thetas[j] for j in range(len(thetas))})\n",
        "        kernel_matrix_train_original = kernel(bound_map_original).evaluate(x_vec=X)\n",
        "        kta_original = KTA(kernel_matrix_train_original, Y, y_outer)\n",
        "\n",
        "        bound_map_shifted = feature_map.bind_parameters({training_params[j]: theta_shifted[j] for j in range(len(thetas))})\n",
        "        kernel_matrix_train_shifted = kernel(bound_map_shifted).evaluate(x_vec=X)\n",
        "        kta_shifted = KTA(kernel_matrix_train_shifted, Y, y_outer)\n",
        "\n",
        "        gradient = (kta_shifted - kta_original) / delta_theta\n",
        "        gradients.append(gradient)\n",
        "    print(kta_original)\n",
        "    kta_values.append(kta_original)\n",
        "    #print(gradients)\n",
        "    return np.array(gradients)\n",
        "\n",
        "\n",
        "# Plot kernel matrices for visualization\n",
        "def plot_matrix(matrix_train, matrix_test, matrix_train_optimal, matrix_test_optimal):\n",
        "    fig, axs = plt.subplots(2, 2, figsize=(10, 5))\n",
        "    axs[0, 0].imshow(\n",
        "        np.asmatrix(matrix_train), interpolation=\"nearest\", origin=\"upper\", cmap=\"Blues\"\n",
        "    )\n",
        "    axs[0, 0].set_title(\"Training kernel matrix\")\n",
        "\n",
        "    axs[0, 1].imshow(\n",
        "        np.asmatrix(matrix_test), interpolation=\"nearest\", origin=\"upper\", cmap=\"Reds\"\n",
        "    )\n",
        "    axs[0, 1].set_title(\"Testing kernel matrix\")\n",
        "\n",
        "    axs[1, 0].imshow(\n",
        "        np.asmatrix(matrix_train_optimal), interpolation=\"nearest\", origin=\"upper\", cmap=\"Blues\"\n",
        "    )\n",
        "    axs[1, 0].set_title(\"Optimal Training kernel matrix\")\n",
        "\n",
        "    axs[1, 1].imshow(\n",
        "        np.asmatrix(matrix_test_optimal), interpolation=\"nearest\", origin=\"upper\", cmap=\"Reds\"\n",
        "    )\n",
        "    axs[1, 1].set_title(\"Optimal Testing kernel matrix\")\n",
        "\n",
        "    plt.tight_layout()\n",
        "    plt.show()"
      ]
    },
    {
      "cell_type": "markdown",
      "metadata": {
        "id": "bLVYsAgWzCfQ"
      },
      "source": [
        "# Running the code"
      ]
    },
    {
      "cell_type": "code",
      "execution_count": 8,
      "metadata": {
        "colab": {
          "base_uri": "https://localhost:8080/",
          "height": 507
        },
        "id": "vZe3YtbeHg70",
        "outputId": "86d3b97e-39ba-495b-96dc-4448cc4ef3e5"
      },
      "outputs": [
        {
          "output_type": "stream",
          "name": "stdout",
          "text": [
            "Number of components before PCA: 3072\n"
          ]
        },
        {
          "output_type": "display_data",
          "data": {
            "text/plain": [
              "<Figure size 640x480 with 1 Axes>"
            ],
            "image/png": "[encoded data removed]"
          },
          "metadata": {}
        },
        {
          "output_type": "stream",
          "name": "stdout",
          "text": [
            "Classical kernel classification test score: 0.73\n"
          ]
        }
      ],
      "source": [
        "# Load CIFAR-10 dataset and preprocess data\n",
        "file_path = r\"/content/drive/MyDrive/Colab Notebooks/cifar-10-python.tar.gz\" # You should adjust this to the path of your CIFAR-10 dataset tarball\n",
        "(train_images, Y_train_original), (test_images, Y_test_original) = load_cifar10_data(file_path)\n",
        "\n",
        "# Define the number of training/testing points, PCA components, and quantum circuit layers\n",
        "num_training_points = 10000\n",
        "num_testing_points = 100\n",
        "num_features = 86\n",
        "\n",
        "# Filter and preprocess data\n",
        "X_train, Y_train, X_test, Y_test = filter_and_preprocess_data(train_images, Y_train_original, test_images, Y_test_original, num_training_points, num_testing_points, num_features)\n",
        "\n",
        "# Test using classical SVM\n",
        "classical_svm_score = classical_kernel(X_train, Y_train, X_test, Y_test)\n",
        "print(f\"Classical rbf kernel classification test score: {classical_svm_score}\")\n"
      ]
    },
    {
      "cell_type": "code",
      "execution_count": null,
      "metadata": {
        "colab": {
          "background_save": true,
          "base_uri": "https://localhost:8080/"
        },
        "id": "yttq-r1yikVJ",
        "outputId": "359c7892-9d4d-4c2e-cd3b-1c18ff6eb940"
      },
      "outputs": [
        {
          "output_type": "stream",
          "name": "stderr",
          "text": [
            "/usr/local/lib/python3.10/dist-packages/qiskit/visualization/circuit/matplotlib.py:266: FutureWarning: The default matplotlib drawer scheme will be changed to \"iqp\" in a following release. To silence this warning, specify the current default explicitly as style=\"clifford\", or the new default as style=\"iqp\".\n",
            "  self._style, def_font_ratio = load_style(self._style)\n",
            "<ipython-input-9-bf9e40b08d3b>:6: DeprecationWarning: The method ``qiskit.circuit.quantumcircuit.QuantumCircuit.bind_parameters()`` is deprecated as of qiskit 0.45.0. It will be removed no earlier than 3 months after the release date. Use assign_parameters() instead\n",
            "  bound_map = feature_map.bind_parameters({training_params[i]: theta[i] for i in range(num_features)})\n"
          ]
        }
      ],
      "source": [
        " # Test with random (untrained) parameters\n",
        "feature_map, training_params = feature_embedding(num_features)\n",
        "#theta = [1.2566370614359172, 3.141592653589793, 2.5132741228718345, 0.0] #some trained params\n",
        "theta = np.random.uniform(0,2*np.pi,num_features)\n",
        "# Optimal theta: [5.201432097848048, 0.16795640707114898, 2.340889651896597, -0.06494248625237167]\n",
        "bound_map = feature_map.bind_parameters({training_params[i]: theta[i] for i in range(num_features)})\n",
        "\n",
        "kernel_matrix_train = kernel(bound_map).evaluate(x_vec=X_train)\n",
        "kernel_matrix_test = kernel(bound_map).evaluate(x_vec=X_test, y_vec=X_train)\n",
        "quantum_svm(kernel_matrix_train, kernel_matrix_test, Y_train, Y_test)"
      ]
    },
    {
      "cell_type": "code",
      "execution_count": null,
      "metadata": {
        "colab": {
          "base_uri": "https://localhost:8080/"
        },
        "id": "zIXSNFmvQE8u",
        "outputId": "ece19447-208f-4d5d-d3a0-4a597a3e98c9"
      },
      "outputs": [
        {
          "name": "stdout",
          "output_type": "stream",
          "text": [
            "Initial KTA: 0.06501397108225439\n"
          ]
        }
      ],
      "source": [
        "# Calculate and display the initial KTA\n",
        "y_outer = np.outer(Y_train, Y_train) #can optimise becuase you only need this once\n",
        "kta = KTA(kernel_matrix_train, Y_train, y_outer)\n",
        "print(\"Initial KTA:\", kta)\n"
      ]
    },
    {
      "cell_type": "code",
      "execution_count": null,
      "metadata": {
        "colab": {
          "base_uri": "https://localhost:8080/",
          "height": 1000
        },
        "id": "8FsFt1aFIxaX",
        "outputId": "64d2bd4c-527f-4266-d89f-49a1d0570c41"
      },
      "outputs": [
        {
          "name": "stdout",
          "output_type": "stream",
          "text": [
            "0.05473536985245178\n",
            "5.692376844529107 0.5766201772292003 3.16793327306946 2.7519755463031825\n",
            "0.06022215261236744\n",
            "5.871667463338832 0.7329465436642337 3.5390493523951774 2.7768557725157916\n",
            "0.06682618316108647\n",
            "6.039618110478535 0.9007482062292596 3.8959673392275276 2.917423639861856\n",
            "0.07303813603188727\n",
            "6.088195580858097 1.0636970219199373 4.197312783242361 3.037936692732164\n",
            "0.07694292052449289\n",
            "6.054058277041025 1.208718396828731 4.413751307428874 3.122606712893934\n",
            "0.07910264630068597\n",
            "6.00597424903176 1.3035048850704136 4.5536664968632214 3.194927780778285\n",
            "0.08008527554115459\n",
            "5.965605510263312 1.3513974803766562 4.639888695827147 3.2507213522078815\n",
            "0.08047908050097531\n",
            "5.937111100931253 1.3732280677145017 4.6956797779979444 3.289267344022957\n",
            "0.08064152111885618\n",
            "5.91888319882688 1.3826737998276464 4.7344945185862555 3.3146772182276973\n",
            "0.08071371235816978\n",
            "5.908116655753132 1.386081804955749 4.763003439643469 3.3315065594816073\n",
            "0.08074865898855936\n",
            "5.902446195401862 1.3863560930479881 4.784725393878801 3.343018915550051\n",
            "0.08076720153077285\n",
            "5.900183731019355 1.3849432910892325 4.801732074109547 3.351239869467666\n",
            "0.08077802013915847\n",
            "5.900177217895981 1.382622665314356 4.815350972202141 3.35737723883039\n",
            "0.08078495013710706\n",
            "5.901645437192122 1.3798352766611313 4.8264793500047345 3.362152532324354\n",
            "0.08078978259748414\n",
            "5.904056896973981 1.376838363526808 4.8357440540087095 3.366005251301536\n",
            "0.0807933975678477\n",
            "5.907048528083487 1.3737845071923296 4.843592614143847 3.369210422846376\n",
            "0.08079624927657968\n",
            "5.910371734793302 1.3707642997748373 4.850348978361944 3.3719452302269315\n"
          ]
        },
        {
          "name": "stderr",
          "output_type": "stream",
          "text": [
            "ERROR:root:Internal Python error in the inspect module.\n",
            "Below is the traceback from this internal error.\n",
            "\n"
          ]
        },
        {
          "name": "stdout",
          "output_type": "stream",
          "text": [
            "Traceback (most recent call last):\n",
            "  File \"/usr/local/lib/python3.10/dist-packages/IPython/core/interactiveshell.py\", line 3553, in run_code\n",
            "    exec(code_obj, self.user_global_ns, self.user_ns)\n",
            "  File \"<ipython-input-16-29dd9fbecc91>\", line 21, in <cell line: 11>\n",
            "    gradient = KTA_gradient(theta, X_batch, Y_batch, y_outer)\n",
            "  File \"<ipython-input-13-95ce99371d20>\", line 129, in KTA_gradient\n",
            "    kernel_matrix_train_original = kernel(bound_map_original).evaluate(x_vec=X)\n",
            "  File \"/usr/local/lib/python3.10/dist-packages/qiskit_machine_learning/kernels/fidelity_quantum_kernel.py\", line 105, in evaluate\n",
            "    kernel_matrix = self._get_symmetric_kernel_matrix(\n",
            "  File \"/usr/local/lib/python3.10/dist-packages/qiskit_machine_learning/kernels/fidelity_quantum_kernel.py\", line 196, in _get_symmetric_kernel_matrix\n",
            "    kernel_entries = self._get_kernel_entries(left_parameters, right_parameters)\n",
            "  File \"/usr/local/lib/python3.10/dist-packages/qiskit_machine_learning/kernels/fidelity_quantum_kernel.py\", line 218, in _get_kernel_entries\n",
            "    kernel_entries = np.real(job.result().fidelities)\n",
            "  File \"/usr/local/lib/python3.10/dist-packages/qiskit/primitives/primitive_job.py\", line 55, in result\n",
            "    return self._future.result()\n",
            "  File \"/usr/lib/python3.10/concurrent/futures/_base.py\", line 453, in result\n",
            "    self._condition.wait(timeout)\n",
            "  File \"/usr/lib/python3.10/threading.py\", line 320, in wait\n",
            "    waiter.acquire()\n",
            "KeyboardInterrupt\n",
            "\n",
            "During handling of the above exception, another exception occurred:\n",
            "\n",
            "Traceback (most recent call last):\n",
            "  File \"/usr/local/lib/python3.10/dist-packages/IPython/core/interactiveshell.py\", line 2099, in showtraceback\n",
            "    stb = value._render_traceback_()\n",
            "AttributeError: 'KeyboardInterrupt' object has no attribute '_render_traceback_'\n",
            "\n",
            "During handling of the above exception, another exception occurred:\n",
            "\n",
            "Traceback (most recent call last):\n",
            "  File \"/usr/local/lib/python3.10/dist-packages/IPython/core/ultratb.py\", line 1101, in get_records\n",
            "    return _fixed_getinnerframes(etb, number_of_lines_of_context, tb_offset)\n",
            "  File \"/usr/local/lib/python3.10/dist-packages/IPython/core/ultratb.py\", line 248, in wrapped\n",
            "    return f(*args, **kwargs)\n",
            "  File \"/usr/local/lib/python3.10/dist-packages/IPython/core/ultratb.py\", line 281, in _fixed_getinnerframes\n",
            "    records = fix_frame_records_filenames(inspect.getinnerframes(etb, context))\n",
            "  File \"/usr/lib/python3.10/inspect.py\", line 1662, in getinnerframes\n",
            "    frameinfo = (tb.tb_frame,) + getframeinfo(tb, context)\n",
            "  File \"/usr/lib/python3.10/inspect.py\", line 1620, in getframeinfo\n",
            "    filename = getsourcefile(frame) or getfile(frame)\n",
            "  File \"/usr/lib/python3.10/inspect.py\", line 829, in getsourcefile\n",
            "    module = getmodule(object, filename)\n",
            "  File \"/usr/lib/python3.10/inspect.py\", line 878, in getmodule\n",
            "    os.path.realpath(f)] = module.__name__\n",
            "  File \"/usr/lib/python3.10/posixpath.py\", line 396, in realpath\n",
            "    path, ok = _joinrealpath(filename[:0], filename, strict, {})\n",
            "  File \"/usr/lib/python3.10/posixpath.py\", line 431, in _joinrealpath\n",
            "    st = os.lstat(newpath)\n",
            "KeyboardInterrupt\n"
          ]
        },
        {
          "name": "stderr",
          "output_type": "stream",
          "text": [
            "ERROR:root:Internal Python error in the inspect module.\n",
            "Below is the traceback from this internal error.\n",
            "\n"
          ]
        },
        {
          "name": "stdout",
          "output_type": "stream",
          "text": [
            "Traceback (most recent call last):\n",
            "  File \"/usr/local/lib/python3.10/dist-packages/IPython/core/interactiveshell.py\", line 3553, in run_code\n",
            "    exec(code_obj, self.user_global_ns, self.user_ns)\n",
            "  File \"<ipython-input-16-29dd9fbecc91>\", line 21, in <cell line: 11>\n",
            "    gradient = KTA_gradient(theta, X_batch, Y_batch, y_outer)\n",
            "  File \"<ipython-input-13-95ce99371d20>\", line 129, in KTA_gradient\n",
            "    kernel_matrix_train_original = kernel(bound_map_original).evaluate(x_vec=X)\n",
            "  File \"/usr/local/lib/python3.10/dist-packages/qiskit_machine_learning/kernels/fidelity_quantum_kernel.py\", line 105, in evaluate\n",
            "    kernel_matrix = self._get_symmetric_kernel_matrix(\n",
            "  File \"/usr/local/lib/python3.10/dist-packages/qiskit_machine_learning/kernels/fidelity_quantum_kernel.py\", line 196, in _get_symmetric_kernel_matrix\n",
            "    kernel_entries = self._get_kernel_entries(left_parameters, right_parameters)\n",
            "  File \"/usr/local/lib/python3.10/dist-packages/qiskit_machine_learning/kernels/fidelity_quantum_kernel.py\", line 218, in _get_kernel_entries\n",
            "    kernel_entries = np.real(job.result().fidelities)\n",
            "  File \"/usr/local/lib/python3.10/dist-packages/qiskit/primitives/primitive_job.py\", line 55, in result\n",
            "    return self._future.result()\n",
            "  File \"/usr/lib/python3.10/concurrent/futures/_base.py\", line 453, in result\n",
            "    self._condition.wait(timeout)\n",
            "  File \"/usr/lib/python3.10/threading.py\", line 320, in wait\n",
            "    waiter.acquire()\n",
            "KeyboardInterrupt\n",
            "\n",
            "During handling of the above exception, another exception occurred:\n",
            "\n",
            "Traceback (most recent call last):\n",
            "  File \"/usr/local/lib/python3.10/dist-packages/IPython/core/interactiveshell.py\", line 2099, in showtraceback\n",
            "    stb = value._render_traceback_()\n",
            "AttributeError: 'KeyboardInterrupt' object has no attribute '_render_traceback_'\n",
            "\n",
            "During handling of the above exception, another exception occurred:\n",
            "\n",
            "Traceback (most recent call last):\n",
            "  File \"/usr/local/lib/python3.10/dist-packages/IPython/core/interactiveshell.py\", line 3473, in run_ast_nodes\n",
            "    if (await self.run_code(code, result,  async_=asy)):\n",
            "  File \"/usr/local/lib/python3.10/dist-packages/IPython/core/interactiveshell.py\", line 3575, in run_code\n",
            "    self.showtraceback(running_compiled_code=True)\n",
            "  File \"/usr/local/lib/python3.10/dist-packages/IPython/core/interactiveshell.py\", line 2101, in showtraceback\n",
            "    stb = self.InteractiveTB.structured_traceback(etype,\n",
            "  File \"/usr/local/lib/python3.10/dist-packages/IPython/core/ultratb.py\", line 1367, in structured_traceback\n",
            "    return FormattedTB.structured_traceback(\n",
            "  File \"/usr/local/lib/python3.10/dist-packages/IPython/core/ultratb.py\", line 1267, in structured_traceback\n",
            "    return VerboseTB.structured_traceback(\n",
            "  File \"/usr/local/lib/python3.10/dist-packages/IPython/core/ultratb.py\", line 1124, in structured_traceback\n",
            "    formatted_exception = self.format_exception_as_a_whole(etype, evalue, etb, number_of_lines_of_context,\n",
            "  File \"/usr/local/lib/python3.10/dist-packages/IPython/core/ultratb.py\", line 1082, in format_exception_as_a_whole\n",
            "    last_unique, recursion_repeat = find_recursion(orig_etype, evalue, records)\n",
            "  File \"/usr/local/lib/python3.10/dist-packages/IPython/core/ultratb.py\", line 382, in find_recursion\n",
            "    return len(records), 0\n",
            "TypeError: object of type 'NoneType' has no len()\n",
            "\n",
            "During handling of the above exception, another exception occurred:\n",
            "\n",
            "Traceback (most recent call last):\n",
            "  File \"/usr/local/lib/python3.10/dist-packages/IPython/core/interactiveshell.py\", line 2099, in showtraceback\n",
            "    stb = value._render_traceback_()\n",
            "AttributeError: 'TypeError' object has no attribute '_render_traceback_'\n",
            "\n",
            "During handling of the above exception, another exception occurred:\n",
            "\n",
            "Traceback (most recent call last):\n",
            "  File \"/usr/local/lib/python3.10/dist-packages/IPython/core/ultratb.py\", line 1101, in get_records\n",
            "    return _fixed_getinnerframes(etb, number_of_lines_of_context, tb_offset)\n",
            "  File \"/usr/local/lib/python3.10/dist-packages/IPython/core/ultratb.py\", line 248, in wrapped\n",
            "    return f(*args, **kwargs)\n",
            "  File \"/usr/local/lib/python3.10/dist-packages/IPython/core/ultratb.py\", line 281, in _fixed_getinnerframes\n",
            "    records = fix_frame_records_filenames(inspect.getinnerframes(etb, context))\n",
            "  File \"/usr/lib/python3.10/inspect.py\", line 1662, in getinnerframes\n",
            "    frameinfo = (tb.tb_frame,) + getframeinfo(tb, context)\n",
            "  File \"/usr/lib/python3.10/inspect.py\", line 1620, in getframeinfo\n",
            "    filename = getsourcefile(frame) or getfile(frame)\n",
            "  File \"/usr/lib/python3.10/inspect.py\", line 829, in getsourcefile\n",
            "    module = getmodule(object, filename)\n",
            "  File \"/usr/lib/python3.10/inspect.py\", line 878, in getmodule\n",
            "    os.path.realpath(f)] = module.__name__\n",
            "  File \"/usr/lib/python3.10/posixpath.py\", line 396, in realpath\n",
            "    path, ok = _joinrealpath(filename[:0], filename, strict, {})\n",
            "  File \"/usr/lib/python3.10/posixpath.py\", line 431, in _joinrealpath\n",
            "    st = os.lstat(newpath)\n",
            "KeyboardInterrupt\n"
          ]
        },
        {
          "ename": "TypeError",
          "evalue": "ignored",
          "output_type": "error",
          "traceback": [
            "\u001b[0;31m---------------------------------------------------------------------------\u001b[0m",
            "\u001b[0;31mKeyboardInterrupt\u001b[0m                         Traceback (most recent call last)",
            "    \u001b[0;31m[... skipping hidden 1 frame]\u001b[0m\n",
            "\u001b[0;32m<ipython-input-16-29dd9fbecc91>\u001b[0m in \u001b[0;36m<cell line: 11>\u001b[0;34m()\u001b[0m\n\u001b[1;32m     20\u001b[0m     \u001b[0;31m# Compute the gradient using this batch\u001b[0m\u001b[0;34m\u001b[0m\u001b[0;34m\u001b[0m\u001b[0m\n\u001b[0;32m---> 21\u001b[0;31m     \u001b[0mgradient\u001b[0m \u001b[0;34m=\u001b[0m \u001b[0mKTA_gradient\u001b[0m\u001b[0;34m(\u001b[0m\u001b[0mtheta\u001b[0m\u001b[0;34m,\u001b[0m \u001b[0mX_batch\u001b[0m\u001b[0;34m,\u001b[0m \u001b[0mY_batch\u001b[0m\u001b[0;34m,\u001b[0m \u001b[0my_outer\u001b[0m\u001b[0;34m)\u001b[0m\u001b[0;34m\u001b[0m\u001b[0;34m\u001b[0m\u001b[0m\n\u001b[0m\u001b[1;32m     22\u001b[0m     \u001b[0mupdate\u001b[0m \u001b[0;34m=\u001b[0m \u001b[0;34m[\u001b[0m\u001b[0mcurrent_learning_rate\u001b[0m \u001b[0;34m*\u001b[0m \u001b[0mgradient\u001b[0m\u001b[0;34m[\u001b[0m\u001b[0mi\u001b[0m\u001b[0;34m]\u001b[0m \u001b[0;32mfor\u001b[0m \u001b[0mi\u001b[0m \u001b[0;32min\u001b[0m \u001b[0mrange\u001b[0m\u001b[0;34m(\u001b[0m\u001b[0mnum_features\u001b[0m\u001b[0;34m)\u001b[0m\u001b[0;34m]\u001b[0m\u001b[0;34m\u001b[0m\u001b[0;34m\u001b[0m\u001b[0m\n",
            "\u001b[0;32m<ipython-input-13-95ce99371d20>\u001b[0m in \u001b[0;36mKTA_gradient\u001b[0;34m(thetas, X, Y, y_outer, delta_theta)\u001b[0m\n\u001b[1;32m    128\u001b[0m         \u001b[0mbound_map_original\u001b[0m \u001b[0;34m=\u001b[0m \u001b[0mfeature_map\u001b[0m\u001b[0;34m.\u001b[0m\u001b[0mbind_parameters\u001b[0m\u001b[0;34m(\u001b[0m\u001b[0;34m{\u001b[0m\u001b[0mtraining_params\u001b[0m\u001b[0;34m[\u001b[0m\u001b[0mj\u001b[0m\u001b[0;34m]\u001b[0m\u001b[0;34m:\u001b[0m \u001b[0mthetas\u001b[0m\u001b[0;34m[\u001b[0m\u001b[0mj\u001b[0m\u001b[0;34m]\u001b[0m \u001b[0;32mfor\u001b[0m \u001b[0mj\u001b[0m \u001b[0;32min\u001b[0m \u001b[0mrange\u001b[0m\u001b[0;34m(\u001b[0m\u001b[0mlen\u001b[0m\u001b[0;34m(\u001b[0m\u001b[0mthetas\u001b[0m\u001b[0;34m)\u001b[0m\u001b[0;34m)\u001b[0m\u001b[0;34m}\u001b[0m\u001b[0;34m)\u001b[0m\u001b[0;34m\u001b[0m\u001b[0;34m\u001b[0m\u001b[0m\n\u001b[0;32m--> 129\u001b[0;31m         \u001b[0mkernel_matrix_train_original\u001b[0m \u001b[0;34m=\u001b[0m \u001b[0mkernel\u001b[0m\u001b[0;34m(\u001b[0m\u001b[0mbound_map_original\u001b[0m\u001b[0;34m)\u001b[0m\u001b[0;34m.\u001b[0m\u001b[0mevaluate\u001b[0m\u001b[0;34m(\u001b[0m\u001b[0mx_vec\u001b[0m\u001b[0;34m=\u001b[0m\u001b[0mX\u001b[0m\u001b[0;34m)\u001b[0m\u001b[0;34m\u001b[0m\u001b[0;34m\u001b[0m\u001b[0m\n\u001b[0m\u001b[1;32m    130\u001b[0m         \u001b[0mkta_original\u001b[0m \u001b[0;34m=\u001b[0m \u001b[0mKTA\u001b[0m\u001b[0;34m(\u001b[0m\u001b[0mkernel_matrix_train_original\u001b[0m\u001b[0;34m,\u001b[0m \u001b[0mY\u001b[0m\u001b[0;34m,\u001b[0m \u001b[0my_outer\u001b[0m\u001b[0;34m)\u001b[0m\u001b[0;34m\u001b[0m\u001b[0;34m\u001b[0m\u001b[0m\n",
            "\u001b[0;32m/usr/local/lib/python3.10/dist-packages/qiskit_machine_learning/kernels/fidelity_quantum_kernel.py\u001b[0m in \u001b[0;36mevaluate\u001b[0;34m(self, x_vec, y_vec)\u001b[0m\n\u001b[1;32m    104\u001b[0m             \u001b[0mleft_parameters\u001b[0m\u001b[0;34m,\u001b[0m \u001b[0mright_parameters\u001b[0m\u001b[0;34m,\u001b[0m \u001b[0mindices\u001b[0m \u001b[0;34m=\u001b[0m \u001b[0mself\u001b[0m\u001b[0;34m.\u001b[0m\u001b[0m_get_symmetric_parameterization\u001b[0m\u001b[0;34m(\u001b[0m\u001b[0mx_vec\u001b[0m\u001b[0;34m)\u001b[0m\u001b[0;34m\u001b[0m\u001b[0;34m\u001b[0m\u001b[0m\n\u001b[0;32m--> 105\u001b[0;31m             kernel_matrix = self._get_symmetric_kernel_matrix(\n\u001b[0m\u001b[1;32m    106\u001b[0m                 \u001b[0mkernel_shape\u001b[0m\u001b[0;34m,\u001b[0m \u001b[0mleft_parameters\u001b[0m\u001b[0;34m,\u001b[0m \u001b[0mright_parameters\u001b[0m\u001b[0;34m,\u001b[0m \u001b[0mindices\u001b[0m\u001b[0;34m\u001b[0m\u001b[0;34m\u001b[0m\u001b[0m\n",
            "\u001b[0;32m/usr/local/lib/python3.10/dist-packages/qiskit_machine_learning/kernels/fidelity_quantum_kernel.py\u001b[0m in \u001b[0;36m_get_symmetric_kernel_matrix\u001b[0;34m(self, kernel_shape, left_parameters, right_parameters, indices)\u001b[0m\n\u001b[1;32m    195\u001b[0m         \"\"\"\n\u001b[0;32m--> 196\u001b[0;31m         \u001b[0mkernel_entries\u001b[0m \u001b[0;34m=\u001b[0m \u001b[0mself\u001b[0m\u001b[0;34m.\u001b[0m\u001b[0m_get_kernel_entries\u001b[0m\u001b[0;34m(\u001b[0m\u001b[0mleft_parameters\u001b[0m\u001b[0;34m,\u001b[0m \u001b[0mright_parameters\u001b[0m\u001b[0;34m)\u001b[0m\u001b[0;34m\u001b[0m\u001b[0;34m\u001b[0m\u001b[0m\n\u001b[0m\u001b[1;32m    197\u001b[0m         \u001b[0mkernel_matrix\u001b[0m \u001b[0;34m=\u001b[0m \u001b[0mnp\u001b[0m\u001b[0;34m.\u001b[0m\u001b[0mones\u001b[0m\u001b[0;34m(\u001b[0m\u001b[0mkernel_shape\u001b[0m\u001b[0;34m)\u001b[0m\u001b[0;34m\u001b[0m\u001b[0;34m\u001b[0m\u001b[0m\n",
            "\u001b[0;32m/usr/local/lib/python3.10/dist-packages/qiskit_machine_learning/kernels/fidelity_quantum_kernel.py\u001b[0m in \u001b[0;36m_get_kernel_entries\u001b[0;34m(self, left_parameters, right_parameters)\u001b[0m\n\u001b[1;32m    217\u001b[0m             )\n\u001b[0;32m--> 218\u001b[0;31m             \u001b[0mkernel_entries\u001b[0m \u001b[0;34m=\u001b[0m \u001b[0mnp\u001b[0m\u001b[0;34m.\u001b[0m\u001b[0mreal\u001b[0m\u001b[0;34m(\u001b[0m\u001b[0mjob\u001b[0m\u001b[0;34m.\u001b[0m\u001b[0mresult\u001b[0m\u001b[0;34m(\u001b[0m\u001b[0;34m)\u001b[0m\u001b[0;34m.\u001b[0m\u001b[0mfidelities\u001b[0m\u001b[0;34m)\u001b[0m\u001b[0;34m\u001b[0m\u001b[0;34m\u001b[0m\u001b[0m\n\u001b[0m\u001b[1;32m    219\u001b[0m         \u001b[0;32melse\u001b[0m\u001b[0;34m:\u001b[0m\u001b[0;34m\u001b[0m\u001b[0;34m\u001b[0m\u001b[0m\n",
            "\u001b[0;32m/usr/local/lib/python3.10/dist-packages/qiskit/primitives/primitive_job.py\u001b[0m in \u001b[0;36mresult\u001b[0;34m(self)\u001b[0m\n\u001b[1;32m     54\u001b[0m         \u001b[0mself\u001b[0m\u001b[0;34m.\u001b[0m\u001b[0m_check_submitted\u001b[0m\u001b[0;34m(\u001b[0m\u001b[0;34m)\u001b[0m\u001b[0;34m\u001b[0m\u001b[0;34m\u001b[0m\u001b[0m\n\u001b[0;32m---> 55\u001b[0;31m         \u001b[0;32mreturn\u001b[0m \u001b[0mself\u001b[0m\u001b[0;34m.\u001b[0m\u001b[0m_future\u001b[0m\u001b[0;34m.\u001b[0m\u001b[0mresult\u001b[0m\u001b[0;34m(\u001b[0m\u001b[0;34m)\u001b[0m\u001b[0;34m\u001b[0m\u001b[0;34m\u001b[0m\u001b[0m\n\u001b[0m\u001b[1;32m     56\u001b[0m \u001b[0;34m\u001b[0m\u001b[0m\n",
            "\u001b[0;32m/usr/lib/python3.10/concurrent/futures/_base.py\u001b[0m in \u001b[0;36mresult\u001b[0;34m(self, timeout)\u001b[0m\n\u001b[1;32m    452\u001b[0m \u001b[0;34m\u001b[0m\u001b[0m\n\u001b[0;32m--> 453\u001b[0;31m                 \u001b[0mself\u001b[0m\u001b[0;34m.\u001b[0m\u001b[0m_condition\u001b[0m\u001b[0;34m.\u001b[0m\u001b[0mwait\u001b[0m\u001b[0;34m(\u001b[0m\u001b[0mtimeout\u001b[0m\u001b[0;34m)\u001b[0m\u001b[0;34m\u001b[0m\u001b[0;34m\u001b[0m\u001b[0m\n\u001b[0m\u001b[1;32m    454\u001b[0m \u001b[0;34m\u001b[0m\u001b[0m\n",
            "\u001b[0;32m/usr/lib/python3.10/threading.py\u001b[0m in \u001b[0;36mwait\u001b[0;34m(self, timeout)\u001b[0m\n\u001b[1;32m    319\u001b[0m             \u001b[0;32mif\u001b[0m \u001b[0mtimeout\u001b[0m \u001b[0;32mis\u001b[0m \u001b[0;32mNone\u001b[0m\u001b[0;34m:\u001b[0m\u001b[0;34m\u001b[0m\u001b[0;34m\u001b[0m\u001b[0m\n\u001b[0;32m--> 320\u001b[0;31m                 \u001b[0mwaiter\u001b[0m\u001b[0;34m.\u001b[0m\u001b[0macquire\u001b[0m\u001b[0;34m(\u001b[0m\u001b[0;34m)\u001b[0m\u001b[0;34m\u001b[0m\u001b[0;34m\u001b[0m\u001b[0m\n\u001b[0m\u001b[1;32m    321\u001b[0m                 \u001b[0mgotit\u001b[0m \u001b[0;34m=\u001b[0m \u001b[0;32mTrue\u001b[0m\u001b[0;34m\u001b[0m\u001b[0;34m\u001b[0m\u001b[0m\n",
            "\u001b[0;31mKeyboardInterrupt\u001b[0m: ",
            "\nDuring handling of the above exception, another exception occurred:\n",
            "\u001b[0;31mAttributeError\u001b[0m                            Traceback (most recent call last)",
            "\u001b[0;32m/usr/local/lib/python3.10/dist-packages/IPython/core/interactiveshell.py\u001b[0m in \u001b[0;36mshowtraceback\u001b[0;34m(self, exc_tuple, filename, tb_offset, exception_only, running_compiled_code)\u001b[0m\n\u001b[1;32m   2098\u001b[0m                         \u001b[0;31m# in the engines. This should return a list of strings.\u001b[0m\u001b[0;34m\u001b[0m\u001b[0;34m\u001b[0m\u001b[0m\n\u001b[0;32m-> 2099\u001b[0;31m                         \u001b[0mstb\u001b[0m \u001b[0;34m=\u001b[0m \u001b[0mvalue\u001b[0m\u001b[0;34m.\u001b[0m\u001b[0m_render_traceback_\u001b[0m\u001b[0;34m(\u001b[0m\u001b[0;34m)\u001b[0m\u001b[0;34m\u001b[0m\u001b[0;34m\u001b[0m\u001b[0m\n\u001b[0m\u001b[1;32m   2100\u001b[0m                     \u001b[0;32mexcept\u001b[0m \u001b[0mException\u001b[0m\u001b[0;34m:\u001b[0m\u001b[0;34m\u001b[0m\u001b[0;34m\u001b[0m\u001b[0m\n",
            "\u001b[0;31mAttributeError\u001b[0m: 'KeyboardInterrupt' object has no attribute '_render_traceback_'",
            "\nDuring handling of the above exception, another exception occurred:\n",
            "\u001b[0;31mTypeError\u001b[0m                                 Traceback (most recent call last)",
            "\u001b[0;32m/usr/local/lib/python3.10/dist-packages/IPython/core/interactiveshell.py\u001b[0m in \u001b[0;36mrun_ast_nodes\u001b[0;34m(self, nodelist, cell_name, interactivity, compiler, result)\u001b[0m\n\u001b[1;32m   3472\u001b[0m                         \u001b[0masy\u001b[0m \u001b[0;34m=\u001b[0m \u001b[0mcompare\u001b[0m\u001b[0;34m(\u001b[0m\u001b[0mcode\u001b[0m\u001b[0;34m)\u001b[0m\u001b[0;34m\u001b[0m\u001b[0;34m\u001b[0m\u001b[0m\n\u001b[0;32m-> 3473\u001b[0;31m                     \u001b[0;32mif\u001b[0m \u001b[0;34m(\u001b[0m\u001b[0;32mawait\u001b[0m \u001b[0mself\u001b[0m\u001b[0;34m.\u001b[0m\u001b[0mrun_code\u001b[0m\u001b[0;34m(\u001b[0m\u001b[0mcode\u001b[0m\u001b[0;34m,\u001b[0m \u001b[0mresult\u001b[0m\u001b[0;34m,\u001b[0m  \u001b[0masync_\u001b[0m\u001b[0;34m=\u001b[0m\u001b[0masy\u001b[0m\u001b[0;34m)\u001b[0m\u001b[0;34m)\u001b[0m\u001b[0;34m:\u001b[0m\u001b[0;34m\u001b[0m\u001b[0;34m\u001b[0m\u001b[0m\n\u001b[0m\u001b[1;32m   3474\u001b[0m                         \u001b[0;32mreturn\u001b[0m \u001b[0;32mTrue\u001b[0m\u001b[0;34m\u001b[0m\u001b[0;34m\u001b[0m\u001b[0m\n",
            "    \u001b[0;31m[... skipping hidden 1 frame]\u001b[0m\n",
            "\u001b[0;32m/usr/local/lib/python3.10/dist-packages/IPython/core/interactiveshell.py\u001b[0m in \u001b[0;36mshowtraceback\u001b[0;34m(self, exc_tuple, filename, tb_offset, exception_only, running_compiled_code)\u001b[0m\n\u001b[1;32m   2100\u001b[0m                     \u001b[0;32mexcept\u001b[0m \u001b[0mException\u001b[0m\u001b[0;34m:\u001b[0m\u001b[0;34m\u001b[0m\u001b[0;34m\u001b[0m\u001b[0m\n\u001b[0;32m-> 2101\u001b[0;31m                         stb = self.InteractiveTB.structured_traceback(etype,\n\u001b[0m\u001b[1;32m   2102\u001b[0m                                             value, tb, tb_offset=tb_offset)\n",
            "\u001b[0;32m/usr/local/lib/python3.10/dist-packages/IPython/core/ultratb.py\u001b[0m in \u001b[0;36mstructured_traceback\u001b[0;34m(self, etype, value, tb, tb_offset, number_of_lines_of_context)\u001b[0m\n\u001b[1;32m   1366\u001b[0m             \u001b[0mself\u001b[0m\u001b[0;34m.\u001b[0m\u001b[0mtb\u001b[0m \u001b[0;34m=\u001b[0m \u001b[0mtb\u001b[0m\u001b[0;34m\u001b[0m\u001b[0;34m\u001b[0m\u001b[0m\n\u001b[0;32m-> 1367\u001b[0;31m         return FormattedTB.structured_traceback(\n\u001b[0m\u001b[1;32m   1368\u001b[0m             self, etype, value, tb, tb_offset, number_of_lines_of_context)\n",
            "\u001b[0;32m/usr/local/lib/python3.10/dist-packages/IPython/core/ultratb.py\u001b[0m in \u001b[0;36mstructured_traceback\u001b[0;34m(self, etype, value, tb, tb_offset, number_of_lines_of_context)\u001b[0m\n\u001b[1;32m   1266\u001b[0m             \u001b[0;31m# Verbose modes need a full traceback\u001b[0m\u001b[0;34m\u001b[0m\u001b[0;34m\u001b[0m\u001b[0m\n\u001b[0;32m-> 1267\u001b[0;31m             return VerboseTB.structured_traceback(\n\u001b[0m\u001b[1;32m   1268\u001b[0m                 \u001b[0mself\u001b[0m\u001b[0;34m,\u001b[0m \u001b[0metype\u001b[0m\u001b[0;34m,\u001b[0m \u001b[0mvalue\u001b[0m\u001b[0;34m,\u001b[0m \u001b[0mtb\u001b[0m\u001b[0;34m,\u001b[0m \u001b[0mtb_offset\u001b[0m\u001b[0;34m,\u001b[0m \u001b[0mnumber_of_lines_of_context\u001b[0m\u001b[0;34m\u001b[0m\u001b[0;34m\u001b[0m\u001b[0m\n",
            "\u001b[0;32m/usr/local/lib/python3.10/dist-packages/IPython/core/ultratb.py\u001b[0m in \u001b[0;36mstructured_traceback\u001b[0;34m(self, etype, evalue, etb, tb_offset, number_of_lines_of_context)\u001b[0m\n\u001b[1;32m   1123\u001b[0m \u001b[0;34m\u001b[0m\u001b[0m\n\u001b[0;32m-> 1124\u001b[0;31m         formatted_exception = self.format_exception_as_a_whole(etype, evalue, etb, number_of_lines_of_context,\n\u001b[0m\u001b[1;32m   1125\u001b[0m                                                                tb_offset)\n",
            "\u001b[0;32m/usr/local/lib/python3.10/dist-packages/IPython/core/ultratb.py\u001b[0m in \u001b[0;36mformat_exception_as_a_whole\u001b[0;34m(self, etype, evalue, etb, number_of_lines_of_context, tb_offset)\u001b[0m\n\u001b[1;32m   1081\u001b[0m \u001b[0;34m\u001b[0m\u001b[0m\n\u001b[0;32m-> 1082\u001b[0;31m         \u001b[0mlast_unique\u001b[0m\u001b[0;34m,\u001b[0m \u001b[0mrecursion_repeat\u001b[0m \u001b[0;34m=\u001b[0m \u001b[0mfind_recursion\u001b[0m\u001b[0;34m(\u001b[0m\u001b[0morig_etype\u001b[0m\u001b[0;34m,\u001b[0m \u001b[0mevalue\u001b[0m\u001b[0;34m,\u001b[0m \u001b[0mrecords\u001b[0m\u001b[0;34m)\u001b[0m\u001b[0;34m\u001b[0m\u001b[0;34m\u001b[0m\u001b[0m\n\u001b[0m\u001b[1;32m   1083\u001b[0m \u001b[0;34m\u001b[0m\u001b[0m\n",
            "\u001b[0;32m/usr/local/lib/python3.10/dist-packages/IPython/core/ultratb.py\u001b[0m in \u001b[0;36mfind_recursion\u001b[0;34m(etype, value, records)\u001b[0m\n\u001b[1;32m    381\u001b[0m     \u001b[0;32mif\u001b[0m \u001b[0;32mnot\u001b[0m \u001b[0mis_recursion_error\u001b[0m\u001b[0;34m(\u001b[0m\u001b[0metype\u001b[0m\u001b[0;34m,\u001b[0m \u001b[0mvalue\u001b[0m\u001b[0;34m,\u001b[0m \u001b[0mrecords\u001b[0m\u001b[0;34m)\u001b[0m\u001b[0;34m:\u001b[0m\u001b[0;34m\u001b[0m\u001b[0;34m\u001b[0m\u001b[0m\n\u001b[0;32m--> 382\u001b[0;31m         \u001b[0;32mreturn\u001b[0m \u001b[0mlen\u001b[0m\u001b[0;34m(\u001b[0m\u001b[0mrecords\u001b[0m\u001b[0;34m)\u001b[0m\u001b[0;34m,\u001b[0m \u001b[0;36m0\u001b[0m\u001b[0;34m\u001b[0m\u001b[0;34m\u001b[0m\u001b[0m\n\u001b[0m\u001b[1;32m    383\u001b[0m \u001b[0;34m\u001b[0m\u001b[0m\n",
            "\u001b[0;31mTypeError\u001b[0m: object of type 'NoneType' has no len()",
            "\nDuring handling of the above exception, another exception occurred:\n",
            "\u001b[0;31mAttributeError\u001b[0m                            Traceback (most recent call last)",
            "\u001b[0;32m/usr/local/lib/python3.10/dist-packages/IPython/core/interactiveshell.py\u001b[0m in \u001b[0;36mshowtraceback\u001b[0;34m(self, exc_tuple, filename, tb_offset, exception_only, running_compiled_code)\u001b[0m\n\u001b[1;32m   2098\u001b[0m                         \u001b[0;31m# in the engines. This should return a list of strings.\u001b[0m\u001b[0;34m\u001b[0m\u001b[0;34m\u001b[0m\u001b[0m\n\u001b[0;32m-> 2099\u001b[0;31m                         \u001b[0mstb\u001b[0m \u001b[0;34m=\u001b[0m \u001b[0mvalue\u001b[0m\u001b[0;34m.\u001b[0m\u001b[0m_render_traceback_\u001b[0m\u001b[0;34m(\u001b[0m\u001b[0;34m)\u001b[0m\u001b[0;34m\u001b[0m\u001b[0;34m\u001b[0m\u001b[0m\n\u001b[0m\u001b[1;32m   2100\u001b[0m                     \u001b[0;32mexcept\u001b[0m \u001b[0mException\u001b[0m\u001b[0;34m:\u001b[0m\u001b[0;34m\u001b[0m\u001b[0;34m\u001b[0m\u001b[0m\n",
            "\u001b[0;31mAttributeError\u001b[0m: 'TypeError' object has no attribute '_render_traceback_'",
            "\nDuring handling of the above exception, another exception occurred:\n",
            "\u001b[0;31mTypeError\u001b[0m                                 Traceback (most recent call last)",
            "\u001b[0;32m/usr/local/lib/python3.10/dist-packages/IPython/core/async_helpers.py\u001b[0m in \u001b[0;36m_pseudo_sync_runner\u001b[0;34m(coro)\u001b[0m\n\u001b[1;32m     76\u001b[0m     \"\"\"\n\u001b[1;32m     77\u001b[0m     \u001b[0;32mtry\u001b[0m\u001b[0;34m:\u001b[0m\u001b[0;34m\u001b[0m\u001b[0;34m\u001b[0m\u001b[0m\n\u001b[0;32m---> 78\u001b[0;31m         \u001b[0mcoro\u001b[0m\u001b[0;34m.\u001b[0m\u001b[0msend\u001b[0m\u001b[0;34m(\u001b[0m\u001b[0;32mNone\u001b[0m\u001b[0;34m)\u001b[0m\u001b[0;34m\u001b[0m\u001b[0;34m\u001b[0m\u001b[0m\n\u001b[0m\u001b[1;32m     79\u001b[0m     \u001b[0;32mexcept\u001b[0m \u001b[0mStopIteration\u001b[0m \u001b[0;32mas\u001b[0m \u001b[0mexc\u001b[0m\u001b[0;34m:\u001b[0m\u001b[0;34m\u001b[0m\u001b[0;34m\u001b[0m\u001b[0m\n\u001b[1;32m     80\u001b[0m         \u001b[0;32mreturn\u001b[0m \u001b[0mexc\u001b[0m\u001b[0;34m.\u001b[0m\u001b[0mvalue\u001b[0m\u001b[0;34m\u001b[0m\u001b[0;34m\u001b[0m\u001b[0m\n",
            "\u001b[0;32m/usr/local/lib/python3.10/dist-packages/IPython/core/interactiveshell.py\u001b[0m in \u001b[0;36mrun_cell_async\u001b[0;34m(self, raw_cell, store_history, silent, shell_futures, transformed_cell, preprocessing_exc_tuple, cell_id)\u001b[0m\n\u001b[1;32m   3255\u001b[0m                     \u001b[0minteractivity\u001b[0m \u001b[0;34m=\u001b[0m \u001b[0;34m'async'\u001b[0m\u001b[0;34m\u001b[0m\u001b[0;34m\u001b[0m\u001b[0m\n\u001b[1;32m   3256\u001b[0m \u001b[0;34m\u001b[0m\u001b[0m\n\u001b[0;32m-> 3257\u001b[0;31m                 has_raised = await self.run_ast_nodes(code_ast.body, cell_name,\n\u001b[0m\u001b[1;32m   3258\u001b[0m                        interactivity=interactivity, compiler=compiler, result=result)\n\u001b[1;32m   3259\u001b[0m \u001b[0;34m\u001b[0m\u001b[0m\n",
            "\u001b[0;32m/usr/local/lib/python3.10/dist-packages/IPython/core/interactiveshell.py\u001b[0m in \u001b[0;36mrun_ast_nodes\u001b[0;34m(self, nodelist, cell_name, interactivity, compiler, result)\u001b[0m\n\u001b[1;32m   3490\u001b[0m             \u001b[0;32mif\u001b[0m \u001b[0mresult\u001b[0m\u001b[0;34m:\u001b[0m\u001b[0;34m\u001b[0m\u001b[0;34m\u001b[0m\u001b[0m\n\u001b[1;32m   3491\u001b[0m                 \u001b[0mresult\u001b[0m\u001b[0;34m.\u001b[0m\u001b[0merror_before_exec\u001b[0m \u001b[0;34m=\u001b[0m \u001b[0msys\u001b[0m\u001b[0;34m.\u001b[0m\u001b[0mexc_info\u001b[0m\u001b[0;34m(\u001b[0m\u001b[0;34m)\u001b[0m\u001b[0;34m[\u001b[0m\u001b[0;36m1\u001b[0m\u001b[0;34m]\u001b[0m\u001b[0;34m\u001b[0m\u001b[0;34m\u001b[0m\u001b[0m\n\u001b[0;32m-> 3492\u001b[0;31m             \u001b[0mself\u001b[0m\u001b[0;34m.\u001b[0m\u001b[0mshowtraceback\u001b[0m\u001b[0;34m(\u001b[0m\u001b[0;34m)\u001b[0m\u001b[0;34m\u001b[0m\u001b[0;34m\u001b[0m\u001b[0m\n\u001b[0m\u001b[1;32m   3493\u001b[0m             \u001b[0;32mreturn\u001b[0m \u001b[0;32mTrue\u001b[0m\u001b[0;34m\u001b[0m\u001b[0;34m\u001b[0m\u001b[0m\n\u001b[1;32m   3494\u001b[0m \u001b[0;34m\u001b[0m\u001b[0m\n",
            "\u001b[0;32m/usr/local/lib/python3.10/dist-packages/IPython/core/interactiveshell.py\u001b[0m in \u001b[0;36mshowtraceback\u001b[0;34m(self, exc_tuple, filename, tb_offset, exception_only, running_compiled_code)\u001b[0m\n\u001b[1;32m   2099\u001b[0m                         \u001b[0mstb\u001b[0m \u001b[0;34m=\u001b[0m \u001b[0mvalue\u001b[0m\u001b[0;34m.\u001b[0m\u001b[0m_render_traceback_\u001b[0m\u001b[0;34m(\u001b[0m\u001b[0;34m)\u001b[0m\u001b[0;34m\u001b[0m\u001b[0;34m\u001b[0m\u001b[0m\n\u001b[1;32m   2100\u001b[0m                     \u001b[0;32mexcept\u001b[0m \u001b[0mException\u001b[0m\u001b[0;34m:\u001b[0m\u001b[0;34m\u001b[0m\u001b[0;34m\u001b[0m\u001b[0m\n\u001b[0;32m-> 2101\u001b[0;31m                         stb = self.InteractiveTB.structured_traceback(etype,\n\u001b[0m\u001b[1;32m   2102\u001b[0m                                             value, tb, tb_offset=tb_offset)\n\u001b[1;32m   2103\u001b[0m \u001b[0;34m\u001b[0m\u001b[0m\n",
            "\u001b[0;32m/usr/local/lib/python3.10/dist-packages/IPython/core/ultratb.py\u001b[0m in \u001b[0;36mstructured_traceback\u001b[0;34m(self, etype, value, tb, tb_offset, number_of_lines_of_context)\u001b[0m\n\u001b[1;32m   1365\u001b[0m         \u001b[0;32melse\u001b[0m\u001b[0;34m:\u001b[0m\u001b[0;34m\u001b[0m\u001b[0;34m\u001b[0m\u001b[0m\n\u001b[1;32m   1366\u001b[0m             \u001b[0mself\u001b[0m\u001b[0;34m.\u001b[0m\u001b[0mtb\u001b[0m \u001b[0;34m=\u001b[0m \u001b[0mtb\u001b[0m\u001b[0;34m\u001b[0m\u001b[0;34m\u001b[0m\u001b[0m\n\u001b[0;32m-> 1367\u001b[0;31m         return FormattedTB.structured_traceback(\n\u001b[0m\u001b[1;32m   1368\u001b[0m             self, etype, value, tb, tb_offset, number_of_lines_of_context)\n\u001b[1;32m   1369\u001b[0m \u001b[0;34m\u001b[0m\u001b[0m\n",
            "\u001b[0;32m/usr/local/lib/python3.10/dist-packages/IPython/core/ultratb.py\u001b[0m in \u001b[0;36mstructured_traceback\u001b[0;34m(self, etype, value, tb, tb_offset, number_of_lines_of_context)\u001b[0m\n\u001b[1;32m   1265\u001b[0m         \u001b[0;32mif\u001b[0m \u001b[0mmode\u001b[0m \u001b[0;32min\u001b[0m \u001b[0mself\u001b[0m\u001b[0;34m.\u001b[0m\u001b[0mverbose_modes\u001b[0m\u001b[0;34m:\u001b[0m\u001b[0;34m\u001b[0m\u001b[0;34m\u001b[0m\u001b[0m\n\u001b[1;32m   1266\u001b[0m             \u001b[0;31m# Verbose modes need a full traceback\u001b[0m\u001b[0;34m\u001b[0m\u001b[0;34m\u001b[0m\u001b[0m\n\u001b[0;32m-> 1267\u001b[0;31m             return VerboseTB.structured_traceback(\n\u001b[0m\u001b[1;32m   1268\u001b[0m                 \u001b[0mself\u001b[0m\u001b[0;34m,\u001b[0m \u001b[0metype\u001b[0m\u001b[0;34m,\u001b[0m \u001b[0mvalue\u001b[0m\u001b[0;34m,\u001b[0m \u001b[0mtb\u001b[0m\u001b[0;34m,\u001b[0m \u001b[0mtb_offset\u001b[0m\u001b[0;34m,\u001b[0m \u001b[0mnumber_of_lines_of_context\u001b[0m\u001b[0;34m\u001b[0m\u001b[0;34m\u001b[0m\u001b[0m\n\u001b[1;32m   1269\u001b[0m             )\n",
            "\u001b[0;32m/usr/local/lib/python3.10/dist-packages/IPython/core/ultratb.py\u001b[0m in \u001b[0;36mstructured_traceback\u001b[0;34m(self, etype, evalue, etb, tb_offset, number_of_lines_of_context)\u001b[0m\n\u001b[1;32m   1140\u001b[0m         \u001b[0mchained_exc_ids\u001b[0m \u001b[0;34m=\u001b[0m \u001b[0mset\u001b[0m\u001b[0;34m(\u001b[0m\u001b[0;34m)\u001b[0m\u001b[0;34m\u001b[0m\u001b[0;34m\u001b[0m\u001b[0m\n\u001b[1;32m   1141\u001b[0m         \u001b[0;32mwhile\u001b[0m \u001b[0mevalue\u001b[0m\u001b[0;34m:\u001b[0m\u001b[0;34m\u001b[0m\u001b[0;34m\u001b[0m\u001b[0m\n\u001b[0;32m-> 1142\u001b[0;31m             formatted_exceptions += self.format_exception_as_a_whole(etype, evalue, etb, lines_of_context,\n\u001b[0m\u001b[1;32m   1143\u001b[0m                                                                      chained_exceptions_tb_offset)\n\u001b[1;32m   1144\u001b[0m             \u001b[0mexception\u001b[0m \u001b[0;34m=\u001b[0m \u001b[0mself\u001b[0m\u001b[0;34m.\u001b[0m\u001b[0mget_parts_of_chained_exception\u001b[0m\u001b[0;34m(\u001b[0m\u001b[0mevalue\u001b[0m\u001b[0;34m)\u001b[0m\u001b[0;34m\u001b[0m\u001b[0;34m\u001b[0m\u001b[0m\n",
            "\u001b[0;32m/usr/local/lib/python3.10/dist-packages/IPython/core/ultratb.py\u001b[0m in \u001b[0;36mformat_exception_as_a_whole\u001b[0;34m(self, etype, evalue, etb, number_of_lines_of_context, tb_offset)\u001b[0m\n\u001b[1;32m   1080\u001b[0m \u001b[0;34m\u001b[0m\u001b[0m\n\u001b[1;32m   1081\u001b[0m \u001b[0;34m\u001b[0m\u001b[0m\n\u001b[0;32m-> 1082\u001b[0;31m         \u001b[0mlast_unique\u001b[0m\u001b[0;34m,\u001b[0m \u001b[0mrecursion_repeat\u001b[0m \u001b[0;34m=\u001b[0m \u001b[0mfind_recursion\u001b[0m\u001b[0;34m(\u001b[0m\u001b[0morig_etype\u001b[0m\u001b[0;34m,\u001b[0m \u001b[0mevalue\u001b[0m\u001b[0;34m,\u001b[0m \u001b[0mrecords\u001b[0m\u001b[0;34m)\u001b[0m\u001b[0;34m\u001b[0m\u001b[0;34m\u001b[0m\u001b[0m\n\u001b[0m\u001b[1;32m   1083\u001b[0m \u001b[0;34m\u001b[0m\u001b[0m\n\u001b[1;32m   1084\u001b[0m         \u001b[0mframes\u001b[0m \u001b[0;34m=\u001b[0m \u001b[0mself\u001b[0m\u001b[0;34m.\u001b[0m\u001b[0mformat_records\u001b[0m\u001b[0;34m(\u001b[0m\u001b[0mrecords\u001b[0m\u001b[0;34m,\u001b[0m \u001b[0mlast_unique\u001b[0m\u001b[0;34m,\u001b[0m \u001b[0mrecursion_repeat\u001b[0m\u001b[0;34m)\u001b[0m\u001b[0;34m\u001b[0m\u001b[0;34m\u001b[0m\u001b[0m\n",
            "\u001b[0;32m/usr/local/lib/python3.10/dist-packages/IPython/core/ultratb.py\u001b[0m in \u001b[0;36mfind_recursion\u001b[0;34m(etype, value, records)\u001b[0m\n\u001b[1;32m    380\u001b[0m     \u001b[0;31m# first frame (from in to out) that looks different.\u001b[0m\u001b[0;34m\u001b[0m\u001b[0;34m\u001b[0m\u001b[0m\n\u001b[1;32m    381\u001b[0m     \u001b[0;32mif\u001b[0m \u001b[0;32mnot\u001b[0m \u001b[0mis_recursion_error\u001b[0m\u001b[0;34m(\u001b[0m\u001b[0metype\u001b[0m\u001b[0;34m,\u001b[0m \u001b[0mvalue\u001b[0m\u001b[0;34m,\u001b[0m \u001b[0mrecords\u001b[0m\u001b[0;34m)\u001b[0m\u001b[0;34m:\u001b[0m\u001b[0;34m\u001b[0m\u001b[0;34m\u001b[0m\u001b[0m\n\u001b[0;32m--> 382\u001b[0;31m         \u001b[0;32mreturn\u001b[0m \u001b[0mlen\u001b[0m\u001b[0;34m(\u001b[0m\u001b[0mrecords\u001b[0m\u001b[0;34m)\u001b[0m\u001b[0;34m,\u001b[0m \u001b[0;36m0\u001b[0m\u001b[0;34m\u001b[0m\u001b[0;34m\u001b[0m\u001b[0m\n\u001b[0m\u001b[1;32m    383\u001b[0m \u001b[0;34m\u001b[0m\u001b[0m\n\u001b[1;32m    384\u001b[0m     \u001b[0;31m# Select filename, lineno, func_name to track frames with\u001b[0m\u001b[0;34m\u001b[0m\u001b[0;34m\u001b[0m\u001b[0m\n",
            "\u001b[0;31mTypeError\u001b[0m: object of type 'NoneType' has no len()"
          ]
        }
      ],
      "source": [
        "\n",
        "# Set optimization parameters\n",
        "initial_learning_rate = 30\n",
        "decay_rate = 1\n",
        "num_iterations = 100\n",
        "batch_size = 100\n",
        "#theta = [3.55102703827831, 3.9451707852926354, 1.5014911517997618, 0.8790446062723056]\n",
        "theta = np.random.uniform(0,2*np.pi,num_features)\n",
        "kta_values = []\n",
        "t1 = time.time()\n",
        "# Gradient ascent optimization loop with variable learning rate\n",
        "for iteration in range(num_iterations):\n",
        "    # Calculate the current learning rate based on the decay schedule\n",
        "    current_learning_rate = initial_learning_rate * (decay_rate ** iteration)\n",
        "\n",
        "    # Randomly select a batch of data points\n",
        "    idx = np.random.choice(X_train.shape[0], batch_size, replace=False)\n",
        "    X_batch = X_train[idx]\n",
        "    Y_batch = Y_train[idx]\n",
        "\n",
        "    # Compute the gradient using this batch\n",
        "    gradient = KTA_gradient(theta, X_batch, Y_batch, y_outer)\n",
        "    update = [current_learning_rate * gradient[i] for i in range(num_features)]\n",
        "    # Update the parameter using the variable learning rate\n",
        "    theta = [theta[i] + update[i] for i in range(num_features)]\n",
        "    print(theta[0],theta[1], theta[2],theta[3])\n",
        "    # Print the learning rate and iteration for monitoring\n",
        "    #print(f\"Iteration {iteration + 1} - Learning Rate: {current_learning_rate:.4f}\")\n",
        "    #print(\"Updated theta:\", theta)\n",
        "\n",
        "\n",
        "\n",
        "# Extract the optimal theta from the result\n",
        "optimal_theta = theta\n",
        "print(\"Optimal theta:\", optimal_theta)\n",
        "kta_values1 = []\n",
        "t2 = time.time()\n",
        "print(t2-t1, 'seconds')\n",
        "# Calculate and display the maximum KTA using optimal theta\n",
        "bound_map_optimal = feature_map.bind_parameters({training_params[i]: optimal_theta[i] for i in range(num_features)})\n",
        "kernel_matrix_train_optimal = kernel(bound_map_optimal).evaluate(x_vec=X_train)\n",
        "kernel_matrix_test_optimal = kernel(bound_map_optimal).evaluate(x_vec=X_test, y_vec=X_train)\n",
        "quantum_svm(kernel_matrix_train_optimal, kernel_matrix_test_optimal, Y_train, Y_test)\n",
        "\n",
        "# Plot the kernel matrices\n",
        "#plot_matrix(kernel_matrix_train, kernel_matrix_test, kernel_matrix_train_optimal, kernel_matrix_test_optimal)\n",
        "\n",
        "def KTA_gradient(thetas, X, Y, y_outer, indices_to_optimize, delta_theta=1e-6):\n",
        "    gradients = np.zeros_like(thetas) # Initialize gradients array\n",
        "    for i in indices_to_optimize: # Loop only over the indices you want to optimize\n",
        "        theta_shifted = np.copy(thetas)\n",
        "        theta_shifted[i] += delta_theta\n",
        "\n",
        "        bound_map_original = feature_map.bind_parameters({training_params[j]: thetas[j] for j in range(len(thetas))})\n",
        "        kernel_matrix_train_original = kernel(bound_map_original).evaluate(x_vec=X)\n",
        "        kta_original = KTA(kernel_matrix_train_original, Y, y_outer)\n",
        "\n",
        "        bound_map_shifted = feature_map.bind_parameters({training_params[j]: theta_shifted[j] for j in range(len(thetas))})\n",
        "        kernel_matrix_train_shifted = kernel(bound_map_shifted).evaluate(x_vec=X)\n",
        "        kta_shifted = KTA(kernel_matrix_train_shifted, Y, y_outer)\n",
        "\n",
        "        gradient = (kta_shifted - kta_original) / delta_theta\n",
        "        gradients[i] = gradient # Store gradient for this index\n",
        "    kta_values1.append(kta_original)\n",
        "    print(kta_original)\n",
        "    return np.array(gradients)\n",
        "\n",
        "\n",
        "\n",
        "# Set optimization parameters\n",
        "initial_learning_rate = 30\n",
        "decay_rate = 1\n",
        "num_iterations = 100\n",
        "batch_size = 100\n",
        "theta = np.random.uniform(0,2*np.pi,num_features)\n",
        "#theta = [3.4867625820217967, 0.8316407873036624, 0.47750437975791016, 1.1851710629562362]\n",
        "#theta = [1.2566370614359172, 3.141592653589793, 2.5132741228718345, 0.0]\n",
        "#theta = [5.026548245743669, 0.0, 1.8849555921538759, 0.0]\n",
        "indices_to_optimize = random_indices = np.random.choice(range(len(theta)), 2, replace=False)\n",
        "t3 = time.time()\n",
        "# Gradient ascent optimization loop with variable learning rate\n",
        "for iteration in range(num_iterations):\n",
        "    # Calculate the current learning rate based on the decay schedule\n",
        "    current_learning_rate = initial_learning_rate * (decay_rate ** iteration)\n",
        "\n",
        "    # Randomly select a batch of data points\n",
        "    idx = np.random.choice(X_train.shape[0], batch_size, replace=False)\n",
        "    X_batch = X_train[idx]\n",
        "    Y_batch = Y_train[idx]\n",
        "\n",
        "    # Compute the gradient using this batch\n",
        "    gradient = KTA_gradient(theta, X_batch, Y_batch, y_outer, indices_to_optimize)\n",
        "\n",
        "    # Randomly select two indices for updating\n",
        "\n",
        "\n",
        "    # Update only the selected theta parameters\n",
        "    for i in random_indices:\n",
        "        theta[i] += current_learning_rate * gradient[i]\n",
        "\n",
        "    indices_to_optimize = random_indices = np.random.choice(range(len(theta)), 2, replace=False)\n",
        "    # You can continue with the rest of your code here, such as computing the kernel matrix, etc.\n",
        "\n",
        "    print(theta[0],theta[1], theta[2],theta[3])\n",
        "\n",
        "\n",
        "# Extract the optimal theta from the result\n",
        "optimal_theta = theta\n",
        "print(\"Optimal theta:\", optimal_theta)\n",
        "t4 = time.time()\n",
        "print(t4-t3, 'Seconds')\n",
        "\n",
        "# Calculate and display the maximum KTA using optimal theta\n",
        "bound_map_optimal = feature_map.bind_parameters({training_params[i]: optimal_theta[i] for i in range(num_features)})\n",
        "kernel_matrix_train_optimal = kernel(bound_map_optimal).evaluate(x_vec=X_train)\n",
        "kernel_matrix_test_optimal = kernel(bound_map_optimal).evaluate(x_vec=X_test, y_vec=X_train)\n",
        "quantum_svm(kernel_matrix_train_optimal, kernel_matrix_test_optimal, Y_train, Y_test)\n",
        "\n",
        "\n",
        "\n",
        "\n",
        "\n",
        "\n",
        "\n",
        "\n",
        "\n",
        "\n",
        "\n",
        "\n",
        "\n",
        "# Measure execution time\n",
        "time2 = time.time()\n",
        "print(\"Execution time:\", time2 - time1)\n",
        "\n",
        "\n",
        "'''\n",
        "import itertools\n",
        "import pickle\n",
        "\n",
        "num_theta_steps = 10\n",
        "best_kta = 0.0\n",
        "num_features = len(training_params)\n",
        "best_theta = [0.0] * num_features\n",
        "\n",
        "theta_values = []  # To store the theta values\n",
        "kta_values = []    # To store the KTA values\n",
        "\n",
        "import itertools\n",
        "for steps in itertools.product(range(num_theta_steps), repeat=num_features):\n",
        "    current_theta = [step * (2 * np.pi) / num_theta_steps for step in steps]\n",
        "    theta_values.append(current_theta)\n",
        "\n",
        "\n",
        "    # Create a binding dictionary for all the theta values\n",
        "    binding_dict = {training_params[i]: current_theta[i] for i in range(num_features)}\n",
        "\n",
        "    # Bind the current theta values to the feature map\n",
        "    bound_map = feature_map.bind_parameters(binding_dict)\n",
        "    kernel_matrix_train_current = kernel(bound_map).evaluate(x_vec=X_train)\n",
        "\n",
        "    # Calculate KTA for the current theta values\n",
        "    kta = KTA(kernel_matrix_train_current, Y_train, y_outer)\n",
        "    kta_values.append(kta)\n",
        "    # Update best theta and KTA if necessary\n",
        "    if kta > best_kta:\n",
        "        best_kta = kta\n",
        "        best_theta = current_theta\n",
        "\n",
        "    # Print current progress\n",
        "    progress = '/'.join(map(str, steps))\n",
        "    print(f\"Step {progress}/{num_theta_steps} - Current KTA: {kta:.4f}\")\n",
        "\n",
        "\n",
        "# Saving theta and KTA values\n",
        "with open('theta_values.pkl', 'wb') as f:\n",
        "    pickle.dump(theta_values, f)\n",
        "with open('kta_values.pkl', 'wb') as f:\n",
        "    pickle.dump(kta_values, f)\n",
        "\n",
        "# Print the best theta and corresponding KTA\n",
        "print(\"Best Theta:\", best_theta)\n",
        "print(\"Best KTA:\", best_kta)\n",
        "'''"
      ]
    },
    {
      "cell_type": "code",
      "execution_count": null,
      "metadata": {
        "colab": {
          "base_uri": "https://localhost:8080/"
        },
        "id": "5lFftZ5C-PMC",
        "outputId": "2fd598d6-94a6-4a76-d764-cf31a37ca183"
      },
      "outputs": [
        {
          "name": "stdout",
          "output_type": "stream",
          "text": [
            "\u001b[31mERROR: Could not find a version that satisfies the requirement itertools (from versions: none)\u001b[0m\u001b[31m\n",
            "\u001b[0m\u001b[31mERROR: No matching distribution found for itertools\u001b[0m\u001b[31m\n",
            "\u001b[0m"
          ]
        }
      ],
      "source": [
        "pip install itertools"
      ]
    },
    {
      "cell_type": "code",
      "execution_count": null,
      "metadata": {
        "colab": {
          "base_uri": "https://localhost:8080/"
        },
        "id": "z2Z5qele-S_J",
        "outputId": "dc9ff08a-8650-4bb1-fcc8-fbff5dd8c8e8"
      },
      "outputs": [
        {
          "name": "stdout",
          "output_type": "stream",
          "text": [
            "\u001b[31mERROR: Could not find a version that satisfies the requirement pickle (from versions: none)\u001b[0m\u001b[31m\n",
            "\u001b[0m\u001b[31mERROR: No matching distribution found for pickle\u001b[0m\u001b[31m\n",
            "\u001b[0m"
          ]
        }
      ],
      "source": [
        "pip install pickle"
      ]
    },
    {
      "cell_type": "code",
      "execution_count": null,
      "metadata": {
        "colab": {
          "base_uri": "https://localhost:8080/",
          "height": 366
        },
        "id": "uZbICB-d-K1F",
        "outputId": "67381193-c14b-46b7-95f5-f72d9ce10fb6"
      },
      "outputs": [
        {
          "ename": "NameError",
          "evalue": "ignored",
          "output_type": "error",
          "traceback": [
            "\u001b[0;31m---------------------------------------------------------------------------\u001b[0m",
            "\u001b[0;31mNameError\u001b[0m                                 Traceback (most recent call last)",
            "\u001b[0;32m<ipython-input-10-07fe0c7a2b99>\u001b[0m in \u001b[0;36m<cell line: 13>\u001b[0;34m()\u001b[0m\n\u001b[1;32m     17\u001b[0m \u001b[0;34m\u001b[0m\u001b[0m\n\u001b[1;32m     18\u001b[0m     \u001b[0;31m# Create a binding dictionary for all the theta values\u001b[0m\u001b[0;34m\u001b[0m\u001b[0;34m\u001b[0m\u001b[0m\n\u001b[0;32m---> 19\u001b[0;31m     \u001b[0mbinding_dict\u001b[0m \u001b[0;34m=\u001b[0m \u001b[0;34m{\u001b[0m\u001b[0mtraining_params\u001b[0m\u001b[0;34m[\u001b[0m\u001b[0mi\u001b[0m\u001b[0;34m]\u001b[0m\u001b[0;34m:\u001b[0m \u001b[0mcurrent_theta\u001b[0m\u001b[0;34m[\u001b[0m\u001b[0mi\u001b[0m\u001b[0;34m]\u001b[0m \u001b[0;32mfor\u001b[0m \u001b[0mi\u001b[0m \u001b[0;32min\u001b[0m \u001b[0mrange\u001b[0m\u001b[0;34m(\u001b[0m\u001b[0mnum_features\u001b[0m\u001b[0;34m)\u001b[0m\u001b[0;34m}\u001b[0m\u001b[0;34m\u001b[0m\u001b[0;34m\u001b[0m\u001b[0m\n\u001b[0m\u001b[1;32m     20\u001b[0m \u001b[0;34m\u001b[0m\u001b[0m\n\u001b[1;32m     21\u001b[0m     \u001b[0;31m# Bind the current theta values to the feature map\u001b[0m\u001b[0;34m\u001b[0m\u001b[0;34m\u001b[0m\u001b[0m\n",
            "\u001b[0;32m<ipython-input-10-07fe0c7a2b99>\u001b[0m in \u001b[0;36m<dictcomp>\u001b[0;34m(.0)\u001b[0m\n\u001b[1;32m     17\u001b[0m \u001b[0;34m\u001b[0m\u001b[0m\n\u001b[1;32m     18\u001b[0m     \u001b[0;31m# Create a binding dictionary for all the theta values\u001b[0m\u001b[0;34m\u001b[0m\u001b[0;34m\u001b[0m\u001b[0m\n\u001b[0;32m---> 19\u001b[0;31m     \u001b[0mbinding_dict\u001b[0m \u001b[0;34m=\u001b[0m \u001b[0;34m{\u001b[0m\u001b[0mtraining_params\u001b[0m\u001b[0;34m[\u001b[0m\u001b[0mi\u001b[0m\u001b[0;34m]\u001b[0m\u001b[0;34m:\u001b[0m \u001b[0mcurrent_theta\u001b[0m\u001b[0;34m[\u001b[0m\u001b[0mi\u001b[0m\u001b[0;34m]\u001b[0m \u001b[0;32mfor\u001b[0m \u001b[0mi\u001b[0m \u001b[0;32min\u001b[0m \u001b[0mrange\u001b[0m\u001b[0;34m(\u001b[0m\u001b[0mnum_features\u001b[0m\u001b[0;34m)\u001b[0m\u001b[0;34m}\u001b[0m\u001b[0;34m\u001b[0m\u001b[0;34m\u001b[0m\u001b[0m\n\u001b[0m\u001b[1;32m     20\u001b[0m \u001b[0;34m\u001b[0m\u001b[0m\n\u001b[1;32m     21\u001b[0m     \u001b[0;31m# Bind the current theta values to the feature map\u001b[0m\u001b[0;34m\u001b[0m\u001b[0;34m\u001b[0m\u001b[0m\n",
            "\u001b[0;31mNameError\u001b[0m: name 'training_params' is not defined"
          ]
        }
      ],
      "source": [
        "import itertools\n",
        "import pickle\n",
        "\n",
        "num_theta_steps = 10\n",
        "best_kta = 0.0\n",
        "num_features = 4\n",
        "best_theta = [0.0] * num_features\n",
        "\n",
        "theta_values = []  # To store the theta values\n",
        "kta_values = []    # To store the KTA values\n",
        "\n",
        "import itertools\n",
        "for steps in itertools.product(range(num_theta_steps), repeat=num_features):\n",
        "    current_theta = [step * (2 * np.pi) / num_theta_steps for step in steps]\n",
        "    theta_values.append(current_theta)\n",
        "\n",
        "\n",
        "    # Create a binding dictionary for all the theta values\n",
        "    binding_dict = {training_params[i]: current_theta[i] for i in range(num_features)}\n",
        "\n",
        "    # Bind the current theta values to the feature map\n",
        "    bound_map = feature_map.bind_parameters(binding_dict)\n",
        "    kernel_matrix_train_current = kernel(bound_map).evaluate(x_vec=X_train)\n",
        "\n",
        "    # Calculate KTA for the current theta values\n",
        "    kta = KTA(kernel_matrix_train_current, Y_train, y_outer)\n",
        "    kta_values.append(kta)\n",
        "    # Update best theta and KTA if necessary\n",
        "    if kta > best_kta:\n",
        "        best_kta = kta\n",
        "        best_theta = current_theta\n",
        "\n",
        "    # Print current progress\n",
        "    progress = '/'.join(map(str, steps))\n",
        "    print(f\"Step {progress}/{num_theta_steps} - Current KTA: {kta:.4f}\")\n",
        "\n",
        "\n",
        "# Saving theta and KTA values\n",
        "with open('theta_values.pkl', 'wb') as f:\n",
        "    pickle.dump(theta_values, f)\n",
        "with open('kta_values.pkl', 'wb') as f:\n",
        "    pickle.dump(kta_values, f)\n",
        "\n",
        "# Print the best theta and corresponding KTA\n",
        "print(\"Best Theta:\", best_theta)\n",
        "print(\"Best KTA:\", best_kta)\n"
      ]
    },
    {
      "cell_type": "code",
      "execution_count": null,
      "metadata": {
        "id": "vAsaXNGB-NNG"
      },
      "outputs": [],
      "source": []
    },
    {
      "cell_type": "markdown",
      "metadata": {
        "id": "BhkTscXbI_CW"
      },
      "source": []
    }
  ],
  "metadata": {
    "colab": {
      "provenance": []
    },
    "kernelspec": {
      "display_name": "Python 3",
      "name": "python3"
    },
    "language_info": {
      "name": "python"
    }
  },
  "nbformat": 4,
  "nbformat_minor": 0
}